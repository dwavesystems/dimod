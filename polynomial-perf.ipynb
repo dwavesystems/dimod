{
 "cells": [
  {
   "cell_type": "markdown",
   "id": "182a16c4-4777-4ec3-99b1-476914c2ec1b",
   "metadata": {},
   "source": [
    "# Current"
   ]
  },
  {
   "cell_type": "markdown",
   "id": "11b1cb71-4f1b-441f-a6bf-93d430ac5356",
   "metadata": {
    "tags": []
   },
   "source": [
    "## Create test example"
   ]
  },
  {
   "cell_type": "code",
   "execution_count": 1,
   "id": "61901771-5a93-4cc9-a180-0cc2cc580a53",
   "metadata": {},
   "outputs": [],
   "source": [
    "%load_ext autoreload\n",
    "%autoreload 2"
   ]
  },
  {
   "cell_type": "code",
   "execution_count": 2,
   "id": "b0d92f0d-3549-4619-a272-a324ef475104",
   "metadata": {},
   "outputs": [],
   "source": [
    "import string, random, toolz, pandas, importlib, sys, os"
   ]
  },
  {
   "cell_type": "code",
   "execution_count": 3,
   "id": "d2c51a56-7617-427e-8ec5-12e4a0fc0a08",
   "metadata": {},
   "outputs": [],
   "source": [
    "terms = [(term, 1) for term in str(random.choices(string.ascii_letters, k=10**7)).split('Z')]"
   ]
  },
  {
   "cell_type": "code",
   "execution_count": 4,
   "id": "1f8a40cc-df42-4f45-9220-afd1f212239f",
   "metadata": {},
   "outputs": [
    {
     "data": {
      "text/plain": [
<<<<<<< Updated upstream
       "count    193091.000000\n",
       "mean        257.945269\n",
       "std         256.685709\n",
=======
       "count    192160.000000\n",
       "mean        259.199839\n",
       "std         256.922932\n",
>>>>>>> Stashed changes
       "min           4.000000\n",
       "25%          74.000000\n",
       "50%         179.000000\n",
       "75%         359.000000\n",
<<<<<<< Updated upstream
       "max        3319.000000\n",
=======
       "max        3174.000000\n",
>>>>>>> Stashed changes
       "dtype: float64"
      ]
     },
     "execution_count": 4,
     "metadata": {},
     "output_type": "execute_result"
    }
   ],
   "source": [
    "pandas.Series(len(term) for term, _ in terms).describe()"
   ]
  },
  {
   "cell_type": "markdown",
   "id": "ed7030e6-6d63-4f54-a8af-13e938191812",
   "metadata": {},
   "source": [
    "## Run current version"
   ]
  },
  {
   "cell_type": "code",
   "execution_count": 5,
   "id": "bc701097-6aa9-44a1-8673-b2777e84e929",
   "metadata": {},
   "outputs": [
    {
     "name": "stdout",
     "output_type": "stream",
     "text": [
<<<<<<< Updated upstream
=======
      "Saved working directory and index state WIP on binary-polynomial: bc4521f added symbolic arithmetic refactored relabel_variables, to_binary, to_spin filter out 0 coefficient terms in polynomial construction\n",
>>>>>>> Stashed changes
      "Switched to branch 'main'\n",
      "Your branch and 'upstream/main' have diverged,\n",
      "and have 1 and 2 different commits each, respectively.\n",
      "  (use \"git pull\" to merge the remote branch into yours)\n"
     ]
    }
   ],
   "source": [
    "!git checkout main\n",
    "#importlib.reload(dimod)"
   ]
  },
  {
   "cell_type": "code",
   "execution_count": 6,
   "id": "0dff8f12-ff29-4991-ad7c-8bb9d6367f5e",
   "metadata": {},
   "outputs": [],
   "source": [
    "from dimod import BinaryPolynomial as BPold\n",
    "import dimod"
   ]
  },
  {
   "cell_type": "code",
   "execution_count": 7,
   "id": "ec77f944-27b1-47ce-b141-2b8d6fc3f116",
   "metadata": {},
   "outputs": [
    {
     "data": {
      "text/plain": [
       "\u001b[0;31mSignature:\u001b[0m \u001b[0mBPold\u001b[0m\u001b[0;34m.\u001b[0m\u001b[0m__init__\u001b[0m\u001b[0;34m(\u001b[0m\u001b[0mself\u001b[0m\u001b[0;34m,\u001b[0m \u001b[0mpoly\u001b[0m\u001b[0;34m,\u001b[0m \u001b[0mvartype\u001b[0m\u001b[0;34m)\u001b[0m\u001b[0;34m\u001b[0m\u001b[0;34m\u001b[0m\u001b[0m\n",
       "\u001b[0;31mDocstring:\u001b[0m Initialize self.  See help(type(self)) for accurate signature.\n",
       "\u001b[0;31mSource:\u001b[0m   \n",
       "    \u001b[0;34m@\u001b[0m\u001b[0mvartype_argument\u001b[0m\u001b[0;34m(\u001b[0m\u001b[0;34m'vartype'\u001b[0m\u001b[0;34m)\u001b[0m\u001b[0;34m\u001b[0m\n",
       "\u001b[0;34m\u001b[0m    \u001b[0;32mdef\u001b[0m \u001b[0m__init__\u001b[0m\u001b[0;34m(\u001b[0m\u001b[0mself\u001b[0m\u001b[0;34m,\u001b[0m \u001b[0mpoly\u001b[0m\u001b[0;34m,\u001b[0m \u001b[0mvartype\u001b[0m\u001b[0;34m)\u001b[0m\u001b[0;34m:\u001b[0m\u001b[0;34m\u001b[0m\n",
       "\u001b[0;34m\u001b[0m        \u001b[0;32mif\u001b[0m \u001b[0misinstance\u001b[0m\u001b[0;34m(\u001b[0m\u001b[0mpoly\u001b[0m\u001b[0;34m,\u001b[0m \u001b[0mabc\u001b[0m\u001b[0;34m.\u001b[0m\u001b[0mMapping\u001b[0m\u001b[0;34m)\u001b[0m\u001b[0;34m:\u001b[0m\u001b[0;34m\u001b[0m\n",
       "\u001b[0;34m\u001b[0m            \u001b[0mpoly\u001b[0m \u001b[0;34m=\u001b[0m \u001b[0mpoly\u001b[0m\u001b[0;34m.\u001b[0m\u001b[0mitems\u001b[0m\u001b[0;34m(\u001b[0m\u001b[0;34m)\u001b[0m\u001b[0;34m\u001b[0m\n",
       "\u001b[0;34m\u001b[0m\u001b[0;34m\u001b[0m\n",
       "\u001b[0;34m\u001b[0m        \u001b[0;31m# we need to aggregate the repeated terms\u001b[0m\u001b[0;34m\u001b[0m\n",
       "\u001b[0;34m\u001b[0m        \u001b[0mself\u001b[0m\u001b[0;34m.\u001b[0m\u001b[0m_terms\u001b[0m \u001b[0;34m=\u001b[0m \u001b[0mterms\u001b[0m \u001b[0;34m=\u001b[0m \u001b[0;34m{\u001b[0m\u001b[0;34m}\u001b[0m\u001b[0;34m\u001b[0m\n",
       "\u001b[0;34m\u001b[0m        \u001b[0;32mfor\u001b[0m \u001b[0mterm\u001b[0m\u001b[0;34m,\u001b[0m \u001b[0mbias\u001b[0m \u001b[0;32min\u001b[0m \u001b[0mpoly\u001b[0m\u001b[0;34m:\u001b[0m\u001b[0;34m\u001b[0m\n",
       "\u001b[0;34m\u001b[0m\u001b[0;34m\u001b[0m\n",
       "\u001b[0;34m\u001b[0m            \u001b[0mfsterm\u001b[0m \u001b[0;34m=\u001b[0m \u001b[0masfrozenset\u001b[0m\u001b[0;34m(\u001b[0m\u001b[0mterm\u001b[0m\u001b[0;34m)\u001b[0m\u001b[0;34m\u001b[0m\n",
       "\u001b[0;34m\u001b[0m\u001b[0;34m\u001b[0m\n",
       "\u001b[0;34m\u001b[0m            \u001b[0;31m# when SPIN-valued, s^2 == 1, so we need to handle that case\u001b[0m\u001b[0;34m\u001b[0m\n",
       "\u001b[0;34m\u001b[0m            \u001b[0;31m# in BINARY, x^2 == x\u001b[0m\u001b[0;34m\u001b[0m\n",
       "\u001b[0;34m\u001b[0m            \u001b[0;32mif\u001b[0m \u001b[0mlen\u001b[0m\u001b[0;34m(\u001b[0m\u001b[0mfsterm\u001b[0m\u001b[0;34m)\u001b[0m \u001b[0;34m<\u001b[0m \u001b[0mlen\u001b[0m\u001b[0;34m(\u001b[0m\u001b[0mterm\u001b[0m\u001b[0;34m)\u001b[0m \u001b[0;32mand\u001b[0m \u001b[0mvartype\u001b[0m \u001b[0;32mis\u001b[0m \u001b[0mVartype\u001b[0m\u001b[0;34m.\u001b[0m\u001b[0mSPIN\u001b[0m\u001b[0;34m:\u001b[0m\u001b[0;34m\u001b[0m\n",
       "\u001b[0;34m\u001b[0m                \u001b[0mnew\u001b[0m \u001b[0;34m=\u001b[0m \u001b[0mset\u001b[0m\u001b[0;34m(\u001b[0m\u001b[0;34m)\u001b[0m\u001b[0;34m\u001b[0m\n",
       "\u001b[0;34m\u001b[0m                \u001b[0mterm\u001b[0m \u001b[0;34m=\u001b[0m \u001b[0mtuple\u001b[0m\u001b[0;34m(\u001b[0m\u001b[0mterm\u001b[0m\u001b[0;34m)\u001b[0m  \u001b[0;31m# make sure it has .count\u001b[0m\u001b[0;34m\u001b[0m\n",
       "\u001b[0;34m\u001b[0m                \u001b[0;32mfor\u001b[0m \u001b[0mv\u001b[0m \u001b[0;32min\u001b[0m \u001b[0mfsterm\u001b[0m\u001b[0;34m:\u001b[0m\u001b[0;34m\u001b[0m\n",
       "\u001b[0;34m\u001b[0m                    \u001b[0;32mif\u001b[0m \u001b[0mterm\u001b[0m\u001b[0;34m.\u001b[0m\u001b[0mcount\u001b[0m\u001b[0;34m(\u001b[0m\u001b[0mv\u001b[0m\u001b[0;34m)\u001b[0m \u001b[0;34m%\u001b[0m \u001b[0;36m2\u001b[0m\u001b[0;34m:\u001b[0m\u001b[0;34m\u001b[0m\n",
       "\u001b[0;34m\u001b[0m                        \u001b[0mnew\u001b[0m\u001b[0;34m.\u001b[0m\u001b[0madd\u001b[0m\u001b[0;34m(\u001b[0m\u001b[0mv\u001b[0m\u001b[0;34m)\u001b[0m\u001b[0;34m\u001b[0m\n",
       "\u001b[0;34m\u001b[0m                \u001b[0mfsterm\u001b[0m \u001b[0;34m=\u001b[0m \u001b[0mfrozenset\u001b[0m\u001b[0;34m(\u001b[0m\u001b[0mnew\u001b[0m\u001b[0;34m)\u001b[0m\u001b[0;34m\u001b[0m\n",
       "\u001b[0;34m\u001b[0m\u001b[0;34m\u001b[0m\n",
       "\u001b[0;34m\u001b[0m            \u001b[0;32mif\u001b[0m \u001b[0mfsterm\u001b[0m \u001b[0;32min\u001b[0m \u001b[0mterms\u001b[0m\u001b[0;34m:\u001b[0m\u001b[0;34m\u001b[0m\n",
       "\u001b[0;34m\u001b[0m                \u001b[0mterms\u001b[0m\u001b[0;34m[\u001b[0m\u001b[0mfsterm\u001b[0m\u001b[0;34m]\u001b[0m \u001b[0;34m+=\u001b[0m \u001b[0mbias\u001b[0m\u001b[0;34m\u001b[0m\n",
       "\u001b[0;34m\u001b[0m            \u001b[0;32melse\u001b[0m\u001b[0;34m:\u001b[0m\u001b[0;34m\u001b[0m\n",
       "\u001b[0;34m\u001b[0m                \u001b[0mterms\u001b[0m\u001b[0;34m[\u001b[0m\u001b[0mfsterm\u001b[0m\u001b[0;34m]\u001b[0m \u001b[0;34m=\u001b[0m \u001b[0mbias\u001b[0m\u001b[0;34m\u001b[0m\n",
       "\u001b[0;34m\u001b[0m\u001b[0;34m\u001b[0m\n",
       "\u001b[0;34m\u001b[0m        \u001b[0mself\u001b[0m\u001b[0;34m.\u001b[0m\u001b[0mvartype\u001b[0m \u001b[0;34m=\u001b[0m \u001b[0mvartype\u001b[0m\u001b[0;34m\u001b[0m\u001b[0;34m\u001b[0m\u001b[0m\n",
       "\u001b[0;31mFile:\u001b[0m      ~/dimod/dimod/higherorder/polynomial.py\n",
       "\u001b[0;31mType:\u001b[0m      function\n"
      ]
     },
     "metadata": {},
     "output_type": "display_data"
    }
   ],
   "source": [
    "BPold.__init__??"
   ]
  },
  {
   "cell_type": "code",
   "execution_count": 8,
   "id": "e4cfa0c6-b7d4-4642-82fb-9eba71ab340b",
   "metadata": {},
   "outputs": [
    {
     "name": "stdout",
     "output_type": "stream",
     "text": [
      " "
     ]
    },
    {
     "data": {
      "text/plain": [
<<<<<<< Updated upstream
       "         9739394 function calls (9739314 primitive calls) in 28.259 seconds\n",
=======
       "         9711530 function calls (9711450 primitive calls) in 48.033 seconds\n",
>>>>>>> Stashed changes
       "\n",
       "   Ordered by: cumulative time\n",
       "   List reduced from 47 to 20 due to restriction <20>\n",
       "\n",
       "   ncalls  tottime  percall  cumtime  percall filename:lineno(function)\n",
<<<<<<< Updated upstream
       "        1    0.000    0.000   28.259   28.259 {built-in method builtins.exec}\n",
       "        1    0.000    0.000   28.259   28.259 <string>:1(<module>)\n",
       "        1    0.000    0.000   28.259   28.259 decorators.py:289(new_f)\n",
       "        1    2.699    2.699   28.259   28.259 polynomial.py:89(__init__)\n",
       "  5492601   24.575    0.000   24.575    0.000 {method 'count' of 'tuple' objects}\n",
       "   193091    0.614    0.000    0.645    0.000 polynomial.py:32(asfrozenset)\n",
       "  3474226    0.298    0.000    0.298    0.000 {method 'add' of 'set' objects}\n",
       "   386184    0.042    0.000    0.042    0.000 {built-in method builtins.len}\n",
       "   193101    0.030    0.000    0.030    0.000 {built-in method builtins.isinstance}\n",
=======
       "        1    0.000    0.000   48.033   48.033 {built-in method builtins.exec}\n",
       "        1    0.000    0.000   48.033   48.033 <string>:1(<module>)\n",
       "        1    0.000    0.000   48.033   48.033 decorators.py:289(new_f)\n",
       "        1    7.909    7.909   48.033   48.033 polynomial.py:89(__init__)\n",
       "  5482062   38.220    0.000   38.220    0.000 {method 'count' of 'tuple' objects}\n",
       "   192160    1.075    0.000    1.135    0.000 polynomial.py:32(asfrozenset)\n",
       "  3460625    0.690    0.000    0.690    0.000 {method 'add' of 'set' objects}\n",
       "   384322    0.079    0.000    0.079    0.000 {built-in method builtins.len}\n",
       "   192170    0.060    0.000    0.060    0.000 {built-in method builtins.isinstance}\n",
>>>>>>> Stashed changes
       "        1    0.000    0.000    0.000    0.000 abc.py:96(__instancecheck__)\n",
       "        1    0.000    0.000    0.000    0.000 {built-in method _abc._abc_instancecheck}\n",
       "     41/1    0.000    0.000    0.000    0.000 abc.py:100(__subclasscheck__)\n",
       "     41/1    0.000    0.000    0.000    0.000 {built-in method _abc._abc_subclasscheck}\n",
       "        1    0.000    0.000    0.000    0.000 inspect.py:1340(getcallargs)\n",
       "        1    0.000    0.000    0.000    0.000 inspect.py:1102(getfullargspec)\n",
       "        1    0.000    0.000    0.000    0.000 inspect.py:2218(_signature_from_callable)\n",
       "        1    0.000    0.000    0.000    0.000 inspect.py:2124(_signature_from_function)\n",
       "        3    0.000    0.000    0.000    0.000 inspect.py:2489(__init__)\n",
<<<<<<< Updated upstream
       "        1    0.000    0.000    0.000    0.000 inspect.py:2772(__init__)\n",
       "        1    0.000    0.000    0.000    0.000 decorators.py:281(_enforce_single_arg)"
=======
       "        1    0.000    0.000    0.000    0.000 decorators.py:281(_enforce_single_arg)\n",
       "        1    0.000    0.000    0.000    0.000 vartypes.py:127(as_vartype)"
>>>>>>> Stashed changes
      ]
     },
     "metadata": {},
     "output_type": "display_data"
    }
   ],
   "source": [
    "%%prun -s cumtime -l 20\n",
    "bp = BPold(terms, 'SPIN')"
   ]
  },
  {
   "cell_type": "code",
   "execution_count": 9,
   "id": "a74eb4b1-a59a-49d7-8e36-95ea91a7a12b",
   "metadata": {},
   "outputs": [
    {
     "data": {
      "text/html": [
       "<div>\n",
       "<style scoped>\n",
       "    .dataframe tbody tr th:only-of-type {\n",
       "        vertical-align: middle;\n",
       "    }\n",
       "\n",
       "    .dataframe tbody tr th {\n",
       "        vertical-align: top;\n",
       "    }\n",
       "\n",
       "    .dataframe thead th {\n",
       "        text-align: right;\n",
       "    }\n",
       "</style>\n",
       "<table border=\"1\" class=\"dataframe\">\n",
       "  <thead>\n",
       "    <tr style=\"text-align: right;\">\n",
       "      <th></th>\n",
       "      <th>0</th>\n",
       "      <th>1</th>\n",
       "    </tr>\n",
       "  </thead>\n",
       "  <tbody>\n",
       "    <tr>\n",
       "      <th>count</th>\n",
<<<<<<< Updated upstream
       "      <td>182233.000000</td>\n",
       "      <td>182233.000000</td>\n",
       "    </tr>\n",
       "    <tr>\n",
       "      <th>mean</th>\n",
       "      <td>18.934386</td>\n",
       "      <td>1.059583</td>\n",
       "    </tr>\n",
       "    <tr>\n",
       "      <th>std</th>\n",
       "      <td>7.545862</td>\n",
       "      <td>9.112464</td>\n",
=======
       "      <td>181561.000000</td>\n",
       "      <td>181561.000000</td>\n",
       "    </tr>\n",
       "    <tr>\n",
       "      <th>mean</th>\n",
       "      <td>18.931703</td>\n",
       "      <td>1.058377</td>\n",
       "    </tr>\n",
       "    <tr>\n",
       "      <th>std</th>\n",
       "      <td>7.552280</td>\n",
       "      <td>8.721284</td>\n",
>>>>>>> Stashed changes
       "    </tr>\n",
       "    <tr>\n",
       "      <th>min</th>\n",
       "      <td>1.000000</td>\n",
       "      <td>1.000000</td>\n",
       "    </tr>\n",
       "    <tr>\n",
       "      <th>25%</th>\n",
       "      <td>13.000000</td>\n",
       "      <td>1.000000</td>\n",
       "    </tr>\n",
       "    <tr>\n",
       "      <th>50%</th>\n",
       "      <td>20.000000</td>\n",
       "      <td>1.000000</td>\n",
       "    </tr>\n",
       "    <tr>\n",
       "      <th>75%</th>\n",
       "      <td>25.000000</td>\n",
       "      <td>1.000000</td>\n",
       "    </tr>\n",
       "    <tr>\n",
       "      <th>max</th>\n",
<<<<<<< Updated upstream
       "      <td>40.000000</td>\n",
       "      <td>3851.000000</td>\n",
=======
       "      <td>42.000000</td>\n",
       "      <td>3677.000000</td>\n",
>>>>>>> Stashed changes
       "    </tr>\n",
       "  </tbody>\n",
       "</table>\n",
       "</div>"
      ],
      "text/plain": [
       "                   0              1\n",
<<<<<<< Updated upstream
       "count  182233.000000  182233.000000\n",
       "mean       18.934386       1.059583\n",
       "std         7.545862       9.112464\n",
=======
       "count  181561.000000  181561.000000\n",
       "mean       18.931703       1.058377\n",
       "std         7.552280       8.721284\n",
>>>>>>> Stashed changes
       "min         1.000000       1.000000\n",
       "25%        13.000000       1.000000\n",
       "50%        20.000000       1.000000\n",
       "75%        25.000000       1.000000\n",
<<<<<<< Updated upstream
       "max        40.000000    3851.000000"
=======
       "max        42.000000    3677.000000"
>>>>>>> Stashed changes
      ]
     },
     "execution_count": 9,
     "metadata": {},
     "output_type": "execute_result"
    }
   ],
   "source": [
    "pandas.DataFrame((len(term), bias) for term, bias in bp.items()).describe()"
   ]
  },
  {
<<<<<<< Updated upstream
=======
   "cell_type": "code",
   "execution_count": null,
   "id": "6f8463b3-a6fe-4841-918f-33743295181f",
   "metadata": {},
   "outputs": [],
   "source": []
  },
  {
   "cell_type": "code",
   "execution_count": 10,
   "id": "ce407274-b49c-4dc5-8fc0-69a5753029c7",
   "metadata": {
    "tags": []
   },
   "outputs": [],
   "source": [
    "term = string.ascii_letters[:12]"
   ]
  },
  {
   "cell_type": "code",
   "execution_count": 11,
   "id": "0834a2d8-5e01-4a40-9541-0a871f18ff2a",
   "metadata": {},
   "outputs": [
    {
     "name": "stdout",
     "output_type": "stream",
     "text": [
      "1.14 s ± 310 ms per loop (mean ± std. dev. of 7 runs, 1 loop each)\n"
     ]
    },
    {
     "data": {
      "text/plain": [
       "True"
      ]
     },
     "execution_count": 11,
     "metadata": {},
     "output_type": "execute_result"
    }
   ],
   "source": [
    "%timeit BPold({term: 1}, 'SPIN').to_binary().to_spin() == BPold({term: 1}, 'SPIN')\n",
    "BPold({term: 1}, 'SPIN').to_binary().to_spin() == BPold({term: 1}, 'SPIN')"
   ]
  },
  {
   "cell_type": "code",
   "execution_count": 12,
   "id": "a7e72459-4dce-458d-84d4-bf6ddf925e33",
   "metadata": {},
   "outputs": [
    {
     "name": "stdout",
     "output_type": "stream",
     "text": [
      "1.22 s ± 265 ms per loop (mean ± std. dev. of 7 runs, 1 loop each)\n"
     ]
    },
    {
     "data": {
      "text/plain": [
       "True"
      ]
     },
     "execution_count": 12,
     "metadata": {},
     "output_type": "execute_result"
    }
   ],
   "source": [
    "%timeit BPold({term: 1}, 'BINARY').to_spin().to_binary() == BPold({term: 1}, 'BINARY')\n",
    "BPold({term: 1}, 'BINARY').to_spin().to_binary() == BPold({term: 1}, 'BINARY')"
   ]
  },
  {
   "cell_type": "code",
   "execution_count": 13,
   "id": "a8af1d2f-e9d4-4fe6-9129-173589c30d9b",
   "metadata": {},
   "outputs": [
    {
     "data": {
      "text/plain": [
       "4096"
      ]
     },
     "execution_count": 13,
     "metadata": {},
     "output_type": "execute_result"
    }
   ],
   "source": [
    "len(BPold({term: 1}, 'SPIN').to_binary().to_spin())"
   ]
  },
  {
   "cell_type": "code",
   "execution_count": 14,
   "id": "45b7c9d6-cc7a-475e-adaf-8fa4649119a6",
   "metadata": {},
   "outputs": [
    {
     "data": {
      "text/plain": [
       "4096"
      ]
     },
     "execution_count": 14,
     "metadata": {},
     "output_type": "execute_result"
    }
   ],
   "source": [
    "len(BPold({term: 1}, 'BINARY').to_spin().to_binary())"
   ]
  },
  {
   "cell_type": "code",
   "execution_count": 15,
   "id": "a4a0ea46-a6a5-47f7-8f4e-47fa480c492d",
   "metadata": {},
   "outputs": [
    {
     "name": "stdout",
     "output_type": "stream",
     "text": [
      " "
     ]
    },
    {
     "data": {
      "text/plain": [
       "         19196037 function calls (19196032 primitive calls) in 21.734 seconds\n",
       "\n",
       "   Ordered by: cumulative time\n",
       "   List reduced from 66 to 20 due to restriction <20>\n",
       "\n",
       "   ncalls  tottime  percall  cumtime  percall filename:lineno(function)\n",
       "        1    0.000    0.000   21.734   21.734 {built-in method builtins.exec}\n",
       "        1    0.000    0.000   21.733   21.733 <string>:1(<module>)\n",
       "      2/1   15.297    7.648   21.733   21.733 polynomial.py:232(relabel_variables)\n",
       "  7237640    2.147    0.000    2.887    0.000 polynomial.py:256(<genexpr>)\n",
       "   544686    1.648    0.000    2.116    0.000 _collections_abc.py:742(__iter__)\n",
       "  6874522    0.740    0.000    0.740    0.000 {method 'get' of 'dict' objects}\n",
       "   363120    0.462    0.000    0.608    0.000 polynomial.py:158(__setitem__)\n",
       "        1    0.000    0.000    0.517    0.517 polynomial.py:177(copy)\n",
       "        1    0.000    0.000    0.517    0.517 decorators.py:289(new_f)\n",
       "        1    0.200    0.200    0.517    0.517 polynomial.py:89(__init__)\n",
       "  1452484    0.347    0.000    0.479    0.000 polynomial.py:32(asfrozenset)\n",
       "   544683    0.313    0.000    0.468    0.000 polynomial.py:149(__getitem__)\n",
       "   363120    0.282    0.000    0.409    0.000 polynomial.py:120(__delitem__)\n",
       "        1    0.012    0.012    0.134    0.134 polynomial.py:165(variables)\n",
       "  1452493    0.132    0.000    0.132    0.000 {built-in method builtins.isinstance}\n",
       "        1    0.122    0.122    0.122    0.122 {method 'union' of 'set' objects}\n",
       "363133/363129    0.031    0.000    0.031    0.000 {built-in method builtins.len}\n",
       "        1    0.000    0.000    0.000    0.000 inspect.py:1340(getcallargs)\n",
       "        3    0.000    0.000    0.000    0.000 utilities.py:351(iter_safe_relabels)\n",
       "        1    0.000    0.000    0.000    0.000 inspect.py:1102(getfullargspec)"
      ]
     },
     "metadata": {},
     "output_type": "display_data"
    }
   ],
   "source": [
    "prun -s cumtime -l 20 bp2 = bp.relabel_variables(dict(zip(string.ascii_letters, reversed(string.ascii_letters))), inplace=False)"
   ]
  },
  {
   "cell_type": "code",
   "execution_count": 16,
   "id": "7eeadfa9-40e8-41c5-bcf5-39d1ca2fbd00",
   "metadata": {},
   "outputs": [
    {
     "name": "stdout",
     "output_type": "stream",
     "text": [
      " "
     ]
    },
    {
     "data": {
      "text/plain": [
       "         19196034 function calls (19196029 primitive calls) in 18.191 seconds\n",
       "\n",
       "   Ordered by: cumulative time\n",
       "   List reduced from 63 to 20 due to restriction <20>\n",
       "\n",
       "   ncalls  tottime  percall  cumtime  percall filename:lineno(function)\n",
       "        1    0.000    0.000   18.191   18.191 {built-in method builtins.exec}\n",
       "        1    0.000    0.000   18.191   18.191 <string>:1(<module>)\n",
       "      2/1    9.913    4.957   18.191   18.191 polynomial.py:232(relabel_variables)\n",
       "  7237640    2.937    0.000    3.940    0.000 polynomial.py:256(<genexpr>)\n",
       "   544686    1.989    0.000    2.508    0.000 _collections_abc.py:742(__iter__)\n",
       "  6874522    1.003    0.000    1.003    0.000 {method 'get' of 'dict' objects}\n",
       "   363120    0.674    0.000    0.886    0.000 polynomial.py:158(__setitem__)\n",
       "  1452484    0.430    0.000    0.592    0.000 polynomial.py:32(asfrozenset)\n",
       "   363120    0.404    0.000    0.565    0.000 polynomial.py:120(__delitem__)\n",
       "   544683    0.350    0.000    0.519    0.000 polynomial.py:149(__getitem__)\n",
       "        1    0.000    0.000    0.477    0.477 polynomial.py:177(copy)\n",
       "        1    0.000    0.000    0.477    0.477 decorators.py:289(new_f)\n",
       "        1    0.178    0.178    0.477    0.477 polynomial.py:89(__init__)\n",
       "  1452493    0.161    0.000    0.161    0.000 {built-in method builtins.isinstance}\n",
       "        1    0.009    0.009    0.122    0.122 polynomial.py:165(variables)\n",
       "        1    0.113    0.113    0.113    0.113 {method 'union' of 'set' objects}\n",
       "363133/363129    0.030    0.000    0.030    0.000 {built-in method builtins.len}\n",
       "        3    0.000    0.000    0.000    0.000 utilities.py:351(iter_safe_relabels)\n",
       "        1    0.000    0.000    0.000    0.000 inspect.py:1340(getcallargs)\n",
       "        1    0.000    0.000    0.000    0.000 inspect.py:1102(getfullargspec)"
      ]
     },
     "metadata": {},
     "output_type": "display_data"
    }
   ],
   "source": [
    "prun -s cumtime -l 20 bp3 = bp2.relabel_variables(dict(zip(string.ascii_letters, reversed(string.ascii_letters))), inplace=False)"
   ]
  },
  {
   "cell_type": "code",
   "execution_count": 17,
   "id": "0791493b-2ded-4b56-84ea-accb50f0de3d",
   "metadata": {},
   "outputs": [
    {
     "data": {
      "text/plain": [
       "False"
      ]
     },
     "execution_count": 17,
     "metadata": {},
     "output_type": "execute_result"
    }
   ],
   "source": [
    "bp == bp2"
   ]
  },
  {
   "cell_type": "code",
   "execution_count": 18,
   "id": "3efb0d30-46a3-41f5-bebc-7d9a18d17e41",
   "metadata": {},
   "outputs": [
    {
     "data": {
      "text/plain": [
       "True"
      ]
     },
     "execution_count": 18,
     "metadata": {},
     "output_type": "execute_result"
    }
   ],
   "source": [
    "bp == bp3"
   ]
  },
  {
   "cell_type": "code",
   "execution_count": 19,
   "id": "a81ab133-322d-4f93-a9d3-5abd8b49d6ab",
   "metadata": {},
   "outputs": [
    {
     "data": {
      "text/plain": [
       "False"
      ]
     },
     "execution_count": 19,
     "metadata": {},
     "output_type": "execute_result"
    }
   ],
   "source": [
    "bp2 == bp3"
   ]
  },
  {
>>>>>>> Stashed changes
   "cell_type": "markdown",
   "id": "81473689-9ece-45a7-85a0-389d0418be3e",
   "metadata": {
    "tags": []
   },
   "source": [
    "# Exit interpreter\n",
    "I just can't get module reloading to work properly here ..."
   ]
  },
  {
   "cell_type": "code",
<<<<<<< Updated upstream
   "execution_count": 10,
=======
   "execution_count": 20,
>>>>>>> Stashed changes
   "id": "673fe5b0-5934-4b40-a418-62122e867aa9",
   "metadata": {},
   "outputs": [],
   "source": [
    "## \n",
    "exit()\n",
    "#del BPold"
   ]
  },
  {
   "cell_type": "markdown",
   "id": "8d68e1c7-8d3c-40ae-acdd-360edccad297",
   "metadata": {},
   "source": [
    "# Proposed"
   ]
  },
  {
   "cell_type": "markdown",
   "id": "c2041ccc-e502-4135-b067-159d85043378",
   "metadata": {
    "tags": []
   },
   "source": [
    "## Create test example"
   ]
  },
  {
   "cell_type": "code",
   "execution_count": 55,
   "id": "370178a2-f029-4e9b-b4f7-f4c051df686c",
   "metadata": {},
   "outputs": [],
   "source": [
<<<<<<< Updated upstream
    "import string, random, toolz, pandas, importlib, sys, os"
=======
    "import string, random, toolz, pandas, importlib, sys, os, cytoolz, toolz, dimod"
>>>>>>> Stashed changes
   ]
  },
  {
   "cell_type": "code",
   "execution_count": 2,
   "id": "a2199fbe-fa29-4286-b93a-eadba3b739e3",
   "metadata": {},
   "outputs": [
    {
     "name": "stdout",
     "output_type": "stream",
     "text": [
      "CPU times: user 122 ms, sys: 20.4 ms, total: 142 ms\n",
      "Wall time: 141 ms\n"
     ]
    }
   ],
   "source": [
    "%time terms = [(term, 1) for term in ''.join(random.choices(string.ascii_letters, k=10**6)).split('Z')]"
   ]
  },
  {
   "cell_type": "code",
   "execution_count": 3,
   "id": "5707eff9-710b-4799-87bc-99bed0eed866",
   "metadata": {},
   "outputs": [
    {
     "data": {
      "text/plain": [
<<<<<<< Updated upstream
       "count    192325.000000\n",
       "mean        258.976607\n",
       "std         257.827839\n",
       "min           4.000000\n",
       "25%          74.000000\n",
       "50%         179.000000\n",
       "75%         359.000000\n",
       "max        3419.000000\n",
=======
       "count    19253.000000\n",
       "mean        50.940009\n",
       "std         51.333538\n",
       "min          0.000000\n",
       "25%         14.000000\n",
       "50%         35.000000\n",
       "75%         71.000000\n",
       "max        459.000000\n",
>>>>>>> Stashed changes
       "dtype: float64"
      ]
     },
     "execution_count": 3,
     "metadata": {},
     "output_type": "execute_result"
    }
   ],
   "source": [
    "pandas.Series(len(term) for term, _ in terms).describe()"
   ]
  },
  {
   "cell_type": "markdown",
   "id": "75dbfea5-3022-4652-89f2-e41f0b822abd",
   "metadata": {},
   "source": [
    "## Run proposed version"
   ]
  },
  {
   "cell_type": "code",
   "execution_count": 4,
   "id": "6f8b616f-1835-4723-83c3-dc189b891a94",
   "metadata": {},
   "outputs": [
    {
     "name": "stdout",
     "output_type": "stream",
     "text": [
<<<<<<< Updated upstream
      "M\tpolynomial-perf.ipynb\n",
      "Already on 'binary-polynomial'\n",
      "Your branch is ahead of 'origin/binary-polynomial' by 1 commit.\n",
      "  (use \"git push\" to publish your local commits)\n"
=======
      "M\tdimod/higherorder/polynomial.py\n",
      "M\tdimod/higherorder/utils.py\n",
      "D\tpolynomial-perf.ipynb\n",
      "Already on 'binary-polynomial'\n",
      "Your branch is ahead of 'origin/binary-polynomial' by 1 commit.\n",
      "  (use \"git push\" to publish your local commits)\n",
      "No stash entries found.\n"
>>>>>>> Stashed changes
     ]
    }
   ],
   "source": [
    "!git checkout binary-polynomial\n",
    "!touch -c ./dimod/higherorder/polynomial.py\n",
    "#importlib.reload(dimod)"
   ]
  },
  {
   "cell_type": "code",
   "execution_count": 5,
   "id": "6e5ac6a3-5a9a-4147-8909-0b09208d66c2",
   "metadata": {},
   "outputs": [],
   "source": [
    "from dimod import BinaryPolynomial as BPnew"
   ]
  },
  {
   "cell_type": "code",
   "execution_count": 6,
   "id": "b8472b21-b3e6-4c19-b860-d2631dd78065",
   "metadata": {},
   "outputs": [
    {
     "data": {
      "text/plain": [
       "\u001b[0;31mSignature:\u001b[0m \u001b[0mBPnew\u001b[0m\u001b[0;34m.\u001b[0m\u001b[0m__init__\u001b[0m\u001b[0;34m(\u001b[0m\u001b[0mself\u001b[0m\u001b[0;34m,\u001b[0m \u001b[0mpoly\u001b[0m\u001b[0;34m,\u001b[0m \u001b[0mvartype\u001b[0m\u001b[0;34m)\u001b[0m\u001b[0;34m\u001b[0m\u001b[0;34m\u001b[0m\u001b[0m\n",
       "\u001b[0;31mDocstring:\u001b[0m Initialize self.  See help(type(self)) for accurate signature.\n",
       "\u001b[0;31mSource:\u001b[0m   \n",
       "    \u001b[0;34m@\u001b[0m\u001b[0mvartype_argument\u001b[0m\u001b[0;34m(\u001b[0m\u001b[0;34m'vartype'\u001b[0m\u001b[0;34m)\u001b[0m\u001b[0;34m\u001b[0m\n",
       "\u001b[0;34m\u001b[0m    \u001b[0;32mdef\u001b[0m \u001b[0m__init__\u001b[0m\u001b[0;34m(\u001b[0m\u001b[0mself\u001b[0m\u001b[0;34m,\u001b[0m \u001b[0mpoly\u001b[0m\u001b[0;34m,\u001b[0m \u001b[0mvartype\u001b[0m\u001b[0;34m)\u001b[0m\u001b[0;34m:\u001b[0m\u001b[0;34m\u001b[0m\n",
       "\u001b[0;34m\u001b[0m        \u001b[0;32mif\u001b[0m \u001b[0misinstance\u001b[0m\u001b[0;34m(\u001b[0m\u001b[0mpoly\u001b[0m\u001b[0;34m,\u001b[0m \u001b[0mabc\u001b[0m\u001b[0;34m.\u001b[0m\u001b[0mMapping\u001b[0m\u001b[0;34m)\u001b[0m\u001b[0;34m:\u001b[0m\u001b[0;34m\u001b[0m\n",
       "\u001b[0;34m\u001b[0m            \u001b[0mpoly\u001b[0m \u001b[0;34m=\u001b[0m \u001b[0mpoly\u001b[0m\u001b[0;34m.\u001b[0m\u001b[0mitems\u001b[0m\u001b[0;34m(\u001b[0m\u001b[0;34m)\u001b[0m\u001b[0;34m\u001b[0m\n",
       "\u001b[0;34m\u001b[0m\u001b[0;34m\u001b[0m\n",
       "\u001b[0;34m\u001b[0m        \u001b[0;31m# we need to aggregate the repeated terms\u001b[0m\u001b[0;34m\u001b[0m\n",
<<<<<<< Updated upstream
       "\u001b[0;34m\u001b[0m\u001b[0;34m\u001b[0m\n",
       "\u001b[0;34m\u001b[0m        \u001b[0mself\u001b[0m\u001b[0;34m.\u001b[0m\u001b[0m_terms\u001b[0m \u001b[0;34m=\u001b[0m \u001b[0mterms\u001b[0m \u001b[0;34m=\u001b[0m \u001b[0mdefaultdict\u001b[0m\u001b[0;34m(\u001b[0m\u001b[0mint\u001b[0m\u001b[0;34m)\u001b[0m\u001b[0;34m\u001b[0m\n",
       "\u001b[0;34m\u001b[0m        \u001b[0;32mfor\u001b[0m \u001b[0mterm\u001b[0m\u001b[0;34m,\u001b[0m \u001b[0mbias\u001b[0m \u001b[0;32min\u001b[0m \u001b[0mpoly\u001b[0m\u001b[0;34m:\u001b[0m\u001b[0;34m\u001b[0m\n",
=======
       "\u001b[0;34m\u001b[0m        \u001b[0mterms\u001b[0m \u001b[0;34m=\u001b[0m \u001b[0mdefaultdict\u001b[0m\u001b[0;34m(\u001b[0m\u001b[0mint\u001b[0m\u001b[0;34m)\u001b[0m\u001b[0;34m\u001b[0m\n",
       "\u001b[0;34m\u001b[0m        \u001b[0;32mfor\u001b[0m \u001b[0mterm\u001b[0m\u001b[0;34m,\u001b[0m \u001b[0mbias\u001b[0m \u001b[0;32min\u001b[0m \u001b[0mfilter\u001b[0m\u001b[0;34m(\u001b[0m\u001b[0mtl\u001b[0m\u001b[0;34m.\u001b[0m\u001b[0msecond\u001b[0m\u001b[0;34m,\u001b[0m \u001b[0mpoly\u001b[0m\u001b[0;34m)\u001b[0m\u001b[0;34m:\u001b[0m\u001b[0;34m\u001b[0m\n",
>>>>>>> Stashed changes
       "\u001b[0;34m\u001b[0m            \u001b[0mterms\u001b[0m\u001b[0;34m[\u001b[0m\u001b[0mfreeze_term\u001b[0m\u001b[0;34m(\u001b[0m\u001b[0mterm\u001b[0m\u001b[0;34m,\u001b[0m \u001b[0mvartype\u001b[0m\u001b[0;34m)\u001b[0m\u001b[0;34m]\u001b[0m \u001b[0;34m+=\u001b[0m \u001b[0mbias\u001b[0m\u001b[0;34m\u001b[0m\n",
       "\u001b[0;34m\u001b[0m        \u001b[0;34m\u001b[0m\n",
       "\u001b[0;34m\u001b[0m        \u001b[0mself\u001b[0m\u001b[0;34m.\u001b[0m\u001b[0mvartype\u001b[0m \u001b[0;34m=\u001b[0m \u001b[0mvartype\u001b[0m\u001b[0;34m\u001b[0m\u001b[0;34m\u001b[0m\u001b[0m\n",
       "\u001b[0;31mFile:\u001b[0m      ~/dimod/dimod/higherorder/polynomial.py\n",
       "\u001b[0;31mType:\u001b[0m      function\n"
      ]
     },
     "metadata": {},
     "output_type": "display_data"
    }
   ],
   "source": [
    "BPnew.__init__??"
   ]
  },
  {
   "cell_type": "code",
   "execution_count": 7,
   "id": "9065a62a-4c71-4f58-843b-65f611bc4848",
   "metadata": {},
   "outputs": [
    {
     "name": "stdout",
     "output_type": "stream",
     "text": [
      " "
     ]
    },
    {
     "data": {
      "text/plain": [
<<<<<<< Updated upstream
       "         4232729 function calls (4232649 primitive calls) in 3.246 seconds\n",
=======
       "         404277 function calls (404197 primitive calls) in 0.299 seconds\n",
>>>>>>> Stashed changes
       "\n",
       "   Ordered by: cumulative time\n",
       "   List reduced from 46 to 20 due to restriction <20>\n",
       "\n",
       "   ncalls  tottime  percall  cumtime  percall filename:lineno(function)\n",
<<<<<<< Updated upstream
       "        1    0.000    0.000    3.246    3.246 {built-in method builtins.exec}\n",
       "        1    0.000    0.000    3.246    3.246 <string>:1(<module>)\n",
       "        1    0.000    0.000    3.246    3.246 decorators.py:289(new_f)\n",
       "        1    0.177    0.177    3.246    3.246 polynomial.py:108(__init__)\n",
       "   192325    2.615    0.000    3.069    0.000 polynomial.py:40(freeze_term)\n",
       "  3655551    0.427    0.000    0.427    0.000 polynomial.py:47(<genexpr>)\n",
       "   192335    0.015    0.000    0.015    0.000 {built-in method builtins.isinstance}\n",
       "   192326    0.012    0.000    0.012    0.000 {method 'items' of 'dict' objects}\n",
=======
       "        1    0.000    0.000    0.299    0.299 {built-in method builtins.exec}\n",
       "        1    0.000    0.000    0.299    0.299 <string>:1(<module>)\n",
       "        1    0.001    0.001    0.299    0.299 decorators.py:289(new_f)\n",
       "        1    0.028    0.028    0.298    0.298 polynomial.py:108(__init__)\n",
       "    19253    0.198    0.000    0.269    0.000 polynomial.py:40(freeze_term)\n",
       "   346315    0.067    0.000    0.067    0.000 polynomial.py:47(<genexpr>)\n",
       "    19263    0.003    0.000    0.003    0.000 {built-in method builtins.isinstance}\n",
       "    19254    0.002    0.000    0.002    0.000 {method 'items' of 'dict' objects}\n",
>>>>>>> Stashed changes
       "        1    0.000    0.000    0.000    0.000 abc.py:96(__instancecheck__)\n",
       "        1    0.000    0.000    0.000    0.000 {built-in method _abc._abc_instancecheck}\n",
       "     41/1    0.000    0.000    0.000    0.000 abc.py:100(__subclasscheck__)\n",
       "     41/1    0.000    0.000    0.000    0.000 {built-in method _abc._abc_subclasscheck}\n",
       "        1    0.000    0.000    0.000    0.000 inspect.py:1340(getcallargs)\n",
       "        1    0.000    0.000    0.000    0.000 inspect.py:1102(getfullargspec)\n",
       "        1    0.000    0.000    0.000    0.000 inspect.py:2218(_signature_from_callable)\n",
       "        1    0.000    0.000    0.000    0.000 inspect.py:2124(_signature_from_function)\n",
       "        3    0.000    0.000    0.000    0.000 inspect.py:2489(__init__)\n",
<<<<<<< Updated upstream
       "        1    0.000    0.000    0.000    0.000 inspect.py:2772(__init__)\n",
       "        1    0.000    0.000    0.000    0.000 decorators.py:281(_enforce_single_arg)\n",
       "        1    0.000    0.000    0.000    0.000 vartypes.py:127(as_vartype)"
=======
       "        1    0.000    0.000    0.000    0.000 <string>:1(__new__)\n",
       "        1    0.000    0.000    0.000    0.000 {method 'disable' of '_lsprof.Profiler' objects}\n",
       "        1    0.000    0.000    0.000    0.000 decorators.py:281(_enforce_single_arg)"
>>>>>>> Stashed changes
      ]
     },
     "metadata": {},
     "output_type": "display_data"
    }
   ],
   "source": [
    "%%prun -s cumtime -l 20 \n",
    "bp = BPnew(terms, 'SPIN')"
   ]
  },
  {
   "cell_type": "code",
   "execution_count": 8,
   "id": "b9f0d049-5b6f-4521-a6c9-f6d0f529b8a8",
   "metadata": {},
   "outputs": [
    {
     "data": {
      "text/html": [
       "<div>\n",
       "<style scoped>\n",
       "    .dataframe tbody tr th:only-of-type {\n",
       "        vertical-align: middle;\n",
       "    }\n",
       "\n",
       "    .dataframe tbody tr th {\n",
       "        vertical-align: top;\n",
       "    }\n",
       "\n",
       "    .dataframe thead th {\n",
       "        text-align: right;\n",
       "    }\n",
       "</style>\n",
       "<table border=\"1\" class=\"dataframe\">\n",
       "  <thead>\n",
       "    <tr style=\"text-align: right;\">\n",
       "      <th></th>\n",
       "      <th>0</th>\n",
       "      <th>1</th>\n",
       "    </tr>\n",
       "  </thead>\n",
       "  <tbody>\n",
       "    <tr>\n",
       "      <th>count</th>\n",
<<<<<<< Updated upstream
       "      <td>181650.000000</td>\n",
       "      <td>181650.000000</td>\n",
       "    </tr>\n",
       "    <tr>\n",
       "      <th>mean</th>\n",
       "      <td>18.937605</td>\n",
       "      <td>1.058767</td>\n",
       "    </tr>\n",
       "    <tr>\n",
       "      <th>std</th>\n",
       "      <td>7.559899</td>\n",
       "      <td>8.875054</td>\n",
=======
       "      <td>18468.000000</td>\n",
       "      <td>18468.000000</td>\n",
       "    </tr>\n",
       "    <tr>\n",
       "      <th>mean</th>\n",
       "      <td>17.684644</td>\n",
       "      <td>1.042506</td>\n",
       "    </tr>\n",
       "    <tr>\n",
       "      <th>std</th>\n",
       "      <td>7.686658</td>\n",
       "      <td>2.887464</td>\n",
>>>>>>> Stashed changes
       "    </tr>\n",
       "    <tr>\n",
       "      <th>min</th>\n",
       "      <td>0.000000</td>\n",
       "      <td>1.000000</td>\n",
       "    </tr>\n",
       "    <tr>\n",
       "      <th>25%</th>\n",
       "      <td>12.000000</td>\n",
       "      <td>1.000000</td>\n",
       "    </tr>\n",
       "    <tr>\n",
       "      <th>50%</th>\n",
       "      <td>19.000000</td>\n",
       "      <td>1.000000</td>\n",
       "    </tr>\n",
       "    <tr>\n",
       "      <th>75%</th>\n",
       "      <td>24.000000</td>\n",
       "      <td>1.000000</td>\n",
       "    </tr>\n",
       "    <tr>\n",
       "      <th>max</th>\n",
<<<<<<< Updated upstream
       "      <td>42.000000</td>\n",
       "      <td>3742.000000</td>\n",
=======
       "      <td>40.000000</td>\n",
       "      <td>390.000000</td>\n",
>>>>>>> Stashed changes
       "    </tr>\n",
       "  </tbody>\n",
       "</table>\n",
       "</div>"
      ],
      "text/plain": [
<<<<<<< Updated upstream
       "                   0              1\n",
       "count  181650.000000  181650.000000\n",
       "mean       18.937605       1.058767\n",
       "std         7.559899       8.875054\n",
       "min         1.000000       1.000000\n",
       "25%        13.000000       1.000000\n",
       "50%        20.000000       1.000000\n",
       "75%        25.000000       1.000000\n",
       "max        42.000000    3742.000000"
=======
       "                  0             1\n",
       "count  18468.000000  18468.000000\n",
       "mean      17.684644      1.042506\n",
       "std        7.686658      2.887464\n",
       "min        0.000000      1.000000\n",
       "25%       12.000000      1.000000\n",
       "50%       19.000000      1.000000\n",
       "75%       24.000000      1.000000\n",
       "max       40.000000    390.000000"
>>>>>>> Stashed changes
      ]
     },
     "execution_count": 8,
     "metadata": {},
     "output_type": "execute_result"
    }
   ],
   "source": [
    "pandas.DataFrame((len(term), bias) for term, bias in bp.items()).describe()"
   ]
  },
  {
   "cell_type": "code",
<<<<<<< Updated upstream
   "execution_count": null,
   "id": "e396116b-8b48-4e80-b780-63e6918d75e3",
=======
   "execution_count": 10,
   "id": "e396116b-8b48-4e80-b780-63e6918d75e3",
   "metadata": {
    "tags": []
   },
   "outputs": [],
   "source": [
    "term = string.ascii_letters[:12]"
   ]
  },
  {
   "cell_type": "code",
   "execution_count": 11,
   "id": "251c2cf3-d1e0-4f81-8b2d-0bfe3b809afc",
   "metadata": {},
   "outputs": [
    {
     "name": "stdout",
     "output_type": "stream",
     "text": [
      "1.33 s ± 148 ms per loop (mean ± std. dev. of 7 runs, 1 loop each)\n"
     ]
    },
    {
     "data": {
      "text/plain": [
       "True"
      ]
     },
     "execution_count": 11,
     "metadata": {},
     "output_type": "execute_result"
    }
   ],
   "source": [
    "%timeit BPnew({term: 1}, 'SPIN').to_binary().to_spin() == BPnew({term: 1}, 'SPIN')\n",
    "BPnew({term: 1}, 'SPIN').to_binary().to_spin() == BPnew({term: 1}, 'SPIN')"
   ]
  },
  {
   "cell_type": "code",
   "execution_count": 12,
   "id": "1b734eee-3346-4ccf-a46b-b7f1062d7146",
   "metadata": {},
   "outputs": [
    {
     "name": "stdout",
     "output_type": "stream",
     "text": [
      "689 ms ± 113 ms per loop (mean ± std. dev. of 7 runs, 1 loop each)\n"
     ]
    },
    {
     "data": {
      "text/plain": [
       "True"
      ]
     },
     "execution_count": 12,
     "metadata": {},
     "output_type": "execute_result"
    }
   ],
   "source": [
    "%timeit BPnew({term: 1}, 'BINARY').to_spin().to_binary() == BPnew({term: 1}, 'BINARY')\n",
    "BPnew({term: 1}, 'BINARY').to_spin().to_binary() == BPnew({term: 1}, 'BINARY')"
   ]
  },
  {
   "cell_type": "code",
   "execution_count": 13,
   "id": "cd914370-6d26-4549-8ac1-409b9cfb0d42",
   "metadata": {},
   "outputs": [
    {
     "data": {
      "text/plain": [
       "1"
      ]
     },
     "execution_count": 13,
     "metadata": {},
     "output_type": "execute_result"
    }
   ],
   "source": [
    "len(BPnew({term: 1}, 'BINARY').to_spin().to_binary())"
   ]
  },
  {
   "cell_type": "code",
   "execution_count": 14,
   "id": "9b8ea924-76fe-4dfc-9b0f-1e526c38f0ce",
   "metadata": {},
   "outputs": [
    {
     "data": {
      "text/plain": [
       "1"
      ]
     },
     "execution_count": 14,
     "metadata": {},
     "output_type": "execute_result"
    }
   ],
   "source": [
    "len(BPnew({term: 1}, 'SPIN').to_binary().to_spin())"
   ]
  },
  {
   "cell_type": "code",
   "execution_count": null,
   "id": "3cec6003-377c-4ce2-aaff-195413a5d7f0",
   "metadata": {},
   "outputs": [],
   "source": []
  },
  {
   "cell_type": "code",
   "execution_count": 15,
   "id": "5855d98a-3560-4ff4-8717-c71e7a5b9322",
   "metadata": {},
   "outputs": [],
   "source": [
    "#len(BPnew({term: 1}, 'BINARY').to_spin() * BPnew({term: 1}, 'BINARY').to_spin())"
   ]
  },
  {
   "cell_type": "code",
   "execution_count": 16,
   "id": "8f1025ab-14a5-4ab2-b636-aae76d82b1cb",
   "metadata": {},
   "outputs": [
    {
     "name": "stdout",
     "output_type": "stream",
     "text": [
      " "
     ]
    },
    {
     "data": {
      "text/plain": [
       "         782622 function calls in 0.242 seconds\n",
       "\n",
       "   Ordered by: cumulative time\n",
       "   List reduced from 56 to 20 due to restriction <20>\n",
       "\n",
       "   ncalls  tottime  percall  cumtime  percall filename:lineno(function)\n",
       "        1    0.000    0.000    0.242    0.242 {built-in method builtins.exec}\n",
       "        1    0.000    0.000    0.242    0.242 <string>:1(<module>)\n",
       "        1    0.000    0.000    0.242    0.242 polynomial.py:269(relabel_variables)\n",
       "        1    0.095    0.095    0.209    0.209 polynomial.py:295(<dictcomp>)\n",
       "   345068    0.069    0.000    0.092    0.000 polynomial.py:296(<genexpr>)\n",
       "   326604    0.023    0.000    0.023    0.000 {method 'get' of 'dict' objects}\n",
       "    18469    0.008    0.000    0.022    0.000 _collections_abc.py:742(__iter__)\n",
       "        1    0.000    0.000    0.022    0.022 decorators.py:289(new_f)\n",
       "        1    0.017    0.017    0.021    0.021 polynomial.py:108(__init__)\n",
       "    18468    0.009    0.000    0.014    0.000 polynomial.py:153(__getitem__)\n",
       "        1    0.001    0.001    0.011    0.011 polynomial.py:202(variables)\n",
       "        1    0.009    0.009    0.009    0.009 {method 'union' of 'set' objects}\n",
       "    18468    0.003    0.000    0.005    0.000 polynomial.py:35(asfrozenset)\n",
       "    18468    0.003    0.000    0.004    0.000 polynomial.py:40(freeze_term)\n",
       "    36945    0.003    0.000    0.003    0.000 {built-in method builtins.isinstance}\n",
       "        1    0.000    0.000    0.000    0.000 inspect.py:1340(getcallargs)\n",
       "        1    0.000    0.000    0.000    0.000 inspect.py:1102(getfullargspec)\n",
       "        1    0.000    0.000    0.000    0.000 inspect.py:2218(_signature_from_callable)\n",
       "        1    0.000    0.000    0.000    0.000 inspect.py:2124(_signature_from_function)\n",
       "        3    0.000    0.000    0.000    0.000 inspect.py:2489(__init__)"
      ]
     },
     "metadata": {},
     "output_type": "display_data"
    }
   ],
   "source": [
    "prun -s cumtime -l 20 bp2 = bp.relabel_variables(dict(zip(string.ascii_letters, reversed(string.ascii_letters))), inplace=False)"
   ]
  },
  {
   "cell_type": "code",
   "execution_count": 17,
   "id": "f28b9d31-00f6-4d19-a799-4aebd8dcdf77",
   "metadata": {},
   "outputs": [
    {
     "name": "stdout",
     "output_type": "stream",
     "text": [
      " "
     ]
    },
    {
     "data": {
      "text/plain": [
       "         782622 function calls in 0.252 seconds\n",
       "\n",
       "   Ordered by: cumulative time\n",
       "   List reduced from 56 to 20 due to restriction <20>\n",
       "\n",
       "   ncalls  tottime  percall  cumtime  percall filename:lineno(function)\n",
       "        1    0.000    0.000    0.252    0.252 {built-in method builtins.exec}\n",
       "        1    0.000    0.000    0.252    0.252 <string>:1(<module>)\n",
       "        1    0.000    0.000    0.252    0.252 polynomial.py:269(relabel_variables)\n",
       "        1    0.103    0.103    0.225    0.225 polynomial.py:295(<dictcomp>)\n",
       "   345068    0.073    0.000    0.098    0.000 polynomial.py:296(<genexpr>)\n",
       "   326604    0.025    0.000    0.025    0.000 {method 'get' of 'dict' objects}\n",
       "    18469    0.009    0.000    0.024    0.000 _collections_abc.py:742(__iter__)\n",
       "        1    0.000    0.000    0.017    0.017 decorators.py:289(new_f)\n",
       "        1    0.013    0.013    0.016    0.016 polynomial.py:108(__init__)\n",
       "    18468    0.010    0.000    0.015    0.000 polynomial.py:153(__getitem__)\n",
       "        1    0.001    0.001    0.010    0.010 polynomial.py:202(variables)\n",
       "        1    0.009    0.009    0.009    0.009 {method 'union' of 'set' objects}\n",
       "    18468    0.004    0.000    0.005    0.000 polynomial.py:35(asfrozenset)\n",
       "    18468    0.003    0.000    0.004    0.000 polynomial.py:40(freeze_term)\n",
       "    36945    0.002    0.000    0.002    0.000 {built-in method builtins.isinstance}\n",
       "        1    0.000    0.000    0.000    0.000 inspect.py:1340(getcallargs)\n",
       "        1    0.000    0.000    0.000    0.000 inspect.py:1102(getfullargspec)\n",
       "        1    0.000    0.000    0.000    0.000 inspect.py:2218(_signature_from_callable)\n",
       "        1    0.000    0.000    0.000    0.000 inspect.py:2124(_signature_from_function)\n",
       "        3    0.000    0.000    0.000    0.000 inspect.py:2489(__init__)"
      ]
     },
     "metadata": {},
     "output_type": "display_data"
    }
   ],
   "source": [
    "prun -s cumtime -l 20 bp3 = bp2.relabel_variables(dict(zip(string.ascii_letters, reversed(string.ascii_letters))), inplace=False)"
   ]
  },
  {
   "cell_type": "code",
   "execution_count": 18,
   "id": "1feeafa7-7b82-4936-8907-1d9e2cb2f09f",
   "metadata": {},
   "outputs": [
    {
     "data": {
      "text/plain": [
       "False"
      ]
     },
     "execution_count": 18,
     "metadata": {},
     "output_type": "execute_result"
    }
   ],
   "source": [
    "bp == bp2"
   ]
  },
  {
   "cell_type": "code",
   "execution_count": 19,
   "id": "2b68eedb-625d-4b55-913e-eca731039285",
   "metadata": {},
   "outputs": [
    {
     "data": {
      "text/plain": [
       "True"
      ]
     },
     "execution_count": 19,
     "metadata": {},
     "output_type": "execute_result"
    }
   ],
   "source": [
    "bp == bp3"
   ]
  },
  {
   "cell_type": "code",
   "execution_count": 20,
   "id": "f26be75b-8a2f-4825-9c5d-61cb22cb23da",
   "metadata": {},
   "outputs": [
    {
     "data": {
      "text/plain": [
       "False"
      ]
     },
     "execution_count": 20,
     "metadata": {},
     "output_type": "execute_result"
    }
   ],
   "source": [
    "bp2 == bp3"
   ]
  },
  {
   "cell_type": "code",
   "execution_count": 21,
   "id": "7ac90b1e-af50-42e1-89f5-7c3274d9bff0",
   "metadata": {},
   "outputs": [],
   "source": [
    "import numpy as np\n",
    "%load_ext line_profiler"
   ]
  },
  {
   "cell_type": "code",
   "execution_count": 22,
   "id": "3ff64574-290e-4e1d-ba85-5dc597c31258",
   "metadata": {},
   "outputs": [],
   "source": [
    "#%lprun -fdimod.make_quadratic  bqm = dimod.make_quadratic(bp, vartype = 'BINARY', strength = 2**6)"
   ]
  },
  {
   "cell_type": "code",
   "execution_count": 23,
   "id": "7ac382c2-abc7-43e2-b599-8320b48d89f4",
   "metadata": {},
   "outputs": [],
   "source": [
    "import functools as ft\n",
    "import itertools as it\n",
    "import cytoolz as tl\n",
    "from dimod.higherorder.utils import _new_product, as_vartype\n",
    "from collections import defaultdict"
   ]
  },
  {
   "cell_type": "code",
   "execution_count": 24,
   "id": "cbb733a7-ea7a-44f8-87d5-2b53c5ea28a7",
   "metadata": {},
   "outputs": [
    {
     "name": "stdout",
     "output_type": "stream",
     "text": [
      "CPU times: user 16.6 s, sys: 759 ms, total: 17.3 s\n",
      "Wall time: 17.3 s\n"
     ]
    }
   ],
   "source": [
    "%%time\n",
    "idx = defaultdict(\n",
    "    dict,\n",
    "    tl.valmap(\n",
    "        tl.compose(dict, ft.partial(map, tl.second)),\n",
    "        tl.groupby(\n",
    "            tl.first,\n",
    "            (\n",
    "                (frozenset(pair), item)\n",
    "                for item in bp.items()\n",
    "                if len(term := tl.first(item)) >= 3\n",
    "                for pair in it.combinations(term, 2) ))))"
   ]
  },
  {
   "cell_type": "code",
   "execution_count": 25,
   "id": "fb73bc93-03de-477b-9157-faf63ea0736a",
   "metadata": {},
   "outputs": [
    {
     "data": {
      "text/plain": [
       "1275"
      ]
     },
     "execution_count": 25,
     "metadata": {},
     "output_type": "execute_result"
    }
   ],
   "source": [
    "len(idx)"
   ]
  },
  {
   "cell_type": "code",
   "execution_count": 26,
   "id": "b2b90337-0e71-4fec-939e-0999b9e9e3cc",
   "metadata": {
    "tags": []
   },
   "outputs": [],
   "source": [
    "#idx"
   ]
  },
  {
   "cell_type": "code",
   "execution_count": 27,
   "id": "21d519e4-d50e-46de-8dd6-3b38a495f75e",
   "metadata": {
    "tags": []
   },
   "outputs": [],
   "source": [
    "#bp"
   ]
  },
  {
   "cell_type": "code",
   "execution_count": 28,
   "id": "a522c29b-62b8-4019-b096-cd03e6bc67c4",
   "metadata": {
    "tags": []
   },
   "outputs": [],
   "source": [
    "#terms"
   ]
  },
  {
   "cell_type": "code",
   "execution_count": 29,
   "id": "e6a2909a-6752-46de-a52f-7c5754837c21",
   "metadata": {},
   "outputs": [
    {
     "data": {
      "text/plain": [
       "2700"
      ]
     },
     "execution_count": 29,
     "metadata": {},
     "output_type": "execute_result"
    }
   ],
   "source": [
    "que = tl.valmap(tl.compose(set, ft.partial(map, tl.first)), tl.groupby(tl.second, tl.valmap(len, idx).items()))\n",
    "most = max(que)\n",
    "most"
   ]
  },
  {
   "cell_type": "code",
   "execution_count": 30,
   "id": "8b50b60f-64f1-4f8a-ace0-af13fe2e5dbd",
   "metadata": {},
   "outputs": [
    {
     "data": {
      "text/plain": [
       "frozenset({'H', 'a'})"
      ]
     },
     "execution_count": 30,
     "metadata": {},
     "output_type": "execute_result"
    }
   ],
   "source": [
    "que[most].pop()"
   ]
  },
  {
   "cell_type": "code",
   "execution_count": 31,
   "id": "f8dbcabd-74d7-43c2-b6a0-d30628e6e5e1",
   "metadata": {},
   "outputs": [
    {
     "data": {
      "text/plain": [
       "set()"
      ]
     },
     "execution_count": 31,
     "metadata": {},
     "output_type": "execute_result"
    }
   ],
   "source": [
    "que[most]"
   ]
  },
  {
   "cell_type": "code",
   "execution_count": 32,
   "id": "52a46763-7cd9-491c-8608-88982806650b",
   "metadata": {},
   "outputs": [],
   "source": [
    "constraints = []\n",
    "reduced_terms = [item for item in bp.items() if len(tl.first(item)) <= 2]\n",
    "pair, terms = tl.topk(1, idx.items(), tl.compose(len,tl.second))[0]\n",
    "p = _new_product(bp.variables, *pair)\n",
    "constraints.append((pair, p))\n",
    "del idx[pair]\n",
    "pset = {p}"
   ]
  },
  {
   "cell_type": "code",
   "execution_count": 33,
   "id": "365b65f0-41c1-4dbb-8bab-aea72369c98a",
   "metadata": {},
   "outputs": [],
   "source": [
    "for term, bias in terms.items():\n",
    "    for pair2 in map(frozenset, (it.combinations(term, 2))):\n",
    "        if pair2 != pair:\n",
    "            del idx[pair2][term]\n",
    "    base_term = term - pair\n",
    "    new_term = base_term | pset\n",
    "    if len(new_term) <= 3:\n",
    "        reduced_terms.append((new_term, bias))\n",
    "    else:\n",
    "        for pair3 in map(frozenset, it.combinations(new_term, 2)):\n",
    "            idx[pair3][new_term] = bias"
   ]
  },
  {
   "cell_type": "code",
   "execution_count": 34,
   "id": "6999b196-287e-4454-981d-4217a0135b1c",
   "metadata": {
    "tags": []
   },
   "outputs": [],
   "source": [
    "#reduced_terms"
   ]
  },
  {
   "cell_type": "code",
   "execution_count": 35,
   "id": "33266725-1494-4ffb-9855-cba3e8f1d36c",
   "metadata": {},
   "outputs": [
    {
     "data": {
      "text/plain": [
       "[(frozenset({'H', 'a'}), 'a*H')]"
      ]
     },
     "execution_count": 35,
     "metadata": {},
     "output_type": "execute_result"
    }
   ],
   "source": [
    "constraints"
   ]
  },
  {
   "cell_type": "code",
   "execution_count": 36,
   "id": "186eb239-28d8-4f49-953c-ef168d371060",
   "metadata": {
    "tags": []
   },
   "outputs": [],
   "source": [
    "#terms"
   ]
  },
  {
   "cell_type": "code",
   "execution_count": 37,
   "id": "42cb3775-6408-48e7-adc4-e612c314b0ad",
   "metadata": {
    "tags": []
   },
   "outputs": [
    {
     "data": {
      "text/plain": [
       "((frozenset({'p', 'w'}), 2673),\n",
       " (frozenset({'I', 'X'}), 2670),\n",
       " (frozenset({'F', 'I'}), 2668),\n",
       " (frozenset({'K', 'L'}), 2665),\n",
       " (frozenset({'K', 'z'}), 2664))"
      ]
     },
     "execution_count": 37,
     "metadata": {},
     "output_type": "execute_result"
    }
   ],
   "source": [
    "tl.topk(5, tl.valmap(len, idx).items(), tl.second)"
   ]
  },
  {
   "cell_type": "code",
   "execution_count": 38,
   "id": "28138875-8a2d-42a2-b102-85a10c387ac0",
   "metadata": {},
   "outputs": [],
   "source": [
    "def reduce_terms(bp):\n",
    "    variables = bp.variables\n",
    "    constraints = []\n",
    "    reduced_terms = [item for item in bp.items() if len(tl.first(item)) <= 2]\n",
    "\n",
    "    idx = defaultdict(\n",
    "        dict,\n",
    "        tl.valmap(\n",
    "            tl.compose(dict, ft.partial(map, tl.second)),\n",
    "            tl.groupby(\n",
    "                tl.first,\n",
    "                (\n",
    "                    (frozenset(pair), item)\n",
    "                    for item in bp.items()\n",
    "                    if len(term := tl.first(item)) >= 3\n",
    "                    for pair in it.combinations(term, 2) ))))\n",
    "\n",
    "    que = defaultdict(\n",
    "        set,\n",
    "        tl.valmap(\n",
    "            tl.compose(set, ft.partial(map, tl.first)),\n",
    "            tl.groupby(tl.second, tl.valmap(len, idx).items())))\n",
    "\n",
    "    while idx:\n",
    "        new_pairs = set()\n",
    "        most = max(que)\n",
    "        \n",
    "        #print(most, que[most])\n",
    "        #_, (pair, terms) = max((len(tl.second(item)), item) for item in idx.items())\n",
    "        #pair, terms = max(idx.items(), key=tl.compose(len,tl.second))\n",
    "        \n",
    "        que_most = que[most]\n",
    "        pair = que_most.pop()\n",
    "        if not que_most:\n",
    "            del que[most]\n",
    "        terms = idx[pair]\n",
    "        \n",
    "        p = _new_product(variables, *pair)\n",
    "        constraints.append((pair, p))\n",
    "        del idx[pair]\n",
    "        pset = {p}\n",
    "\n",
    "        for term, bias in terms.items():\n",
    "            for pair2 in map(frozenset, (it.combinations(term, 2))):\n",
    "                if pair2 != pair:\n",
    "                    if pair2 & pair:\n",
    "                        count = len(idx[pair2])\n",
    "                        que_count = que[count]\n",
    "                        que_count.remove(pair2)\n",
    "                        if not que_count:\n",
    "                            del que[count]\n",
    "                        if count > 1:\n",
    "                            que[count - 1].add(pair2)\n",
    "                    idx_pair2 = idx[pair2]\n",
    "                    del idx_pair2[term]\n",
    "                    if not idx_pair2:\n",
    "                        del idx[pair2]\n",
    "    \n",
    "            new_term = (term - pair) | pset\n",
    "            if len(new_term) <= 2:\n",
    "                reduced_terms.append((new_term, bias))\n",
    "            else:\n",
    "                for new_pair in map(frozenset, it.combinations(new_term, 2)):\n",
    "                    idx[new_pair][new_term] = bias\n",
    "                    if p in new_pair:\n",
    "                        new_pairs.add(new_pair)\n",
    "                        \n",
    "        for new_pair in new_pairs:\n",
    "            que[len(idx[new_pair])].add(new_pair)\n",
    "\n",
    "    return reduced_terms, constraints"
   ]
  },
  {
   "cell_type": "code",
   "execution_count": 39,
   "id": "faee8bfe-222d-447d-8e10-3e03e9dbb9fb",
   "metadata": {},
   "outputs": [
    {
     "name": "stdout",
     "output_type": "stream",
     "text": [
      " "
     ]
    },
    {
     "data": {
      "text/plain": [
       "         25423105 function calls in 81.671 seconds\n",
       "\n",
       "   Ordered by: cumulative time\n",
       "\n",
       "   ncalls  tottime  percall  cumtime  percall filename:lineno(function)\n",
       "        1    0.000    0.000   81.671   81.671 {built-in method builtins.exec}\n",
       "        1    0.003    0.003   81.671   81.671 <string>:1(<module>)\n",
       "        1   64.379   64.379   81.668   81.668 4179918042.py:1(reduce_terms)\n",
       "  3269823   12.406    0.000   12.460    0.000 4179918042.py:12(<genexpr>)\n",
       "  5924056    2.249    0.000    2.249    0.000 {method 'remove' of 'set' objects}\n",
       "  8983666    1.714    0.000    1.714    0.000 {method 'add' of 'set' objects}\n",
       "  6728919    0.597    0.000    0.597    0.000 {built-in method builtins.len}\n",
       "    58467    0.069    0.000    0.119    0.000 utils.py:88(_new_product)\n",
       "    58467    0.074    0.000    0.074    0.000 {built-in method builtins.max}\n",
       "    36938    0.029    0.000    0.070    0.000 _collections_abc.py:742(__iter__)\n",
       "    36936    0.025    0.000    0.041    0.000 polynomial.py:153(__getitem__)\n",
       "    58467    0.040    0.000    0.040    0.000 {method 'format' of 'str' objects}\n",
       "        1    0.008    0.008    0.029    0.029 4179918042.py:4(<listcomp>)\n",
       "    76544    0.022    0.000    0.022    0.000 {method 'append' of 'list' objects}\n",
       "    58467    0.019    0.000    0.019    0.000 {method 'pop' of 'set' objects}\n",
       "    36936    0.011    0.000    0.016    0.000 polynomial.py:35(asfrozenset)\n",
       "        1    0.001    0.001    0.011    0.011 polynomial.py:202(variables)\n",
       "        1    0.010    0.010    0.010    0.010 {method 'union' of 'set' objects}\n",
       "    58468    0.009    0.000    0.009    0.000 {method 'items' of 'dict' objects}\n",
       "    36936    0.005    0.000    0.005    0.000 {built-in method builtins.isinstance}\n",
       "        2    0.000    0.000    0.000    0.000 _collections_abc.py:676(items)\n",
       "        2    0.000    0.000    0.000    0.000 polynomial.py:156(__iter__)\n",
       "        2    0.000    0.000    0.000    0.000 _collections_abc.py:698(__init__)\n",
       "        1    0.000    0.000    0.000    0.000 {method 'disable' of '_lsprof.Profiler' objects}\n",
       "        2    0.000    0.000    0.000    0.000 {built-in method builtins.iter}"
      ]
     },
     "metadata": {},
     "output_type": "display_data"
    }
   ],
   "source": [
    "%prun -s cumtime -l 30 reduced_terms, constraints = reduce_terms(bp)"
   ]
  },
  {
   "cell_type": "code",
   "execution_count": 40,
   "id": "0b9b2c67-05fa-4a86-8c3a-acc15119e861",
   "metadata": {},
   "outputs": [
    {
     "data": {
      "text/plain": [
       "(18468, 58467)"
      ]
     },
     "execution_count": 40,
     "metadata": {},
     "output_type": "execute_result"
    }
   ],
   "source": [
    "len(reduced_terms), len(constraints)"
   ]
  },
  {
   "cell_type": "code",
   "execution_count": 41,
   "id": "179f7b4b-7895-4a12-824b-0f42c855727e",
   "metadata": {},
   "outputs": [],
   "source": [
    "#%prun -s cumtime -l 30 bqm = dimod.make_quadratic(bp, 1000, 'BINARY')"
   ]
  },
  {
   "cell_type": "code",
   "execution_count": 56,
   "id": "9c4d1250-75ad-422a-8f20-04af19be39f7",
   "metadata": {},
   "outputs": [
    {
     "name": "stdout",
     "output_type": "stream",
     "text": [
      "<function _binary_product at 0x7fe87c689a60>\n"
     ]
    }
   ],
   "source": [
    "import itertools\n",
    "import warnings\n",
    "\n",
    "from collections import Counter\n",
    "\n",
    "import numpy as np\n",
    "\n",
    "\n",
    "from dimod.higherorder.utils import _new_product, as_vartype, _binary_product, _new_aux, _spin_product\n",
    "print(_binary_product)\n",
    "from dimod.binary_quadratic_model import BinaryQuadraticModel\n",
    "from dimod.higherorder.polynomial import BinaryPolynomial\n",
    "from dimod.sampleset import as_samples\n",
    "from dimod.vartypes import as_vartype, Vartype\n",
    "\n",
    "def make_quadratic(poly, strength, vartype=None, bqm=None):\n",
    "    \"\"\"Create a binary quadratic model from a higher order polynomial.\n",
    "\n",
    "    Args:\n",
    "        poly (dict):\n",
    "            Polynomial as a dict of form {term: bias, ...}, where `term` is a tuple of\n",
    "            variables and `bias` the associated bias.\n",
    "\n",
    "        strength (float):\n",
    "            The energy penalty for violating the prodcut constraint.\n",
    "            Insufficient strength can result in the binary quadratic model not\n",
    "            having the same minimizations as the polynomial.\n",
    "\n",
    "        vartype (:class:`.Vartype`/str/set, optional):\n",
    "            Variable type for the binary quadratic model. Accepted input values:\n",
    "\n",
    "            * :class:`.Vartype.SPIN`, ``'SPIN'``, ``{-1, 1}``\n",
    "            * :class:`.Vartype.BINARY`, ``'BINARY'``, ``{0, 1}``\n",
    "\n",
    "            If `bqm` is provided, `vartype` is not required.\n",
    "\n",
    "        bqm (:class:`.BinaryQuadraticModel`, optional):\n",
    "            The terms of the reduced polynomial are added to this binary quadratic model.\n",
    "            If not provided, a new binary quadratic model is created.\n",
    "\n",
    "    Returns:\n",
    "        :class:`.BinaryQuadraticModel`\n",
    "\n",
    "    Examples:\n",
    "\n",
    "        >>> poly = {(0,): -1, (1,): 1, (2,): 1.5, (0, 1): -1, (0, 1, 2): -2}\n",
    "        >>> bqm = dimod.make_quadratic(poly, 5.0, dimod.SPIN)\n",
    "\n",
    "    \"\"\"\n",
    "    if vartype is None:\n",
    "        if bqm is None:\n",
    "            raise ValueError(\"one of vartype or bqm must be provided\")\n",
    "        else:\n",
    "            vartype = bqm.vartype\n",
    "    else:\n",
    "        vartype = as_vartype(vartype)  # handle other vartype inputs\n",
    "        if bqm is None:\n",
    "            bqm = BinaryQuadraticModel.empty(vartype)\n",
    "        else:\n",
    "            bqm = bqm.change_vartype(vartype, inplace=False)\n",
    "\n",
    "    # for backwards compatibility, add an info field\n",
    "    if not hasattr(bqm, 'info'):\n",
    "        bqm.info = {}\n",
    "    bqm.info['reduction'] = {}\n",
    "\n",
    "    if poly.vartype !=vartype:\n",
    "        poly = BinaryPolynomial(poly, vartype=vartype)\n",
    "\n",
    "    variables = set().union(*poly)\n",
    "    reduced_terms, constraints = dimod.higherorder.utils.reduce_terms(poly)\n",
    "  \n",
    "    for (u, v), p in constraints:\n",
    "\n",
    "        # add a constraint enforcing the relationship between p == u*v\n",
    "        if vartype is Vartype.BINARY:\n",
    "            constraint = _binary_product([u, v, p])\n",
    "            bqm.info['reduction'][(u, v)] = {'product': p}\n",
    "        elif vartype is Vartype.SPIN:\n",
    "            aux = _new_aux(variables, u, v)  # need an aux in SPIN-space\n",
    "            constraint = _spin_product([u, v, p, aux])\n",
    "            bqm.info['reduction'][(u, v)] = {'product': p, 'auxiliary': aux}\n",
    "        else:\n",
    "            raise RuntimeError(\"unknown vartype: {!r}\".format(vartype))\n",
    "\n",
    "        # scale constraint and update the polynomial with it\n",
    "        constraint.scale(strength)\n",
    "        for v, bias in constraint.linear.items():\n",
    "            bqm.add_variable(v, bias)\n",
    "        for uv, bias in constraint.quadratic.items():\n",
    "            bqm.add_interaction(*uv, bias)\n",
    "        bqm.offset += constraint.offset\n",
    "\n",
    "    for term, bias in reduced_terms:\n",
    "        if len(term) == 2:\n",
    "            bqm.add_interaction(*term , bias)\n",
    "        elif len(term) == 1:\n",
    "            bqm.add_variable(*term, bias)\n",
    "        elif len(term) == 0:\n",
    "            bqm.offset += bias\n",
    "        else:\n",
    "            # still has higher order terms, this shouldn't happen\n",
    "            msg = ('Internal error: not all higher-order terms were reduced. '\n",
    "                   'Please file a bug report.')\n",
    "            raise RuntimeError(msg)\n",
    "\n",
    "    return bqm"
   ]
  },
  {
   "cell_type": "code",
   "execution_count": 43,
   "id": "9ca15f52-6ab1-4743-9c3f-3293512dc758",
   "metadata": {},
   "outputs": [],
   "source": [
    "zz = set(range(4))"
   ]
  },
  {
   "cell_type": "code",
   "execution_count": 50,
   "id": "24d32eb7-61af-4c89-80bf-87583d1d9a65",
   "metadata": {},
   "outputs": [
    {
     "name": "stderr",
     "output_type": "stream",
     "text": [
      "/tmp/ipykernel_5226/2794073046.py:92: DeprecationWarning: BinaryQuadraticModel.add_offset(b) is deprecated. Please use bqm.offset += b.\n"
     ]
    },
    {
     "data": {
      "text/plain": [
       "Timer unit: 1e-06 s\n",
       "\n",
       "Total time: 0.041943 s\n",
       "File: /home/daniel/dimod/dimod/higherorder/utils.py\n",
       "Function: reduce_terms at line 106\n",
       "\n",
       "Line #      Hits         Time  Per Hit   % Time  Line Contents\n",
       "==============================================================\n",
       "   106                                           def reduce_terms(bp):\n",
       "   107         1          7.0      7.0      0.0      variables = bp.variables\n",
       "   108         1          1.0      1.0      0.0      constraints = []\n",
       "   109         1         16.0     16.0      0.0      reduced_terms = [item for item in bp.items() if len(tl.first(item)) <= 2]\n",
       "   110                                           \n",
       "   111         2         17.0      8.5      0.0      idx = defaultdict(\n",
       "   112         1          1.0      1.0      0.0          dict,\n",
       "   113         2        636.0    318.0      1.5          tl.valmap(\n",
       "   114         1          8.0      8.0      0.0              tl.compose(dict, ft.partial(map, tl.second)),\n",
       "   115         2        510.0    255.0      1.2              tl.groupby(\n",
       "   116         1          1.0      1.0      0.0                  tl.first,\n",
       "   117         2          3.0      1.5      0.0                  (\n",
       "   118                                                               (frozenset(pair), item)\n",
       "   119         1          3.0      3.0      0.0                      for item in bp.items()\n",
       "   120                                                               if len(term := tl.first(item)) >= 3\n",
       "   121                                                               for pair in it.combinations(term, 2) ))))\n",
       "   122                                           \n",
       "   123         2          4.0      2.0      0.0      que = defaultdict(\n",
       "   124         1          1.0      1.0      0.0          set,\n",
       "   125         2         48.0     24.0      0.1          tl.valmap(\n",
       "   126         1          5.0      5.0      0.0              tl.compose(set, ft.partial(map, tl.first)),\n",
       "   127         1         94.0     94.0      0.2              tl.groupby(tl.second, tl.valmap(len, idx).items())))\n",
       "   128                                           \n",
       "   129        23         28.0      1.2      0.1      while idx:\n",
       "   130        22         63.0      2.9      0.2          new_pairs = set()\n",
       "   131        22         75.0      3.4      0.2          most = max(que)\n",
       "   132                                           \n",
       "   133                                                   #print(most, que[most])\n",
       "   134                                                   #_, (pair, terms) = max((len(tl.second(item)), item) for item in idx.items())\n",
       "   135                                                   #pair, terms = max(idx.items(), key=tl.compose(len,tl.second))\n",
       "   136                                           \n",
       "   137        22         26.0      1.2      0.1          que_most = que[most]\n",
       "   138        22         43.0      2.0      0.1          pair = que_most.pop()\n",
       "   139        22         30.0      1.4      0.1          if not que_most:\n",
       "   140                                                       del que[most]\n",
       "   141        22         41.0      1.9      0.1          terms = idx[pair]\n",
       "   142                                           \n",
       "   143        22        206.0      9.4      0.5          p = _new_product(variables, *pair)\n",
       "   144        22         44.0      2.0      0.1          constraints.append((pair, p))\n",
       "   145        22         37.0      1.7      0.1          del idx[pair]\n",
       "   146        22         33.0      1.5      0.1          pset = {p}\n",
       "   147                                           \n",
       "   148        44        141.0      3.2      0.3          for term, bias in terms.items():\n",
       "   149      2321       3503.0      1.5      8.4              for pair2 in map(frozenset, (it.combinations(term, 2))):\n",
       "   150      2299       2846.0      1.2      6.8                  if pair2 != pair:\n",
       "   151      2277       3199.0      1.4      7.6                      if pair2 & pair:\n",
       "   152       506        981.0      1.9      2.3                          count = len(idx[pair2])\n",
       "   153       506        604.0      1.2      1.4                          que_count = que[count]\n",
       "   154       506       1210.0      2.4      2.9                          que_count.remove(pair2)\n",
       "   155       506        594.0      1.2      1.4                          if not que_count:\n",
       "   156         1          1.0      1.0      0.0                              del que[count]\n",
       "   157       506        925.0      1.8      2.2                          if count > 1:\n",
       "   158                                                                       que[count - 1].add(pair2)\n",
       "   159      2277       4707.0      2.1     11.2                      idx_pair2 = idx[pair2]\n",
       "   160      2277       3150.0      1.4      7.5                      del idx_pair2[term]\n",
       "   161      2277       2594.0      1.1      6.2                      if not idx_pair2:\n",
       "   162      2277       4687.0      2.1     11.2                          del idx[pair2]\n",
       "   163                                           \n",
       "   164        22        109.0      5.0      0.3              new_term = (term - pair) | pset\n",
       "   165        22         39.0      1.8      0.1              if len(new_term) <= 2:\n",
       "   166         1          2.0      2.0      0.0                  reduced_terms.append((new_term, bias))\n",
       "   167                                                       else:\n",
       "   168      2044       3253.0      1.6      7.8                  for new_pair in map(frozenset, it.combinations(new_term, 2)):\n",
       "   169      2023       3603.0      1.8      8.6                      idx[new_pair][new_term] = bias\n",
       "   170      2023       2528.0      1.2      6.0                      if p in new_pair:\n",
       "   171       252        350.0      1.4      0.8                          new_pairs.add(new_pair)\n",
       "   172                                           \n",
       "   173       274        360.0      1.3      0.9          for new_pair in new_pairs:\n",
       "   174       252        575.0      2.3      1.4              que[len(idx[new_pair])].add(new_pair)\n",
       "   175                                           \n",
       "   176         1          1.0      1.0      0.0      return reduced_terms, constraints"
      ]
     },
     "metadata": {},
     "output_type": "display_data"
    }
   ],
   "source": [
    "%lprun -fdimod.higherorder.utils.reduce_terms bqm = make_quadratic(BPnew({term: 1}, 'SPIN'), strength=5, vartype='SPIN')"
   ]
  },
  {
   "cell_type": "code",
   "execution_count": 57,
   "id": "1934c5e7-5e31-4939-aae5-e23f8ede4ea0",
   "metadata": {},
   "outputs": [
    {
     "data": {
      "text/plain": [
       "Timer unit: 1e-06 s\n",
       "\n",
       "Total time: 346.663 s\n",
       "File: /home/daniel/dimod/dimod/higherorder/utils.py\n",
       "Function: reduce_terms at line 106\n",
       "\n",
       "Line #      Hits         Time  Per Hit   % Time  Line Contents\n",
       "==============================================================\n",
       "   106                                           def reduce_terms(bp):\n",
       "   107         1      19566.0  19566.0      0.0      variables = bp.variables\n",
       "   108         1          7.0      7.0      0.0      constraints = []\n",
       "   109         1      37591.0  37591.0      0.0      reduced_terms = [item for item in bp.items() if len(tl.first(item)) <= 2]\n",
       "   110                                           \n",
       "   111         2        189.0     94.5      0.0      idx = defaultdict(\n",
       "   112         1          2.0      2.0      0.0          dict,\n",
       "   113         2    3424542.0 1712271.0      1.0          tl.valmap(\n",
       "   114         1         46.0     46.0      0.0              tl.compose(dict, ft.partial(map, tl.second)),\n",
       "   115         2   18779065.0 9389532.5      5.4              tl.groupby(\n",
       "   116         1          1.0      1.0      0.0                  tl.first,\n",
       "   117         2          6.0      3.0      0.0                  (\n",
       "   118                                                               (frozenset(pair), item)\n",
       "   119         1         11.0     11.0      0.0                      for item in bp.items()\n",
       "   120                                                               if len(term := tl.first(item)) >= 3\n",
       "   121                                                               for pair in it.combinations(term, 2) ))))\n",
       "   122                                           \n",
       "   123         2         10.0      5.0      0.0      que = defaultdict(\n",
       "   124         1          1.0      1.0      0.0          set,\n",
       "   125         2        434.0    217.0      0.0          tl.valmap(\n",
       "   126         1          9.0      9.0      0.0              tl.compose(set, ft.partial(map, tl.first)),\n",
       "   127         1        612.0    612.0      0.0              tl.groupby(tl.second, tl.valmap(len, idx).items())))\n",
       "   128                                           \n",
       "   129     58468      58998.0      1.0      0.0      while idx:\n",
       "   130     58467      92099.0      1.6      0.0          new_pairs = set()\n",
       "   131     58467     156064.0      2.7      0.0          most = max(que)\n",
       "   132                                           \n",
       "   133                                                   #print(most, que[most])\n",
       "   134                                                   #_, (pair, terms) = max((len(tl.second(item)), item) for item in idx.items())\n",
       "   135                                                   #pair, terms = max(idx.items(), key=tl.compose(len,tl.second))\n",
       "   136                                           \n",
       "   137     58467      64757.0      1.1      0.0          que_most = que[most]\n",
       "   138     58467      79539.0      1.4      0.0          pair = que_most.pop()\n",
       "   139     58467      56860.0      1.0      0.0          if not que_most:\n",
       "   140       311        338.0      1.1      0.0              del que[most]\n",
       "   141     58467     380892.0      6.5      0.1          terms = idx[pair]\n",
       "   142                                           \n",
       "   143     58467     304086.0      5.2      0.1          p = _new_product(variables, *pair)\n",
       "   144     58467      82767.0      1.4      0.0          constraints.append((pair, p))\n",
       "   145     58467      78700.0      1.3      0.0          del idx[pair]\n",
       "   146     58467      68703.0      1.2      0.0          pset = {p}\n",
       "   147                                           \n",
       "   148    348184     682430.0      2.0      0.2          for term, bias in terms.items():\n",
       "   149  26416713   31093376.0      1.2      9.0              for pair2 in map(frozenset, (it.combinations(term, 2))):\n",
       "   150  26126996   23664115.0      0.9      6.8                  if pair2 != pair:\n",
       "   151  25837279   24898516.0      1.0      7.2                      if pair2 & pair:\n",
       "   152   5924056   10157809.0      1.7      2.9                          count = len(idx[pair2])\n",
       "   153   5924056    6996866.0      1.2      2.0                          que_count = que[count]\n",
       "   154   5924056   10361604.0      1.7      3.0                          que_count.remove(pair2)\n",
       "   155   5924056    5192684.0      0.9      1.5                          if not que_count:\n",
       "   156   1294711    1264056.0      1.0      0.4                              del que[count]\n",
       "   157   5924056    5275174.0      0.9      1.5                          if count > 1:\n",
       "   158   5503038    8409122.0      1.5      2.4                              que[count - 1].add(pair2)\n",
       "   159  25837279   37128294.0      1.4     10.7                      idx_pair2 = idx[pair2]\n",
       "   160  25837279   38704563.0      1.5     11.2                      del idx_pair2[term]\n",
       "   161  25837279   21610041.0      0.8      6.2                      if not idx_pair2:\n",
       "   162    810097     956368.0      1.2      0.3                          del idx[pair2]\n",
       "   163                                           \n",
       "   164    289717    1127561.0      3.9      0.3              new_term = (term - pair) | pset\n",
       "   165    289717     379470.0      1.3      0.1              if len(new_term) <= 2:\n",
       "   166     18077      27904.0      1.5      0.0                  reduced_terms.append((new_term, bias))\n",
       "   167                                                       else:\n",
       "   168  23128814   30146342.0      1.3      8.7                  for new_pair in map(frozenset, it.combinations(new_term, 2)):\n",
       "   169  22857174   40166576.0      1.8     11.6                      idx[new_pair][new_term] = bias\n",
       "   170  22857174   20126136.0      0.9      5.8                      if p in new_pair:\n",
       "   171   2943951    3287438.0      1.1      0.9                          new_pairs.add(new_pair)\n",
       "   172                                           \n",
       "   173    536677     555879.0      1.0      0.2          for new_pair in new_pairs:\n",
       "   174    478210     764707.0      1.6      0.2              que[len(idx[new_pair])].add(new_pair)\n",
       "   175                                           \n",
       "   176         1          1.0      1.0      0.0      return reduced_terms, constraints"
      ]
     },
     "metadata": {},
     "output_type": "display_data"
    }
   ],
   "source": [
    "%lprun -fdimod.higherorder.utils.reduce_terms bqm = make_quadratic(bp, strength=5, vartype=bp.vartype)"
   ]
  },
  {
   "cell_type": "code",
   "execution_count": 45,
   "id": "1f1a5a0c-5a2f-4227-9f4b-2b3f4f696ce2",
   "metadata": {},
   "outputs": [
    {
     "name": "stdout",
     "output_type": "stream",
     "text": [
      "CPU times: user 6.21 ms, sys: 93 µs, total: 6.3 ms\n",
      "Wall time: 6.09 ms\n"
     ]
    },
    {
     "data": {
      "text/plain": [
       "68"
      ]
     },
     "execution_count": 45,
     "metadata": {},
     "output_type": "execute_result"
    }
   ],
   "source": [
    "%time len(dimod.make_quadratic(BPnew({term: 1}, 'SPIN'), strength=5, vartype='SPIN'))"
   ]
  },
  {
   "cell_type": "code",
   "execution_count": 46,
   "id": "1963c838-558b-4257-81d2-968c9648ea14",
   "metadata": {},
   "outputs": [
    {
     "data": {
      "text/plain": [
       "\u001b[0;31mSignature:\u001b[0m \u001b[0mmake_quadratic\u001b[0m\u001b[0;34m(\u001b[0m\u001b[0mpoly\u001b[0m\u001b[0;34m,\u001b[0m \u001b[0mstrength\u001b[0m\u001b[0;34m,\u001b[0m \u001b[0mvartype\u001b[0m\u001b[0;34m=\u001b[0m\u001b[0;32mNone\u001b[0m\u001b[0;34m,\u001b[0m \u001b[0mbqm\u001b[0m\u001b[0;34m=\u001b[0m\u001b[0;32mNone\u001b[0m\u001b[0;34m)\u001b[0m\u001b[0;34m\u001b[0m\u001b[0;34m\u001b[0m\u001b[0m\n",
       "\u001b[0;31mSource:\u001b[0m   \n",
       "\u001b[0;32mdef\u001b[0m \u001b[0mmake_quadratic\u001b[0m\u001b[0;34m(\u001b[0m\u001b[0mpoly\u001b[0m\u001b[0;34m,\u001b[0m \u001b[0mstrength\u001b[0m\u001b[0;34m,\u001b[0m \u001b[0mvartype\u001b[0m\u001b[0;34m=\u001b[0m\u001b[0;32mNone\u001b[0m\u001b[0;34m,\u001b[0m \u001b[0mbqm\u001b[0m\u001b[0;34m=\u001b[0m\u001b[0;32mNone\u001b[0m\u001b[0;34m)\u001b[0m\u001b[0;34m:\u001b[0m\u001b[0;34m\u001b[0m\n",
       "\u001b[0;34m\u001b[0m    \u001b[0;34m\"\"\"Create a binary quadratic model from a higher order polynomial.\u001b[0m\n",
       "\u001b[0;34m\u001b[0m\n",
       "\u001b[0;34m    Args:\u001b[0m\n",
       "\u001b[0;34m        poly (dict):\u001b[0m\n",
       "\u001b[0;34m            Polynomial as a dict of form {term: bias, ...}, where `term` is a tuple of\u001b[0m\n",
       "\u001b[0;34m            variables and `bias` the associated bias.\u001b[0m\n",
       "\u001b[0;34m\u001b[0m\n",
       "\u001b[0;34m        strength (float):\u001b[0m\n",
       "\u001b[0;34m            The energy penalty for violating the prodcut constraint.\u001b[0m\n",
       "\u001b[0;34m            Insufficient strength can result in the binary quadratic model not\u001b[0m\n",
       "\u001b[0;34m            having the same minimizations as the polynomial.\u001b[0m\n",
       "\u001b[0;34m\u001b[0m\n",
       "\u001b[0;34m        vartype (:class:`.Vartype`/str/set, optional):\u001b[0m\n",
       "\u001b[0;34m            Variable type for the binary quadratic model. Accepted input values:\u001b[0m\n",
       "\u001b[0;34m\u001b[0m\n",
       "\u001b[0;34m            * :class:`.Vartype.SPIN`, ``'SPIN'``, ``{-1, 1}``\u001b[0m\n",
       "\u001b[0;34m            * :class:`.Vartype.BINARY`, ``'BINARY'``, ``{0, 1}``\u001b[0m\n",
       "\u001b[0;34m\u001b[0m\n",
       "\u001b[0;34m            If `bqm` is provided, `vartype` is not required.\u001b[0m\n",
       "\u001b[0;34m\u001b[0m\n",
       "\u001b[0;34m        bqm (:class:`.BinaryQuadraticModel`, optional):\u001b[0m\n",
       "\u001b[0;34m            The terms of the reduced polynomial are added to this binary quadratic model.\u001b[0m\n",
       "\u001b[0;34m            If not provided, a new binary quadratic model is created.\u001b[0m\n",
       "\u001b[0;34m\u001b[0m\n",
       "\u001b[0;34m    Returns:\u001b[0m\n",
       "\u001b[0;34m        :class:`.BinaryQuadraticModel`\u001b[0m\n",
       "\u001b[0;34m\u001b[0m\n",
       "\u001b[0;34m    Examples:\u001b[0m\n",
       "\u001b[0;34m\u001b[0m\n",
       "\u001b[0;34m        >>> poly = {(0,): -1, (1,): 1, (2,): 1.5, (0, 1): -1, (0, 1, 2): -2}\u001b[0m\n",
       "\u001b[0;34m        >>> bqm = dimod.make_quadratic(poly, 5.0, dimod.SPIN)\u001b[0m\n",
       "\u001b[0;34m\u001b[0m\n",
       "\u001b[0;34m    \"\"\"\u001b[0m\u001b[0;34m\u001b[0m\n",
       "\u001b[0;34m\u001b[0m    \u001b[0;32mif\u001b[0m \u001b[0mvartype\u001b[0m \u001b[0;32mis\u001b[0m \u001b[0;32mNone\u001b[0m\u001b[0;34m:\u001b[0m\u001b[0;34m\u001b[0m\n",
       "\u001b[0;34m\u001b[0m        \u001b[0;32mif\u001b[0m \u001b[0mbqm\u001b[0m \u001b[0;32mis\u001b[0m \u001b[0;32mNone\u001b[0m\u001b[0;34m:\u001b[0m\u001b[0;34m\u001b[0m\n",
       "\u001b[0;34m\u001b[0m            \u001b[0;32mraise\u001b[0m \u001b[0mValueError\u001b[0m\u001b[0;34m(\u001b[0m\u001b[0;34m\"one of vartype or bqm must be provided\"\u001b[0m\u001b[0;34m)\u001b[0m\u001b[0;34m\u001b[0m\n",
       "\u001b[0;34m\u001b[0m        \u001b[0;32melse\u001b[0m\u001b[0;34m:\u001b[0m\u001b[0;34m\u001b[0m\n",
       "\u001b[0;34m\u001b[0m            \u001b[0mvartype\u001b[0m \u001b[0;34m=\u001b[0m \u001b[0mbqm\u001b[0m\u001b[0;34m.\u001b[0m\u001b[0mvartype\u001b[0m\u001b[0;34m\u001b[0m\n",
       "\u001b[0;34m\u001b[0m    \u001b[0;32melse\u001b[0m\u001b[0;34m:\u001b[0m\u001b[0;34m\u001b[0m\n",
       "\u001b[0;34m\u001b[0m        \u001b[0mvartype\u001b[0m \u001b[0;34m=\u001b[0m \u001b[0mas_vartype\u001b[0m\u001b[0;34m(\u001b[0m\u001b[0mvartype\u001b[0m\u001b[0;34m)\u001b[0m  \u001b[0;31m# handle other vartype inputs\u001b[0m\u001b[0;34m\u001b[0m\n",
       "\u001b[0;34m\u001b[0m        \u001b[0;32mif\u001b[0m \u001b[0mbqm\u001b[0m \u001b[0;32mis\u001b[0m \u001b[0;32mNone\u001b[0m\u001b[0;34m:\u001b[0m\u001b[0;34m\u001b[0m\n",
       "\u001b[0;34m\u001b[0m            \u001b[0mbqm\u001b[0m \u001b[0;34m=\u001b[0m \u001b[0mBinaryQuadraticModel\u001b[0m\u001b[0;34m.\u001b[0m\u001b[0mempty\u001b[0m\u001b[0;34m(\u001b[0m\u001b[0mvartype\u001b[0m\u001b[0;34m)\u001b[0m\u001b[0;34m\u001b[0m\n",
       "\u001b[0;34m\u001b[0m        \u001b[0;32melse\u001b[0m\u001b[0;34m:\u001b[0m\u001b[0;34m\u001b[0m\n",
       "\u001b[0;34m\u001b[0m            \u001b[0mbqm\u001b[0m \u001b[0;34m=\u001b[0m \u001b[0mbqm\u001b[0m\u001b[0;34m.\u001b[0m\u001b[0mchange_vartype\u001b[0m\u001b[0;34m(\u001b[0m\u001b[0mvartype\u001b[0m\u001b[0;34m,\u001b[0m \u001b[0minplace\u001b[0m\u001b[0;34m=\u001b[0m\u001b[0;32mFalse\u001b[0m\u001b[0;34m)\u001b[0m\u001b[0;34m\u001b[0m\n",
       "\u001b[0;34m\u001b[0m\u001b[0;34m\u001b[0m\n",
       "\u001b[0;34m\u001b[0m    \u001b[0;31m# for backwards compatibility, add an info field\u001b[0m\u001b[0;34m\u001b[0m\n",
       "\u001b[0;34m\u001b[0m    \u001b[0;32mif\u001b[0m \u001b[0;32mnot\u001b[0m \u001b[0mhasattr\u001b[0m\u001b[0;34m(\u001b[0m\u001b[0mbqm\u001b[0m\u001b[0;34m,\u001b[0m \u001b[0;34m'info'\u001b[0m\u001b[0;34m)\u001b[0m\u001b[0;34m:\u001b[0m\u001b[0;34m\u001b[0m\n",
       "\u001b[0;34m\u001b[0m        \u001b[0mbqm\u001b[0m\u001b[0;34m.\u001b[0m\u001b[0minfo\u001b[0m \u001b[0;34m=\u001b[0m \u001b[0;34m{\u001b[0m\u001b[0;34m}\u001b[0m\u001b[0;34m\u001b[0m\n",
       "\u001b[0;34m\u001b[0m    \u001b[0mbqm\u001b[0m\u001b[0;34m.\u001b[0m\u001b[0minfo\u001b[0m\u001b[0;34m[\u001b[0m\u001b[0;34m'reduction'\u001b[0m\u001b[0;34m]\u001b[0m \u001b[0;34m=\u001b[0m \u001b[0;34m{\u001b[0m\u001b[0;34m}\u001b[0m\u001b[0;34m\u001b[0m\n",
       "\u001b[0;34m\u001b[0m\u001b[0;34m\u001b[0m\n",
       "\u001b[0;34m\u001b[0m    \u001b[0;32mif\u001b[0m \u001b[0mpoly\u001b[0m\u001b[0;34m.\u001b[0m\u001b[0mvartype\u001b[0m \u001b[0;34m!=\u001b[0m\u001b[0mvartype\u001b[0m\u001b[0;34m:\u001b[0m\u001b[0;34m\u001b[0m\n",
       "\u001b[0;34m\u001b[0m        \u001b[0mpoly\u001b[0m \u001b[0;34m=\u001b[0m \u001b[0mBinaryPolynomial\u001b[0m\u001b[0;34m(\u001b[0m\u001b[0mpoly\u001b[0m\u001b[0;34m,\u001b[0m \u001b[0mvartype\u001b[0m\u001b[0;34m=\u001b[0m\u001b[0mvartype\u001b[0m\u001b[0;34m)\u001b[0m\u001b[0;34m\u001b[0m\n",
       "\u001b[0;34m\u001b[0m\u001b[0;34m\u001b[0m\n",
       "\u001b[0;34m\u001b[0m    \u001b[0mvariables\u001b[0m \u001b[0;34m=\u001b[0m \u001b[0mset\u001b[0m\u001b[0;34m(\u001b[0m\u001b[0;34m)\u001b[0m\u001b[0;34m.\u001b[0m\u001b[0munion\u001b[0m\u001b[0;34m(\u001b[0m\u001b[0;34m*\u001b[0m\u001b[0mpoly\u001b[0m\u001b[0;34m)\u001b[0m\u001b[0;34m\u001b[0m\n",
       "\u001b[0;34m\u001b[0m    \u001b[0mreduced_terms\u001b[0m\u001b[0;34m,\u001b[0m \u001b[0mconstraints\u001b[0m \u001b[0;34m=\u001b[0m \u001b[0mdimod\u001b[0m\u001b[0;34m.\u001b[0m\u001b[0mhigherorder\u001b[0m\u001b[0;34m.\u001b[0m\u001b[0mutils\u001b[0m\u001b[0;34m.\u001b[0m\u001b[0mreduce_terms\u001b[0m\u001b[0;34m(\u001b[0m\u001b[0mpoly\u001b[0m\u001b[0;34m)\u001b[0m\u001b[0;34m\u001b[0m\n",
       "\u001b[0;34m\u001b[0m  \u001b[0;34m\u001b[0m\n",
       "\u001b[0;34m\u001b[0m    \u001b[0;32mfor\u001b[0m \u001b[0;34m(\u001b[0m\u001b[0mu\u001b[0m\u001b[0;34m,\u001b[0m \u001b[0mv\u001b[0m\u001b[0;34m)\u001b[0m\u001b[0;34m,\u001b[0m \u001b[0mp\u001b[0m \u001b[0;32min\u001b[0m \u001b[0mconstraints\u001b[0m\u001b[0;34m:\u001b[0m\u001b[0;34m\u001b[0m\n",
       "\u001b[0;34m\u001b[0m\u001b[0;34m\u001b[0m\n",
       "\u001b[0;34m\u001b[0m        \u001b[0;31m# add a constraint enforcing the relationship between p == u*v\u001b[0m\u001b[0;34m\u001b[0m\n",
       "\u001b[0;34m\u001b[0m        \u001b[0;32mif\u001b[0m \u001b[0mvartype\u001b[0m \u001b[0;32mis\u001b[0m \u001b[0mVartype\u001b[0m\u001b[0;34m.\u001b[0m\u001b[0mBINARY\u001b[0m\u001b[0;34m:\u001b[0m\u001b[0;34m\u001b[0m\n",
       "\u001b[0;34m\u001b[0m            \u001b[0mconstraint\u001b[0m \u001b[0;34m=\u001b[0m \u001b[0m_binary_product\u001b[0m\u001b[0;34m(\u001b[0m\u001b[0;34m[\u001b[0m\u001b[0mu\u001b[0m\u001b[0;34m,\u001b[0m \u001b[0mv\u001b[0m\u001b[0;34m,\u001b[0m \u001b[0mp\u001b[0m\u001b[0;34m]\u001b[0m\u001b[0;34m)\u001b[0m\u001b[0;34m\u001b[0m\n",
       "\u001b[0;34m\u001b[0m            \u001b[0mbqm\u001b[0m\u001b[0;34m.\u001b[0m\u001b[0minfo\u001b[0m\u001b[0;34m[\u001b[0m\u001b[0;34m'reduction'\u001b[0m\u001b[0;34m]\u001b[0m\u001b[0;34m[\u001b[0m\u001b[0;34m(\u001b[0m\u001b[0mu\u001b[0m\u001b[0;34m,\u001b[0m \u001b[0mv\u001b[0m\u001b[0;34m)\u001b[0m\u001b[0;34m]\u001b[0m \u001b[0;34m=\u001b[0m \u001b[0;34m{\u001b[0m\u001b[0;34m'product'\u001b[0m\u001b[0;34m:\u001b[0m \u001b[0mp\u001b[0m\u001b[0;34m}\u001b[0m\u001b[0;34m\u001b[0m\n",
       "\u001b[0;34m\u001b[0m        \u001b[0;32melif\u001b[0m \u001b[0mvartype\u001b[0m \u001b[0;32mis\u001b[0m \u001b[0mVartype\u001b[0m\u001b[0;34m.\u001b[0m\u001b[0mSPIN\u001b[0m\u001b[0;34m:\u001b[0m\u001b[0;34m\u001b[0m\n",
       "\u001b[0;34m\u001b[0m            \u001b[0maux\u001b[0m \u001b[0;34m=\u001b[0m \u001b[0m_new_aux\u001b[0m\u001b[0;34m(\u001b[0m\u001b[0mvariables\u001b[0m\u001b[0;34m,\u001b[0m \u001b[0mu\u001b[0m\u001b[0;34m,\u001b[0m \u001b[0mv\u001b[0m\u001b[0;34m)\u001b[0m  \u001b[0;31m# need an aux in SPIN-space\u001b[0m\u001b[0;34m\u001b[0m\n",
       "\u001b[0;34m\u001b[0m            \u001b[0mconstraint\u001b[0m \u001b[0;34m=\u001b[0m \u001b[0m_spin_product\u001b[0m\u001b[0;34m(\u001b[0m\u001b[0;34m[\u001b[0m\u001b[0mu\u001b[0m\u001b[0;34m,\u001b[0m \u001b[0mv\u001b[0m\u001b[0;34m,\u001b[0m \u001b[0mp\u001b[0m\u001b[0;34m,\u001b[0m \u001b[0maux\u001b[0m\u001b[0;34m]\u001b[0m\u001b[0;34m)\u001b[0m\u001b[0;34m\u001b[0m\n",
       "\u001b[0;34m\u001b[0m            \u001b[0mbqm\u001b[0m\u001b[0;34m.\u001b[0m\u001b[0minfo\u001b[0m\u001b[0;34m[\u001b[0m\u001b[0;34m'reduction'\u001b[0m\u001b[0;34m]\u001b[0m\u001b[0;34m[\u001b[0m\u001b[0;34m(\u001b[0m\u001b[0mu\u001b[0m\u001b[0;34m,\u001b[0m \u001b[0mv\u001b[0m\u001b[0;34m)\u001b[0m\u001b[0;34m]\u001b[0m \u001b[0;34m=\u001b[0m \u001b[0;34m{\u001b[0m\u001b[0;34m'product'\u001b[0m\u001b[0;34m:\u001b[0m \u001b[0mp\u001b[0m\u001b[0;34m,\u001b[0m \u001b[0;34m'auxiliary'\u001b[0m\u001b[0;34m:\u001b[0m \u001b[0maux\u001b[0m\u001b[0;34m}\u001b[0m\u001b[0;34m\u001b[0m\n",
       "\u001b[0;34m\u001b[0m        \u001b[0;32melse\u001b[0m\u001b[0;34m:\u001b[0m\u001b[0;34m\u001b[0m\n",
       "\u001b[0;34m\u001b[0m            \u001b[0;32mraise\u001b[0m \u001b[0mRuntimeError\u001b[0m\u001b[0;34m(\u001b[0m\u001b[0;34m\"unknown vartype: {!r}\"\u001b[0m\u001b[0;34m.\u001b[0m\u001b[0mformat\u001b[0m\u001b[0;34m(\u001b[0m\u001b[0mvartype\u001b[0m\u001b[0;34m)\u001b[0m\u001b[0;34m)\u001b[0m\u001b[0;34m\u001b[0m\n",
       "\u001b[0;34m\u001b[0m\u001b[0;34m\u001b[0m\n",
       "\u001b[0;34m\u001b[0m        \u001b[0;31m# scale constraint and update the polynomial with it\u001b[0m\u001b[0;34m\u001b[0m\n",
       "\u001b[0;34m\u001b[0m        \u001b[0mconstraint\u001b[0m\u001b[0;34m.\u001b[0m\u001b[0mscale\u001b[0m\u001b[0;34m(\u001b[0m\u001b[0mstrength\u001b[0m\u001b[0;34m)\u001b[0m\u001b[0;34m\u001b[0m\n",
       "\u001b[0;34m\u001b[0m        \u001b[0;32mfor\u001b[0m \u001b[0mv\u001b[0m\u001b[0;34m,\u001b[0m \u001b[0mbias\u001b[0m \u001b[0;32min\u001b[0m \u001b[0mconstraint\u001b[0m\u001b[0;34m.\u001b[0m\u001b[0mlinear\u001b[0m\u001b[0;34m.\u001b[0m\u001b[0mitems\u001b[0m\u001b[0;34m(\u001b[0m\u001b[0;34m)\u001b[0m\u001b[0;34m:\u001b[0m\u001b[0;34m\u001b[0m\n",
       "\u001b[0;34m\u001b[0m            \u001b[0mbqm\u001b[0m\u001b[0;34m.\u001b[0m\u001b[0madd_variable\u001b[0m\u001b[0;34m(\u001b[0m\u001b[0mv\u001b[0m\u001b[0;34m,\u001b[0m \u001b[0mbias\u001b[0m\u001b[0;34m)\u001b[0m\u001b[0;34m\u001b[0m\n",
       "\u001b[0;34m\u001b[0m        \u001b[0;32mfor\u001b[0m \u001b[0muv\u001b[0m\u001b[0;34m,\u001b[0m \u001b[0mbias\u001b[0m \u001b[0;32min\u001b[0m \u001b[0mconstraint\u001b[0m\u001b[0;34m.\u001b[0m\u001b[0mquadratic\u001b[0m\u001b[0;34m.\u001b[0m\u001b[0mitems\u001b[0m\u001b[0;34m(\u001b[0m\u001b[0;34m)\u001b[0m\u001b[0;34m:\u001b[0m\u001b[0;34m\u001b[0m\n",
       "\u001b[0;34m\u001b[0m            \u001b[0mbqm\u001b[0m\u001b[0;34m.\u001b[0m\u001b[0madd_interaction\u001b[0m\u001b[0;34m(\u001b[0m\u001b[0;34m*\u001b[0m\u001b[0muv\u001b[0m\u001b[0;34m,\u001b[0m \u001b[0mbias\u001b[0m\u001b[0;34m)\u001b[0m\u001b[0;34m\u001b[0m\n",
       "\u001b[0;34m\u001b[0m        \u001b[0mbqm\u001b[0m\u001b[0;34m.\u001b[0m\u001b[0madd_offset\u001b[0m\u001b[0;34m(\u001b[0m\u001b[0mconstraint\u001b[0m\u001b[0;34m.\u001b[0m\u001b[0moffset\u001b[0m\u001b[0;34m)\u001b[0m\u001b[0;34m\u001b[0m\n",
       "\u001b[0;34m\u001b[0m\u001b[0;34m\u001b[0m\n",
       "\u001b[0;34m\u001b[0m    \u001b[0;32mfor\u001b[0m \u001b[0mterm\u001b[0m\u001b[0;34m,\u001b[0m \u001b[0mbias\u001b[0m \u001b[0;32min\u001b[0m \u001b[0mreduced_terms\u001b[0m\u001b[0;34m:\u001b[0m\u001b[0;34m\u001b[0m\n",
       "\u001b[0;34m\u001b[0m        \u001b[0;32mif\u001b[0m \u001b[0mlen\u001b[0m\u001b[0;34m(\u001b[0m\u001b[0mterm\u001b[0m\u001b[0;34m)\u001b[0m \u001b[0;34m==\u001b[0m \u001b[0;36m2\u001b[0m\u001b[0;34m:\u001b[0m\u001b[0;34m\u001b[0m\n",
       "\u001b[0;34m\u001b[0m            \u001b[0mbqm\u001b[0m\u001b[0;34m.\u001b[0m\u001b[0madd_interaction\u001b[0m\u001b[0;34m(\u001b[0m\u001b[0;34m*\u001b[0m\u001b[0mterm\u001b[0m \u001b[0;34m,\u001b[0m \u001b[0mbias\u001b[0m\u001b[0;34m)\u001b[0m\u001b[0;34m\u001b[0m\n",
       "\u001b[0;34m\u001b[0m        \u001b[0;32melif\u001b[0m \u001b[0mlen\u001b[0m\u001b[0;34m(\u001b[0m\u001b[0mterm\u001b[0m\u001b[0;34m)\u001b[0m \u001b[0;34m==\u001b[0m \u001b[0;36m1\u001b[0m\u001b[0;34m:\u001b[0m\u001b[0;34m\u001b[0m\n",
       "\u001b[0;34m\u001b[0m            \u001b[0mbqm\u001b[0m\u001b[0;34m.\u001b[0m\u001b[0madd_variable\u001b[0m\u001b[0;34m(\u001b[0m\u001b[0;34m*\u001b[0m\u001b[0mterm\u001b[0m\u001b[0;34m,\u001b[0m \u001b[0mbias\u001b[0m\u001b[0;34m)\u001b[0m\u001b[0;34m\u001b[0m\n",
       "\u001b[0;34m\u001b[0m        \u001b[0;32melif\u001b[0m \u001b[0mlen\u001b[0m\u001b[0;34m(\u001b[0m\u001b[0mterm\u001b[0m\u001b[0;34m)\u001b[0m \u001b[0;34m==\u001b[0m \u001b[0;36m0\u001b[0m\u001b[0;34m:\u001b[0m\u001b[0;34m\u001b[0m\n",
       "\u001b[0;34m\u001b[0m            \u001b[0mbqm\u001b[0m\u001b[0;34m.\u001b[0m\u001b[0moffset\u001b[0m \u001b[0;34m+=\u001b[0m \u001b[0mbias\u001b[0m\u001b[0;34m\u001b[0m\n",
       "\u001b[0;34m\u001b[0m        \u001b[0;32melse\u001b[0m\u001b[0;34m:\u001b[0m\u001b[0;34m\u001b[0m\n",
       "\u001b[0;34m\u001b[0m            \u001b[0;31m# still has higher order terms, this shouldn't happen\u001b[0m\u001b[0;34m\u001b[0m\n",
       "\u001b[0;34m\u001b[0m            \u001b[0mmsg\u001b[0m \u001b[0;34m=\u001b[0m \u001b[0;34m(\u001b[0m\u001b[0;34m'Internal error: not all higher-order terms were reduced. '\u001b[0m\u001b[0;34m\u001b[0m\n",
       "\u001b[0;34m\u001b[0m                   \u001b[0;34m'Please file a bug report.'\u001b[0m\u001b[0;34m)\u001b[0m\u001b[0;34m\u001b[0m\n",
       "\u001b[0;34m\u001b[0m            \u001b[0;32mraise\u001b[0m \u001b[0mRuntimeError\u001b[0m\u001b[0;34m(\u001b[0m\u001b[0mmsg\u001b[0m\u001b[0;34m)\u001b[0m\u001b[0;34m\u001b[0m\n",
       "\u001b[0;34m\u001b[0m\u001b[0;34m\u001b[0m\n",
       "\u001b[0;34m\u001b[0m    \u001b[0;32mreturn\u001b[0m \u001b[0mbqm\u001b[0m\u001b[0;34m\u001b[0m\u001b[0;34m\u001b[0m\u001b[0m\n",
       "\u001b[0;31mFile:\u001b[0m      /tmp/ipykernel_5226/2794073046.py\n",
       "\u001b[0;31mType:\u001b[0m      function\n"
      ]
     },
     "metadata": {},
     "output_type": "display_data"
    }
   ],
   "source": [
    "make_quadratic??"
   ]
  },
  {
   "cell_type": "code",
   "execution_count": 47,
   "id": "ed0769ec-6d1b-40d2-b110-989f2f068c86",
   "metadata": {},
   "outputs": [
    {
     "ename": "SyntaxError",
     "evalue": "invalid syntax (3330683553.py, line 1)",
     "output_type": "error",
     "traceback": [
      "\u001b[0;36m  File \u001b[0;32m\"/tmp/ipykernel_5226/3330683553.py\"\u001b[0;36m, line \u001b[0;32m1\u001b[0m\n\u001b[0;31m    BinaryPolynomial.\u001b[0m\n\u001b[0m                     ^\u001b[0m\n\u001b[0;31mSyntaxError\u001b[0m\u001b[0;31m:\u001b[0m invalid syntax\n"
     ]
    }
   ],
   "source": [
    "BinaryPolynomial."
   ]
  },
  {
   "cell_type": "code",
   "execution_count": null,
   "id": "4d4d5183-1bb3-4b7f-a8ab-4af55b2c55e7",
>>>>>>> Stashed changes
   "metadata": {},
   "outputs": [],
   "source": [
    "dimod.BQM"
   ]
  },
  {
   "cell_type": "code",
   "execution_count": null,
   "id": "7fdb1794-06f7-4fdf-a346-2533dc78ca63",
   "metadata": {},
   "outputs": [],
   "source": [
    "itertools"
   ]
  },
  {
   "cell_type": "code",
   "execution_count": null,
   "id": "fac7547a-db9e-4e35-8a5d-99e2aa72d137",
   "metadata": {},
   "outputs": [],
   "source": [
    "%prun -s cumtime -l 20 make_quadratic(bp, 100, vartype='BINARY')"
   ]
  },
  {
   "cell_type": "code",
   "execution_count": null,
   "id": "78014140-af4d-426f-8969-687e2750cfab",
   "metadata": {},
   "outputs": [],
   "source": [
    "from dimod.higherorder import utils"
   ]
  },
  {
   "cell_type": "code",
   "execution_count": null,
   "id": "b806c9a1-3690-4eab-8c6b-f200026cbfb9",
   "metadata": {},
   "outputs": [],
   "source": [
    "%pwd"
   ]
  },
  {
   "cell_type": "code",
   "execution_count": 51,
   "id": "bdb58284-1a2d-4880-93ff-b8dd31134d83",
   "metadata": {},
   "outputs": [
    {
     "data": {
      "text/plain": [
       "False"
      ]
     },
     "execution_count": 51,
     "metadata": {},
     "output_type": "execute_result"
    }
   ],
   "source": [
    "bool(set())"
   ]
  },
  {
   "cell_type": "code",
   "execution_count": null,
   "id": "629eea9c-0ccd-464c-afa5-de6d6ea071b2",
   "metadata": {},
   "outputs": [],
   "source": [
    "bool"
   ]
  }
 ],
 "metadata": {
  "kernelspec": {
   "display_name": "Python 3 (ipykernel)",
   "language": "python",
   "name": "python3"
  },
  "language_info": {
   "codemirror_mode": {
    "name": "ipython",
    "version": 3
   },
   "file_extension": ".py",
   "mimetype": "text/x-python",
   "name": "python",
   "nbconvert_exporter": "python",
   "pygments_lexer": "ipython3",
   "version": "3.8.11"
  }
 },
 "nbformat": 4,
 "nbformat_minor": 5
}
