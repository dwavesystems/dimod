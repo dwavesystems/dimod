{
 "cells": [
  {
   "cell_type": "markdown",
   "id": "182a16c4-4777-4ec3-99b1-476914c2ec1b",
   "metadata": {},
   "source": [
    "# Current"
   ]
  },
  {
   "cell_type": "markdown",
   "id": "11b1cb71-4f1b-441f-a6bf-93d430ac5356",
   "metadata": {
    "tags": []
   },
   "source": [
    "## Create test example"
   ]
  },
  {
   "cell_type": "code",
   "execution_count": 1,
   "id": "61901771-5a93-4cc9-a180-0cc2cc580a53",
   "metadata": {},
   "outputs": [],
   "source": [
    "%load_ext autoreload\n",
    "%autoreload 2"
   ]
  },
  {
   "cell_type": "code",
   "execution_count": 2,
   "id": "b0d92f0d-3549-4619-a272-a324ef475104",
   "metadata": {},
   "outputs": [],
   "source": [
    "import string, random, toolz, pandas, importlib, sys, os"
   ]
  },
  {
   "cell_type": "code",
   "execution_count": 3,
   "id": "d2c51a56-7617-427e-8ec5-12e4a0fc0a08",
   "metadata": {},
   "outputs": [],
   "source": [
    "terms = [(term, 1) for term in str(random.choices(string.ascii_letters, k=10**7)).split('Z')]"
   ]
  },
  {
   "cell_type": "code",
   "execution_count": 4,
   "id": "1f8a40cc-df42-4f45-9220-afd1f212239f",
   "metadata": {},
   "outputs": [
    {
     "data": {
      "text/plain": [
       "count    192160.000000\n",
       "mean        259.199839\n",
       "std         256.922932\n",
       "min           4.000000\n",
       "25%          74.000000\n",
       "50%         179.000000\n",
       "75%         359.000000\n",
       "max        3174.000000\n",
       "dtype: float64"
      ]
     },
     "execution_count": 4,
     "metadata": {},
     "output_type": "execute_result"
    }
   ],
   "source": [
    "pandas.Series(len(term) for term, _ in terms).describe()"
   ]
  },
  {
   "cell_type": "markdown",
   "id": "ed7030e6-6d63-4f54-a8af-13e938191812",
   "metadata": {},
   "source": [
    "## Run current version"
   ]
  },
  {
   "cell_type": "code",
   "execution_count": 5,
   "id": "bc701097-6aa9-44a1-8673-b2777e84e929",
   "metadata": {},
   "outputs": [
    {
     "name": "stdout",
     "output_type": "stream",
     "text": [
      "Saved working directory and index state WIP on binary-polynomial: bc4521f added symbolic arithmetic refactored relabel_variables, to_binary, to_spin filter out 0 coefficient terms in polynomial construction\n",
      "Switched to branch 'main'\n",
      "Your branch is up to date with 'origin/main'.\n"
     ]
    }
   ],
   "source": [
    "!git stash\n",
    "!git checkout main\n",
    "#importlib.reload(dimod)"
   ]
  },
  {
   "cell_type": "code",
   "execution_count": 6,
   "id": "0dff8f12-ff29-4991-ad7c-8bb9d6367f5e",
   "metadata": {},
   "outputs": [],
   "source": [
    "from dimod import BinaryPolynomial as BPold\n",
    "import dimod"
   ]
  },
  {
   "cell_type": "code",
   "execution_count": 7,
   "id": "ec77f944-27b1-47ce-b141-2b8d6fc3f116",
   "metadata": {},
   "outputs": [
    {
     "data": {
      "text/plain": [
       "\u001b[0;31mSignature:\u001b[0m \u001b[0mBPold\u001b[0m\u001b[0;34m.\u001b[0m\u001b[0m__init__\u001b[0m\u001b[0;34m(\u001b[0m\u001b[0mself\u001b[0m\u001b[0;34m,\u001b[0m \u001b[0mpoly\u001b[0m\u001b[0;34m,\u001b[0m \u001b[0mvartype\u001b[0m\u001b[0;34m)\u001b[0m\u001b[0;34m\u001b[0m\u001b[0;34m\u001b[0m\u001b[0m\n",
       "\u001b[0;31mDocstring:\u001b[0m Initialize self.  See help(type(self)) for accurate signature.\n",
       "\u001b[0;31mSource:\u001b[0m   \n",
       "    \u001b[0;34m@\u001b[0m\u001b[0mvartype_argument\u001b[0m\u001b[0;34m(\u001b[0m\u001b[0;34m'vartype'\u001b[0m\u001b[0;34m)\u001b[0m\u001b[0;34m\u001b[0m\n",
       "\u001b[0;34m\u001b[0m    \u001b[0;32mdef\u001b[0m \u001b[0m__init__\u001b[0m\u001b[0;34m(\u001b[0m\u001b[0mself\u001b[0m\u001b[0;34m,\u001b[0m \u001b[0mpoly\u001b[0m\u001b[0;34m,\u001b[0m \u001b[0mvartype\u001b[0m\u001b[0;34m)\u001b[0m\u001b[0;34m:\u001b[0m\u001b[0;34m\u001b[0m\n",
       "\u001b[0;34m\u001b[0m        \u001b[0;32mif\u001b[0m \u001b[0misinstance\u001b[0m\u001b[0;34m(\u001b[0m\u001b[0mpoly\u001b[0m\u001b[0;34m,\u001b[0m \u001b[0mabc\u001b[0m\u001b[0;34m.\u001b[0m\u001b[0mMapping\u001b[0m\u001b[0;34m)\u001b[0m\u001b[0;34m:\u001b[0m\u001b[0;34m\u001b[0m\n",
       "\u001b[0;34m\u001b[0m            \u001b[0mpoly\u001b[0m \u001b[0;34m=\u001b[0m \u001b[0mpoly\u001b[0m\u001b[0;34m.\u001b[0m\u001b[0mitems\u001b[0m\u001b[0;34m(\u001b[0m\u001b[0;34m)\u001b[0m\u001b[0;34m\u001b[0m\n",
       "\u001b[0;34m\u001b[0m\u001b[0;34m\u001b[0m\n",
       "\u001b[0;34m\u001b[0m        \u001b[0;31m# we need to aggregate the repeated terms\u001b[0m\u001b[0;34m\u001b[0m\n",
       "\u001b[0;34m\u001b[0m        \u001b[0mself\u001b[0m\u001b[0;34m.\u001b[0m\u001b[0m_terms\u001b[0m \u001b[0;34m=\u001b[0m \u001b[0mterms\u001b[0m \u001b[0;34m=\u001b[0m \u001b[0;34m{\u001b[0m\u001b[0;34m}\u001b[0m\u001b[0;34m\u001b[0m\n",
       "\u001b[0;34m\u001b[0m        \u001b[0;32mfor\u001b[0m \u001b[0mterm\u001b[0m\u001b[0;34m,\u001b[0m \u001b[0mbias\u001b[0m \u001b[0;32min\u001b[0m \u001b[0mpoly\u001b[0m\u001b[0;34m:\u001b[0m\u001b[0;34m\u001b[0m\n",
       "\u001b[0;34m\u001b[0m\u001b[0;34m\u001b[0m\n",
       "\u001b[0;34m\u001b[0m            \u001b[0mfsterm\u001b[0m \u001b[0;34m=\u001b[0m \u001b[0masfrozenset\u001b[0m\u001b[0;34m(\u001b[0m\u001b[0mterm\u001b[0m\u001b[0;34m)\u001b[0m\u001b[0;34m\u001b[0m\n",
       "\u001b[0;34m\u001b[0m\u001b[0;34m\u001b[0m\n",
       "\u001b[0;34m\u001b[0m            \u001b[0;31m# when SPIN-valued, s^2 == 1, so we need to handle that case\u001b[0m\u001b[0;34m\u001b[0m\n",
       "\u001b[0;34m\u001b[0m            \u001b[0;31m# in BINARY, x^2 == x\u001b[0m\u001b[0;34m\u001b[0m\n",
       "\u001b[0;34m\u001b[0m            \u001b[0;32mif\u001b[0m \u001b[0mlen\u001b[0m\u001b[0;34m(\u001b[0m\u001b[0mfsterm\u001b[0m\u001b[0;34m)\u001b[0m \u001b[0;34m<\u001b[0m \u001b[0mlen\u001b[0m\u001b[0;34m(\u001b[0m\u001b[0mterm\u001b[0m\u001b[0;34m)\u001b[0m \u001b[0;32mand\u001b[0m \u001b[0mvartype\u001b[0m \u001b[0;32mis\u001b[0m \u001b[0mVartype\u001b[0m\u001b[0;34m.\u001b[0m\u001b[0mSPIN\u001b[0m\u001b[0;34m:\u001b[0m\u001b[0;34m\u001b[0m\n",
       "\u001b[0;34m\u001b[0m                \u001b[0mnew\u001b[0m \u001b[0;34m=\u001b[0m \u001b[0mset\u001b[0m\u001b[0;34m(\u001b[0m\u001b[0;34m)\u001b[0m\u001b[0;34m\u001b[0m\n",
       "\u001b[0;34m\u001b[0m                \u001b[0mterm\u001b[0m \u001b[0;34m=\u001b[0m \u001b[0mtuple\u001b[0m\u001b[0;34m(\u001b[0m\u001b[0mterm\u001b[0m\u001b[0;34m)\u001b[0m  \u001b[0;31m# make sure it has .count\u001b[0m\u001b[0;34m\u001b[0m\n",
       "\u001b[0;34m\u001b[0m                \u001b[0;32mfor\u001b[0m \u001b[0mv\u001b[0m \u001b[0;32min\u001b[0m \u001b[0mfsterm\u001b[0m\u001b[0;34m:\u001b[0m\u001b[0;34m\u001b[0m\n",
       "\u001b[0;34m\u001b[0m                    \u001b[0;32mif\u001b[0m \u001b[0mterm\u001b[0m\u001b[0;34m.\u001b[0m\u001b[0mcount\u001b[0m\u001b[0;34m(\u001b[0m\u001b[0mv\u001b[0m\u001b[0;34m)\u001b[0m \u001b[0;34m%\u001b[0m \u001b[0;36m2\u001b[0m\u001b[0;34m:\u001b[0m\u001b[0;34m\u001b[0m\n",
       "\u001b[0;34m\u001b[0m                        \u001b[0mnew\u001b[0m\u001b[0;34m.\u001b[0m\u001b[0madd\u001b[0m\u001b[0;34m(\u001b[0m\u001b[0mv\u001b[0m\u001b[0;34m)\u001b[0m\u001b[0;34m\u001b[0m\n",
       "\u001b[0;34m\u001b[0m                \u001b[0mfsterm\u001b[0m \u001b[0;34m=\u001b[0m \u001b[0mfrozenset\u001b[0m\u001b[0;34m(\u001b[0m\u001b[0mnew\u001b[0m\u001b[0;34m)\u001b[0m\u001b[0;34m\u001b[0m\n",
       "\u001b[0;34m\u001b[0m\u001b[0;34m\u001b[0m\n",
       "\u001b[0;34m\u001b[0m            \u001b[0;32mif\u001b[0m \u001b[0mfsterm\u001b[0m \u001b[0;32min\u001b[0m \u001b[0mterms\u001b[0m\u001b[0;34m:\u001b[0m\u001b[0;34m\u001b[0m\n",
       "\u001b[0;34m\u001b[0m                \u001b[0mterms\u001b[0m\u001b[0;34m[\u001b[0m\u001b[0mfsterm\u001b[0m\u001b[0;34m]\u001b[0m \u001b[0;34m+=\u001b[0m \u001b[0mbias\u001b[0m\u001b[0;34m\u001b[0m\n",
       "\u001b[0;34m\u001b[0m            \u001b[0;32melse\u001b[0m\u001b[0;34m:\u001b[0m\u001b[0;34m\u001b[0m\n",
       "\u001b[0;34m\u001b[0m                \u001b[0mterms\u001b[0m\u001b[0;34m[\u001b[0m\u001b[0mfsterm\u001b[0m\u001b[0;34m]\u001b[0m \u001b[0;34m=\u001b[0m \u001b[0mbias\u001b[0m\u001b[0;34m\u001b[0m\n",
       "\u001b[0;34m\u001b[0m\u001b[0;34m\u001b[0m\n",
       "\u001b[0;34m\u001b[0m        \u001b[0mself\u001b[0m\u001b[0;34m.\u001b[0m\u001b[0mvartype\u001b[0m \u001b[0;34m=\u001b[0m \u001b[0mvartype\u001b[0m\u001b[0;34m\u001b[0m\u001b[0;34m\u001b[0m\u001b[0m\n",
       "\u001b[0;31mFile:\u001b[0m      ~/dimod/dimod/higherorder/polynomial.py\n",
       "\u001b[0;31mType:\u001b[0m      function\n"
      ]
     },
     "metadata": {},
     "output_type": "display_data"
    }
   ],
   "source": [
    "BPold.__init__??"
   ]
  },
  {
   "cell_type": "code",
   "execution_count": 8,
   "id": "e4cfa0c6-b7d4-4642-82fb-9eba71ab340b",
   "metadata": {},
   "outputs": [
    {
     "name": "stdout",
     "output_type": "stream",
     "text": [
      " "
     ]
    },
    {
     "data": {
      "text/plain": [
       "         9711530 function calls (9711450 primitive calls) in 48.033 seconds\n",
       "\n",
       "   Ordered by: cumulative time\n",
       "   List reduced from 47 to 20 due to restriction <20>\n",
       "\n",
       "   ncalls  tottime  percall  cumtime  percall filename:lineno(function)\n",
       "        1    0.000    0.000   48.033   48.033 {built-in method builtins.exec}\n",
       "        1    0.000    0.000   48.033   48.033 <string>:1(<module>)\n",
       "        1    0.000    0.000   48.033   48.033 decorators.py:289(new_f)\n",
       "        1    7.909    7.909   48.033   48.033 polynomial.py:89(__init__)\n",
       "  5482062   38.220    0.000   38.220    0.000 {method 'count' of 'tuple' objects}\n",
       "   192160    1.075    0.000    1.135    0.000 polynomial.py:32(asfrozenset)\n",
       "  3460625    0.690    0.000    0.690    0.000 {method 'add' of 'set' objects}\n",
       "   384322    0.079    0.000    0.079    0.000 {built-in method builtins.len}\n",
       "   192170    0.060    0.000    0.060    0.000 {built-in method builtins.isinstance}\n",
       "        1    0.000    0.000    0.000    0.000 abc.py:96(__instancecheck__)\n",
       "        1    0.000    0.000    0.000    0.000 {built-in method _abc._abc_instancecheck}\n",
       "     41/1    0.000    0.000    0.000    0.000 abc.py:100(__subclasscheck__)\n",
       "     41/1    0.000    0.000    0.000    0.000 {built-in method _abc._abc_subclasscheck}\n",
       "        1    0.000    0.000    0.000    0.000 inspect.py:1340(getcallargs)\n",
       "        1    0.000    0.000    0.000    0.000 inspect.py:1102(getfullargspec)\n",
       "        1    0.000    0.000    0.000    0.000 inspect.py:2218(_signature_from_callable)\n",
       "        1    0.000    0.000    0.000    0.000 inspect.py:2124(_signature_from_function)\n",
       "        3    0.000    0.000    0.000    0.000 inspect.py:2489(__init__)\n",
       "        1    0.000    0.000    0.000    0.000 decorators.py:281(_enforce_single_arg)\n",
       "        1    0.000    0.000    0.000    0.000 vartypes.py:127(as_vartype)"
      ]
     },
     "metadata": {},
     "output_type": "display_data"
    }
   ],
   "source": [
    "%%prun -s cumtime -l 20\n",
    "bp = BPold(terms, 'SPIN')"
   ]
  },
  {
   "cell_type": "code",
   "execution_count": 9,
   "id": "a74eb4b1-a59a-49d7-8e36-95ea91a7a12b",
   "metadata": {},
   "outputs": [
    {
     "data": {
      "text/html": [
       "<div>\n",
       "<style scoped>\n",
       "    .dataframe tbody tr th:only-of-type {\n",
       "        vertical-align: middle;\n",
       "    }\n",
       "\n",
       "    .dataframe tbody tr th {\n",
       "        vertical-align: top;\n",
       "    }\n",
       "\n",
       "    .dataframe thead th {\n",
       "        text-align: right;\n",
       "    }\n",
       "</style>\n",
       "<table border=\"1\" class=\"dataframe\">\n",
       "  <thead>\n",
       "    <tr style=\"text-align: right;\">\n",
       "      <th></th>\n",
       "      <th>0</th>\n",
       "      <th>1</th>\n",
       "    </tr>\n",
       "  </thead>\n",
       "  <tbody>\n",
       "    <tr>\n",
       "      <th>count</th>\n",
       "      <td>181561.000000</td>\n",
       "      <td>181561.000000</td>\n",
       "    </tr>\n",
       "    <tr>\n",
       "      <th>mean</th>\n",
       "      <td>18.931703</td>\n",
       "      <td>1.058377</td>\n",
       "    </tr>\n",
       "    <tr>\n",
       "      <th>std</th>\n",
       "      <td>7.552280</td>\n",
       "      <td>8.721284</td>\n",
       "    </tr>\n",
       "    <tr>\n",
       "      <th>min</th>\n",
       "      <td>1.000000</td>\n",
       "      <td>1.000000</td>\n",
       "    </tr>\n",
       "    <tr>\n",
       "      <th>25%</th>\n",
       "      <td>13.000000</td>\n",
       "      <td>1.000000</td>\n",
       "    </tr>\n",
       "    <tr>\n",
       "      <th>50%</th>\n",
       "      <td>20.000000</td>\n",
       "      <td>1.000000</td>\n",
       "    </tr>\n",
       "    <tr>\n",
       "      <th>75%</th>\n",
       "      <td>25.000000</td>\n",
       "      <td>1.000000</td>\n",
       "    </tr>\n",
       "    <tr>\n",
       "      <th>max</th>\n",
       "      <td>42.000000</td>\n",
       "      <td>3677.000000</td>\n",
       "    </tr>\n",
       "  </tbody>\n",
       "</table>\n",
       "</div>"
      ],
      "text/plain": [
       "                   0              1\n",
       "count  181561.000000  181561.000000\n",
       "mean       18.931703       1.058377\n",
       "std         7.552280       8.721284\n",
       "min         1.000000       1.000000\n",
       "25%        13.000000       1.000000\n",
       "50%        20.000000       1.000000\n",
       "75%        25.000000       1.000000\n",
       "max        42.000000    3677.000000"
      ]
     },
     "execution_count": 9,
     "metadata": {},
     "output_type": "execute_result"
    }
   ],
   "source": [
    "pandas.DataFrame((len(term), bias) for term, bias in bp.items()).describe()"
   ]
  },
  {
   "cell_type": "code",
   "execution_count": null,
   "id": "6f8463b3-a6fe-4841-918f-33743295181f",
   "metadata": {},
   "outputs": [],
   "source": []
  },
  {
   "cell_type": "code",
   "execution_count": 10,
   "id": "ce407274-b49c-4dc5-8fc0-69a5753029c7",
   "metadata": {
    "tags": []
   },
   "outputs": [],
   "source": [
    "term = string.ascii_letters[:12]"
   ]
  },
  {
   "cell_type": "code",
   "execution_count": 11,
   "id": "0834a2d8-5e01-4a40-9541-0a871f18ff2a",
   "metadata": {},
   "outputs": [
    {
     "name": "stdout",
     "output_type": "stream",
     "text": [
      "1.14 s ± 310 ms per loop (mean ± std. dev. of 7 runs, 1 loop each)\n"
     ]
    },
    {
     "data": {
      "text/plain": [
       "True"
      ]
     },
     "execution_count": 11,
     "metadata": {},
     "output_type": "execute_result"
    }
   ],
   "source": [
    "%timeit BPold({term: 1}, 'SPIN').to_binary().to_spin() == BPold({term: 1}, 'SPIN')\n",
    "BPold({term: 1}, 'SPIN').to_binary().to_spin() == BPold({term: 1}, 'SPIN')"
   ]
  },
  {
   "cell_type": "code",
   "execution_count": 12,
   "id": "a7e72459-4dce-458d-84d4-bf6ddf925e33",
   "metadata": {},
   "outputs": [
    {
     "name": "stdout",
     "output_type": "stream",
     "text": [
      "1.22 s ± 265 ms per loop (mean ± std. dev. of 7 runs, 1 loop each)\n"
     ]
    },
    {
     "data": {
      "text/plain": [
       "True"
      ]
     },
     "execution_count": 12,
     "metadata": {},
     "output_type": "execute_result"
    }
   ],
   "source": [
    "%timeit BPold({term: 1}, 'BINARY').to_spin().to_binary() == BPold({term: 1}, 'BINARY')\n",
    "BPold({term: 1}, 'BINARY').to_spin().to_binary() == BPold({term: 1}, 'BINARY')"
   ]
  },
  {
   "cell_type": "code",
   "execution_count": 13,
   "id": "a8af1d2f-e9d4-4fe6-9129-173589c30d9b",
   "metadata": {},
   "outputs": [
    {
     "data": {
      "text/plain": [
       "4096"
      ]
     },
     "execution_count": 13,
     "metadata": {},
     "output_type": "execute_result"
    }
   ],
   "source": [
    "len(BPold({term: 1}, 'SPIN').to_binary().to_spin())"
   ]
  },
  {
   "cell_type": "code",
   "execution_count": 14,
   "id": "45b7c9d6-cc7a-475e-adaf-8fa4649119a6",
   "metadata": {},
   "outputs": [
    {
     "data": {
      "text/plain": [
       "4096"
      ]
     },
     "execution_count": 14,
     "metadata": {},
     "output_type": "execute_result"
    }
   ],
   "source": [
    "len(BPold({term: 1}, 'BINARY').to_spin().to_binary())"
   ]
  },
  {
   "cell_type": "code",
   "execution_count": 15,
   "id": "a4a0ea46-a6a5-47f7-8f4e-47fa480c492d",
   "metadata": {},
   "outputs": [
    {
     "name": "stdout",
     "output_type": "stream",
     "text": [
      " "
     ]
    },
    {
     "data": {
      "text/plain": [
       "         19196037 function calls (19196032 primitive calls) in 21.734 seconds\n",
       "\n",
       "   Ordered by: cumulative time\n",
       "   List reduced from 66 to 20 due to restriction <20>\n",
       "\n",
       "   ncalls  tottime  percall  cumtime  percall filename:lineno(function)\n",
       "        1    0.000    0.000   21.734   21.734 {built-in method builtins.exec}\n",
       "        1    0.000    0.000   21.733   21.733 <string>:1(<module>)\n",
       "      2/1   15.297    7.648   21.733   21.733 polynomial.py:232(relabel_variables)\n",
       "  7237640    2.147    0.000    2.887    0.000 polynomial.py:256(<genexpr>)\n",
       "   544686    1.648    0.000    2.116    0.000 _collections_abc.py:742(__iter__)\n",
       "  6874522    0.740    0.000    0.740    0.000 {method 'get' of 'dict' objects}\n",
       "   363120    0.462    0.000    0.608    0.000 polynomial.py:158(__setitem__)\n",
       "        1    0.000    0.000    0.517    0.517 polynomial.py:177(copy)\n",
       "        1    0.000    0.000    0.517    0.517 decorators.py:289(new_f)\n",
       "        1    0.200    0.200    0.517    0.517 polynomial.py:89(__init__)\n",
       "  1452484    0.347    0.000    0.479    0.000 polynomial.py:32(asfrozenset)\n",
       "   544683    0.313    0.000    0.468    0.000 polynomial.py:149(__getitem__)\n",
       "   363120    0.282    0.000    0.409    0.000 polynomial.py:120(__delitem__)\n",
       "        1    0.012    0.012    0.134    0.134 polynomial.py:165(variables)\n",
       "  1452493    0.132    0.000    0.132    0.000 {built-in method builtins.isinstance}\n",
       "        1    0.122    0.122    0.122    0.122 {method 'union' of 'set' objects}\n",
       "363133/363129    0.031    0.000    0.031    0.000 {built-in method builtins.len}\n",
       "        1    0.000    0.000    0.000    0.000 inspect.py:1340(getcallargs)\n",
       "        3    0.000    0.000    0.000    0.000 utilities.py:351(iter_safe_relabels)\n",
       "        1    0.000    0.000    0.000    0.000 inspect.py:1102(getfullargspec)"
      ]
     },
     "metadata": {},
     "output_type": "display_data"
    }
   ],
   "source": [
    "prun -s cumtime -l 20 bp2 = bp.relabel_variables(dict(zip(string.ascii_letters, reversed(string.ascii_letters))), inplace=False)"
   ]
  },
  {
   "cell_type": "code",
   "execution_count": 16,
   "id": "7eeadfa9-40e8-41c5-bcf5-39d1ca2fbd00",
   "metadata": {},
   "outputs": [
    {
     "name": "stdout",
     "output_type": "stream",
     "text": [
      " "
     ]
    },
    {
     "data": {
      "text/plain": [
       "         19196034 function calls (19196029 primitive calls) in 18.191 seconds\n",
       "\n",
       "   Ordered by: cumulative time\n",
       "   List reduced from 63 to 20 due to restriction <20>\n",
       "\n",
       "   ncalls  tottime  percall  cumtime  percall filename:lineno(function)\n",
       "        1    0.000    0.000   18.191   18.191 {built-in method builtins.exec}\n",
       "        1    0.000    0.000   18.191   18.191 <string>:1(<module>)\n",
       "      2/1    9.913    4.957   18.191   18.191 polynomial.py:232(relabel_variables)\n",
       "  7237640    2.937    0.000    3.940    0.000 polynomial.py:256(<genexpr>)\n",
       "   544686    1.989    0.000    2.508    0.000 _collections_abc.py:742(__iter__)\n",
       "  6874522    1.003    0.000    1.003    0.000 {method 'get' of 'dict' objects}\n",
       "   363120    0.674    0.000    0.886    0.000 polynomial.py:158(__setitem__)\n",
       "  1452484    0.430    0.000    0.592    0.000 polynomial.py:32(asfrozenset)\n",
       "   363120    0.404    0.000    0.565    0.000 polynomial.py:120(__delitem__)\n",
       "   544683    0.350    0.000    0.519    0.000 polynomial.py:149(__getitem__)\n",
       "        1    0.000    0.000    0.477    0.477 polynomial.py:177(copy)\n",
       "        1    0.000    0.000    0.477    0.477 decorators.py:289(new_f)\n",
       "        1    0.178    0.178    0.477    0.477 polynomial.py:89(__init__)\n",
       "  1452493    0.161    0.000    0.161    0.000 {built-in method builtins.isinstance}\n",
       "        1    0.009    0.009    0.122    0.122 polynomial.py:165(variables)\n",
       "        1    0.113    0.113    0.113    0.113 {method 'union' of 'set' objects}\n",
       "363133/363129    0.030    0.000    0.030    0.000 {built-in method builtins.len}\n",
       "        3    0.000    0.000    0.000    0.000 utilities.py:351(iter_safe_relabels)\n",
       "        1    0.000    0.000    0.000    0.000 inspect.py:1340(getcallargs)\n",
       "        1    0.000    0.000    0.000    0.000 inspect.py:1102(getfullargspec)"
      ]
     },
     "metadata": {},
     "output_type": "display_data"
    }
   ],
   "source": [
    "prun -s cumtime -l 20 bp3 = bp2.relabel_variables(dict(zip(string.ascii_letters, reversed(string.ascii_letters))), inplace=False)"
   ]
  },
  {
   "cell_type": "code",
   "execution_count": 17,
   "id": "0791493b-2ded-4b56-84ea-accb50f0de3d",
   "metadata": {},
   "outputs": [
    {
     "data": {
      "text/plain": [
       "False"
      ]
     },
     "execution_count": 17,
     "metadata": {},
     "output_type": "execute_result"
    }
   ],
   "source": [
    "bp == bp2"
   ]
  },
  {
   "cell_type": "code",
   "execution_count": 18,
   "id": "3efb0d30-46a3-41f5-bebc-7d9a18d17e41",
   "metadata": {},
   "outputs": [
    {
     "data": {
      "text/plain": [
       "True"
      ]
     },
     "execution_count": 18,
     "metadata": {},
     "output_type": "execute_result"
    }
   ],
   "source": [
    "bp == bp3"
   ]
  },
  {
   "cell_type": "code",
   "execution_count": 19,
   "id": "a81ab133-322d-4f93-a9d3-5abd8b49d6ab",
   "metadata": {},
   "outputs": [
    {
     "data": {
      "text/plain": [
       "False"
      ]
     },
     "execution_count": 19,
     "metadata": {},
     "output_type": "execute_result"
    }
   ],
   "source": [
    "bp2 == bp3"
   ]
  },
  {
   "cell_type": "markdown",
   "id": "81473689-9ece-45a7-85a0-389d0418be3e",
   "metadata": {
    "tags": []
   },
   "source": [
    "# Exit interpreter\n",
    "I just can't get module reloading to work properly here ..."
   ]
  },
  {
   "cell_type": "code",
   "execution_count": 20,
   "id": "673fe5b0-5934-4b40-a418-62122e867aa9",
   "metadata": {},
   "outputs": [
    {
     "name": "stdout",
     "output_type": "stream",
     "text": [
      "BYE\n"
     ]
    },
    {
     "ename": "SystemExit",
     "evalue": "",
     "output_type": "error",
     "traceback": [
      "An exception has occurred, use %tb to see the full traceback.\n",
      "\u001b[0;31mSystemExit\u001b[0m\n"
     ]
    },
    {
     "name": "stderr",
     "output_type": "stream",
     "text": [
      "/home/daniel/anaconda3/lib/python3.8/site-packages/IPython/core/interactiveshell.py:3449: UserWarning: To exit: use 'exit', 'quit', or Ctrl-D.\n",
      "  warn(\"To exit: use 'exit', 'quit', or Ctrl-D.\", stacklevel=1)\n"
     ]
    }
   ],
   "source": [
    "print('BYE')\n",
    "exit()\n",
    "raise SystemExit\n",
    "print('HI')"
   ]
  },
  {
   "cell_type": "markdown",
   "id": "8d68e1c7-8d3c-40ae-acdd-360edccad297",
   "metadata": {},
   "source": [
    "# Proposed"
   ]
  },
  {
   "cell_type": "markdown",
   "id": "c2041ccc-e502-4135-b067-159d85043378",
   "metadata": {
    "tags": []
   },
   "source": [
    "## Create test example"
   ]
  },
  {
   "cell_type": "code",
   "execution_count": 1,
   "id": "370178a2-f029-4e9b-b4f7-f4c051df686c",
   "metadata": {},
   "outputs": [
    {
     "name": "stdout",
     "output_type": "stream",
     "text": [
      "<function _binary_product at 0x7f35ef682790>\n"
     ]
    }
   ],
   "source": [
    "import string, random, toolz, pandas, importlib, sys, os, cytoolz, toolz, dimod"
   ]
  },
  {
   "cell_type": "code",
   "execution_count": 2,
   "id": "47e01614-89da-426a-8f4d-a546fe454328",
   "metadata": {},
   "outputs": [],
   "source": [
    "import itertools as it"
   ]
  },
  {
   "cell_type": "code",
   "execution_count": 3,
   "id": "a2199fbe-fa29-4286-b93a-eadba3b739e3",
   "metadata": {},
   "outputs": [
    {
     "name": "stdout",
     "output_type": "stream",
     "text": [
      "CPU times: user 147 ms, sys: 606 µs, total: 148 ms\n",
      "Wall time: 147 ms\n"
     ]
    }
   ],
   "source": [
    "%time terms = [(term, 1) for term in ''.join(random.choices(string.ascii_letters, k=10**6)).split('Z')]"
   ]
  },
  {
   "cell_type": "code",
   "execution_count": 4,
   "id": "5707eff9-710b-4799-87bc-99bed0eed866",
   "metadata": {},
   "outputs": [
    {
     "data": {
      "text/plain": [
       "count    19393.000000\n",
       "mean        50.565049\n",
       "std         51.640829\n",
       "min          0.000000\n",
       "25%         14.000000\n",
       "50%         35.000000\n",
       "75%         69.000000\n",
       "max        548.000000\n",
       "dtype: float64"
      ]
     },
     "execution_count": 4,
     "metadata": {},
     "output_type": "execute_result"
    }
   ],
   "source": [
    "pandas.Series(len(term) for term, _ in terms).describe()"
   ]
  },
  {
   "cell_type": "markdown",
   "id": "75dbfea5-3022-4652-89f2-e41f0b822abd",
   "metadata": {},
   "source": [
    "## Run proposed version"
   ]
  },
  {
   "cell_type": "code",
   "execution_count": 5,
   "id": "6f8b616f-1835-4723-83c3-dc189b891a94",
   "metadata": {},
   "outputs": [
    {
     "name": "stdout",
     "output_type": "stream",
     "text": [
      "dimod/higherorder/polynomial.py: needs merge\n",
      "polynomial-perf.ipynb: needs merge\n",
      "error: you need to resolve your current index first\n",
      "No stash entries found.\n"
     ]
    }
   ],
   "source": [
    "!mv polynomial-perf.ipynb{,.bak}\n",
    "!git checkout binary-polynomial\n",
    "!git stash pop\n",
    "#!touch -c ./dimod/higherorder/polynomial.py\n",
    "#importlib.reload(dimod)"
   ]
  },
  {
   "cell_type": "code",
   "execution_count": 6,
   "id": "6e5ac6a3-5a9a-4147-8909-0b09208d66c2",
   "metadata": {},
   "outputs": [],
   "source": [
    "from dimod import BinaryPolynomial as BPnew"
   ]
  },
  {
   "cell_type": "code",
   "execution_count": 7,
   "id": "b8472b21-b3e6-4c19-b860-d2631dd78065",
   "metadata": {},
   "outputs": [
    {
     "data": {
      "text/plain": [
       "\u001b[0;31mSignature:\u001b[0m \u001b[0mBPnew\u001b[0m\u001b[0;34m.\u001b[0m\u001b[0m__init__\u001b[0m\u001b[0;34m(\u001b[0m\u001b[0mself\u001b[0m\u001b[0;34m,\u001b[0m \u001b[0mpoly\u001b[0m\u001b[0;34m,\u001b[0m \u001b[0mvartype\u001b[0m\u001b[0;34m)\u001b[0m\u001b[0;34m\u001b[0m\u001b[0;34m\u001b[0m\u001b[0m\n",
       "\u001b[0;31mDocstring:\u001b[0m Initialize self.  See help(type(self)) for accurate signature.\n",
       "\u001b[0;31mSource:\u001b[0m   \n",
       "    \u001b[0;34m@\u001b[0m\u001b[0mvartype_argument\u001b[0m\u001b[0;34m(\u001b[0m\u001b[0;34m'vartype'\u001b[0m\u001b[0;34m)\u001b[0m\u001b[0;34m\u001b[0m\n",
       "\u001b[0;34m\u001b[0m    \u001b[0;32mdef\u001b[0m \u001b[0m__init__\u001b[0m\u001b[0;34m(\u001b[0m\u001b[0mself\u001b[0m\u001b[0;34m,\u001b[0m \u001b[0mpoly\u001b[0m\u001b[0;34m,\u001b[0m \u001b[0mvartype\u001b[0m\u001b[0;34m)\u001b[0m\u001b[0;34m:\u001b[0m\u001b[0;34m\u001b[0m\n",
       "\u001b[0;34m\u001b[0m        \u001b[0;32mif\u001b[0m \u001b[0misinstance\u001b[0m\u001b[0;34m(\u001b[0m\u001b[0mpoly\u001b[0m\u001b[0;34m,\u001b[0m \u001b[0mabc\u001b[0m\u001b[0;34m.\u001b[0m\u001b[0mMapping\u001b[0m\u001b[0;34m)\u001b[0m\u001b[0;34m:\u001b[0m\u001b[0;34m\u001b[0m\n",
       "\u001b[0;34m\u001b[0m            \u001b[0mpoly\u001b[0m \u001b[0;34m=\u001b[0m \u001b[0mpoly\u001b[0m\u001b[0;34m.\u001b[0m\u001b[0mitems\u001b[0m\u001b[0;34m(\u001b[0m\u001b[0;34m)\u001b[0m\u001b[0;34m\u001b[0m\n",
       "\u001b[0;34m\u001b[0m\u001b[0;34m\u001b[0m\n",
       "\u001b[0;34m\u001b[0m        \u001b[0;31m# we need to aggregate the repeated terms\u001b[0m\u001b[0;34m\u001b[0m\n",
       "\u001b[0;34m\u001b[0m\u001b[0;34m\u001b[0m\n",
       "\u001b[0;34m\u001b[0m        \u001b[0mself\u001b[0m\u001b[0;34m.\u001b[0m\u001b[0m_terms\u001b[0m \u001b[0;34m=\u001b[0m \u001b[0mterms\u001b[0m \u001b[0;34m=\u001b[0m \u001b[0mdefaultdict\u001b[0m\u001b[0;34m(\u001b[0m\u001b[0mint\u001b[0m\u001b[0;34m)\u001b[0m\u001b[0;34m\u001b[0m\n",
       "\u001b[0;34m\u001b[0m        \u001b[0;32mfor\u001b[0m \u001b[0mterm\u001b[0m\u001b[0;34m,\u001b[0m \u001b[0mbias\u001b[0m \u001b[0;32min\u001b[0m \u001b[0mpoly\u001b[0m\u001b[0;34m:\u001b[0m\u001b[0;34m\u001b[0m\n",
       "\u001b[0;34m\u001b[0m            \u001b[0mterms\u001b[0m\u001b[0;34m[\u001b[0m\u001b[0mfreeze_term\u001b[0m\u001b[0;34m(\u001b[0m\u001b[0mterm\u001b[0m\u001b[0;34m,\u001b[0m \u001b[0mvartype\u001b[0m\u001b[0;34m)\u001b[0m\u001b[0;34m]\u001b[0m \u001b[0;34m+=\u001b[0m \u001b[0mbias\u001b[0m\u001b[0;34m\u001b[0m\n",
       "\u001b[0;34m\u001b[0m        \u001b[0;34m\u001b[0m\n",
       "\u001b[0;34m\u001b[0m        \u001b[0mself\u001b[0m\u001b[0;34m.\u001b[0m\u001b[0mvartype\u001b[0m \u001b[0;34m=\u001b[0m \u001b[0mvartype\u001b[0m\u001b[0;34m\u001b[0m\u001b[0;34m\u001b[0m\u001b[0m\n",
       "\u001b[0;31mFile:\u001b[0m      ~/dimod/dimod/higherorder/polynomial.py\n",
       "\u001b[0;31mType:\u001b[0m      function\n"
      ]
     },
     "metadata": {},
     "output_type": "display_data"
    }
   ],
   "source": [
    "BPnew.__init__??"
   ]
  },
  {
   "cell_type": "code",
   "execution_count": 8,
   "id": "9065a62a-4c71-4f58-843b-65f611bc4848",
   "metadata": {},
   "outputs": [
    {
     "data": {
      "text/plain": [
       "         406093 function calls (406013 primitive calls) in 0.221 seconds\n",
       "\n",
       "   Ordered by: cumulative time\n",
       "   List reduced from 46 to 20 due to restriction <20>\n",
       "\n",
       "   ncalls  tottime  percall  cumtime  percall filename:lineno(function)\n",
       "        1    0.000    0.000    0.221    0.221 {built-in method builtins.exec}\n",
       "        1    0.000    0.000    0.221    0.221 <string>:1(<module>)\n",
       "        1    0.000    0.000    0.221    0.221 decorators.py:289(new_f)\n",
       "        1    0.016    0.016    0.221    0.221 polynomial.py:108(__init__)\n",
       "    19393    0.152    0.000    0.205    0.000 polynomial.py:40(freeze_term)\n",
       "   347711    0.050    0.000    0.050    0.000 polynomial.py:47(<genexpr>)\n",
       "    19403    0.002    0.000    0.002    0.000 {built-in method builtins.isinstance}\n",
       "    19394    0.002    0.000    0.002    0.000 {method 'items' of 'dict' objects}\n",
       "        1    0.000    0.000    0.000    0.000 abc.py:96(__instancecheck__)\n",
       "        1    0.000    0.000    0.000    0.000 {built-in method _abc._abc_instancecheck}\n",
       "     41/1    0.000    0.000    0.000    0.000 abc.py:100(__subclasscheck__)\n",
       "     41/1    0.000    0.000    0.000    0.000 {built-in method _abc._abc_subclasscheck}\n",
       "        1    0.000    0.000    0.000    0.000 inspect.py:1340(getcallargs)\n",
       "        1    0.000    0.000    0.000    0.000 inspect.py:1102(getfullargspec)\n",
       "        1    0.000    0.000    0.000    0.000 inspect.py:2218(_signature_from_callable)\n",
       "        1    0.000    0.000    0.000    0.000 inspect.py:2124(_signature_from_function)\n",
       "        1    0.000    0.000    0.000    0.000 decorators.py:281(_enforce_single_arg)\n",
       "        1    0.000    0.000    0.000    0.000 inspect.py:2772(__init__)\n",
       "        1    0.000    0.000    0.000    0.000 vartypes.py:127(as_vartype)\n",
       "        3    0.000    0.000    0.000    0.000 inspect.py:2489(__init__)"
      ]
     },
     "metadata": {},
     "output_type": "display_data"
    },
    {
     "name": "stdout",
     "output_type": "stream",
     "text": [
      " "
     ]
    }
   ],
   "source": [
    "%%prun -s cumtime -l 20 \n",
    "bp = BPnew(terms, 'SPIN')"
   ]
  },
  {
   "cell_type": "code",
   "execution_count": 9,
   "id": "b9f0d049-5b6f-4521-a6c9-f6d0f529b8a8",
   "metadata": {},
   "outputs": [
    {
     "data": {
      "text/html": [
       "<div>\n",
       "<style scoped>\n",
       "    .dataframe tbody tr th:only-of-type {\n",
       "        vertical-align: middle;\n",
       "    }\n",
       "\n",
       "    .dataframe tbody tr th {\n",
       "        vertical-align: top;\n",
       "    }\n",
       "\n",
       "    .dataframe thead th {\n",
       "        text-align: right;\n",
       "    }\n",
       "</style>\n",
       "<table border=\"1\" class=\"dataframe\">\n",
       "  <thead>\n",
       "    <tr style=\"text-align: right;\">\n",
       "      <th></th>\n",
       "      <th>0</th>\n",
       "      <th>1</th>\n",
       "    </tr>\n",
       "  </thead>\n",
       "  <tbody>\n",
       "    <tr>\n",
       "      <th>count</th>\n",
       "      <td>18602.000000</td>\n",
       "      <td>18602.000000</td>\n",
       "    </tr>\n",
       "    <tr>\n",
       "      <th>mean</th>\n",
       "      <td>17.624341</td>\n",
       "      <td>1.042522</td>\n",
       "    </tr>\n",
       "    <tr>\n",
       "      <th>std</th>\n",
       "      <td>7.647118</td>\n",
       "      <td>2.870007</td>\n",
       "    </tr>\n",
       "    <tr>\n",
       "      <th>min</th>\n",
       "      <td>0.000000</td>\n",
       "      <td>1.000000</td>\n",
       "    </tr>\n",
       "    <tr>\n",
       "      <th>25%</th>\n",
       "      <td>12.000000</td>\n",
       "      <td>1.000000</td>\n",
       "    </tr>\n",
       "    <tr>\n",
       "      <th>50%</th>\n",
       "      <td>19.000000</td>\n",
       "      <td>1.000000</td>\n",
       "    </tr>\n",
       "    <tr>\n",
       "      <th>75%</th>\n",
       "      <td>24.000000</td>\n",
       "      <td>1.000000</td>\n",
       "    </tr>\n",
       "    <tr>\n",
       "      <th>max</th>\n",
       "      <td>38.000000</td>\n",
       "      <td>389.000000</td>\n",
       "    </tr>\n",
       "  </tbody>\n",
       "</table>\n",
       "</div>"
      ],
      "text/plain": [
       "                  0             1\n",
       "count  18602.000000  18602.000000\n",
       "mean      17.624341      1.042522\n",
       "std        7.647118      2.870007\n",
       "min        0.000000      1.000000\n",
       "25%       12.000000      1.000000\n",
       "50%       19.000000      1.000000\n",
       "75%       24.000000      1.000000\n",
       "max       38.000000    389.000000"
      ]
     },
     "execution_count": 9,
     "metadata": {},
     "output_type": "execute_result"
    }
   ],
   "source": [
    "pandas.DataFrame((len(term), bias) for term, bias in bp.items()).describe()"
   ]
  },
  {
   "cell_type": "code",
   "execution_count": 10,
   "id": "e396116b-8b48-4e80-b780-63e6918d75e3",
   "metadata": {
    "tags": []
   },
   "outputs": [],
   "source": [
    "term = string.ascii_letters[:12]"
   ]
  },
  {
   "cell_type": "code",
   "execution_count": 11,
   "id": "251c2cf3-d1e0-4f81-8b2d-0bfe3b809afc",
   "metadata": {},
   "outputs": [
    {
     "name": "stdout",
     "output_type": "stream",
     "text": [
      "887 ms ± 162 ms per loop (mean ± std. dev. of 7 runs, 1 loop each)\n"
     ]
    },
    {
     "data": {
      "text/plain": [
       "True"
      ]
     },
     "execution_count": 11,
     "metadata": {},
     "output_type": "execute_result"
    }
   ],
   "source": [
    "%timeit BPnew({term: 1}, 'SPIN').to_binary().to_spin() == BPnew({term: 1}, 'SPIN')\n",
    "BPnew({term: 1}, 'SPIN').to_binary().to_spin() == BPnew({term: 1}, 'SPIN')"
   ]
  },
  {
   "cell_type": "code",
   "execution_count": 12,
   "id": "1b734eee-3346-4ccf-a46b-b7f1062d7146",
   "metadata": {},
   "outputs": [
    {
     "name": "stdout",
     "output_type": "stream",
     "text": [
      "1.25 s ± 226 ms per loop (mean ± std. dev. of 7 runs, 1 loop each)\n"
     ]
    },
    {
     "data": {
      "text/plain": [
       "True"
      ]
     },
     "execution_count": 12,
     "metadata": {},
     "output_type": "execute_result"
    }
   ],
   "source": [
    "%timeit BPnew({term: 1}, 'BINARY').to_spin().to_binary() == BPnew({term: 1}, 'BINARY')\n",
    "BPnew({term: 1}, 'BINARY').to_spin().to_binary() == BPnew({term: 1}, 'BINARY')"
   ]
  },
  {
   "cell_type": "code",
   "execution_count": 13,
   "id": "cd914370-6d26-4549-8ac1-409b9cfb0d42",
   "metadata": {},
   "outputs": [
    {
     "data": {
      "text/plain": [
       "4096"
      ]
     },
     "execution_count": 13,
     "metadata": {},
     "output_type": "execute_result"
    }
   ],
   "source": [
    "len(BPnew({term: 1}, 'BINARY').to_spin().to_binary())"
   ]
  },
  {
   "cell_type": "code",
   "execution_count": 14,
   "id": "9b8ea924-76fe-4dfc-9b0f-1e526c38f0ce",
   "metadata": {},
   "outputs": [
    {
     "data": {
      "text/plain": [
       "4096"
      ]
     },
     "execution_count": 14,
     "metadata": {},
     "output_type": "execute_result"
    }
   ],
   "source": [
    "len(BPnew({term: 1}, 'SPIN').to_binary().to_spin())"
   ]
  },
  {
   "cell_type": "code",
   "execution_count": null,
   "id": "3cec6003-377c-4ce2-aaff-195413a5d7f0",
   "metadata": {},
   "outputs": [],
   "source": []
  },
  {
   "cell_type": "code",
   "execution_count": 15,
   "id": "5855d98a-3560-4ff4-8717-c71e7a5b9322",
   "metadata": {},
   "outputs": [],
   "source": [
    "#len(BPnew({term: 1}, 'BINARY').to_spin() * BPnew({term: 1}, 'BINARY').to_spin())"
   ]
  },
  {
   "cell_type": "code",
   "execution_count": 16,
   "id": "8f1025ab-14a5-4ab2-b636-aae76d82b1cb",
   "metadata": {},
   "outputs": [
    {
     "name": "stdout",
     "output_type": "stream",
     "text": [
      " "
     ]
    },
    {
     "data": {
      "text/plain": [
       "         1832419 function calls (1832414 primitive calls) in 0.652 seconds\n",
       "\n",
       "   Ordered by: cumulative time\n",
       "   List reduced from 67 to 20 due to restriction <20>\n",
       "\n",
       "   ncalls  tottime  percall  cumtime  percall filename:lineno(function)\n",
       "        1    0.000    0.000    0.652    0.652 {built-in method builtins.exec}\n",
       "        1    0.000    0.000    0.652    0.652 <string>:1(<module>)\n",
       "      2/1    0.301    0.151    0.652    0.652 polynomial.py:236(relabel_variables)\n",
       "   692900    0.152    0.000    0.202    0.000 polynomial.py:260(<genexpr>)\n",
       "    55809    0.033    0.000    0.063    0.000 _collections_abc.py:742(__iter__)\n",
       "   655700    0.051    0.000    0.051    0.000 {method 'get' of 'dict' objects}\n",
       "    37202    0.025    0.000    0.035    0.000 polynomial.py:162(__setitem__)\n",
       "   130210    0.024    0.000    0.031    0.000 polynomial.py:35(asfrozenset)\n",
       "        1    0.000    0.000    0.030    0.030 polynomial.py:181(copy)\n",
       "        1    0.000    0.000    0.030    0.030 decorators.py:289(new_f)\n",
       "    55806    0.018    0.000    0.030    0.000 polynomial.py:153(__getitem__)\n",
       "        1    0.010    0.010    0.030    0.030 polynomial.py:108(__init__)\n",
       "    37202    0.015    0.000    0.024    0.000 polynomial.py:124(__delitem__)\n",
       "        1    0.002    0.002    0.013    0.013 polynomial.py:169(variables)\n",
       "        1    0.011    0.011    0.011    0.011 {method 'union' of 'set' objects}\n",
       "   148821    0.009    0.000    0.009    0.000 {built-in method builtins.isinstance}\n",
       "    18602    0.003    0.000    0.004    0.000 polynomial.py:40(freeze_term)\n",
       "        3    0.000    0.000    0.000    0.000 utilities.py:351(iter_safe_relabels)\n",
       "        1    0.000    0.000    0.000    0.000 inspect.py:1340(getcallargs)\n",
       "        1    0.000    0.000    0.000    0.000 inspect.py:1102(getfullargspec)"
      ]
     },
     "metadata": {},
     "output_type": "display_data"
    }
   ],
   "source": [
    "prun -s cumtime -l 20 bp2 = bp.relabel_variables(dict(zip(string.ascii_letters, reversed(string.ascii_letters))), inplace=False)"
   ]
  },
  {
   "cell_type": "code",
   "execution_count": 17,
   "id": "f28b9d31-00f6-4d19-a799-4aebd8dcdf77",
   "metadata": {},
   "outputs": [
    {
     "name": "stdout",
     "output_type": "stream",
     "text": [
      " "
     ]
    },
    {
     "data": {
      "text/plain": [
       "         1832416 function calls (1832411 primitive calls) in 0.594 seconds\n",
       "\n",
       "   Ordered by: cumulative time\n",
       "   List reduced from 64 to 20 due to restriction <20>\n",
       "\n",
       "   ncalls  tottime  percall  cumtime  percall filename:lineno(function)\n",
       "        1    0.000    0.000    0.594    0.594 {built-in method builtins.exec}\n",
       "        1    0.000    0.000    0.594    0.594 <string>:1(<module>)\n",
       "      2/1    0.227    0.113    0.594    0.594 polynomial.py:236(relabel_variables)\n",
       "   692900    0.154    0.000    0.208    0.000 polynomial.py:260(<genexpr>)\n",
       "    55809    0.036    0.000    0.069    0.000 _collections_abc.py:742(__iter__)\n",
       "   655700    0.054    0.000    0.054    0.000 {method 'get' of 'dict' objects}\n",
       "    37202    0.027    0.000    0.037    0.000 polynomial.py:162(__setitem__)\n",
       "        1    0.000    0.000    0.033    0.033 polynomial.py:181(copy)\n",
       "        1    0.000    0.000    0.033    0.033 decorators.py:289(new_f)\n",
       "   130210    0.024    0.000    0.033    0.000 polynomial.py:35(asfrozenset)\n",
       "        1    0.011    0.011    0.033    0.033 polynomial.py:108(__init__)\n",
       "    55806    0.020    0.000    0.033    0.000 polynomial.py:153(__getitem__)\n",
       "    37202    0.018    0.000    0.027    0.000 polynomial.py:124(__delitem__)\n",
       "   148821    0.010    0.000    0.010    0.000 {built-in method builtins.isinstance}\n",
       "        1    0.001    0.001    0.010    0.010 polynomial.py:169(variables)\n",
       "        1    0.009    0.009    0.009    0.009 {method 'union' of 'set' objects}\n",
       "    18602    0.003    0.000    0.004    0.000 polynomial.py:40(freeze_term)\n",
       "        3    0.000    0.000    0.000    0.000 utilities.py:351(iter_safe_relabels)\n",
       "        1    0.000    0.000    0.000    0.000 inspect.py:1340(getcallargs)\n",
       "        1    0.000    0.000    0.000    0.000 inspect.py:1102(getfullargspec)"
      ]
     },
     "metadata": {},
     "output_type": "display_data"
    }
   ],
   "source": [
    "prun -s cumtime -l 20 bp3 = bp2.relabel_variables(dict(zip(string.ascii_letters, reversed(string.ascii_letters))), inplace=False)"
   ]
  },
  {
   "cell_type": "code",
   "execution_count": 18,
   "id": "1feeafa7-7b82-4936-8907-1d9e2cb2f09f",
   "metadata": {},
   "outputs": [
    {
     "data": {
      "text/plain": [
       "False"
      ]
     },
     "execution_count": 18,
     "metadata": {},
     "output_type": "execute_result"
    }
   ],
   "source": [
    "bp == bp2"
   ]
  },
  {
   "cell_type": "code",
   "execution_count": 19,
   "id": "2b68eedb-625d-4b55-913e-eca731039285",
   "metadata": {},
   "outputs": [
    {
     "data": {
      "text/plain": [
       "True"
      ]
     },
     "execution_count": 19,
     "metadata": {},
     "output_type": "execute_result"
    }
   ],
   "source": [
    "bp == bp3"
   ]
  },
  {
   "cell_type": "code",
   "execution_count": 20,
   "id": "f26be75b-8a2f-4825-9c5d-61cb22cb23da",
   "metadata": {},
   "outputs": [
    {
     "data": {
      "text/plain": [
       "False"
      ]
     },
     "execution_count": 20,
     "metadata": {},
     "output_type": "execute_result"
    }
   ],
   "source": [
    "bp2 == bp3"
   ]
  },
  {
   "cell_type": "code",
   "execution_count": 21,
   "id": "7ac90b1e-af50-42e1-89f5-7c3274d9bff0",
   "metadata": {},
   "outputs": [],
   "source": [
    "import numpy as np\n",
    "%load_ext line_profiler"
   ]
  },
  {
   "cell_type": "code",
   "execution_count": 22,
   "id": "3ff64574-290e-4e1d-ba85-5dc597c31258",
   "metadata": {},
   "outputs": [],
   "source": [
    "#%lprun -fdimod.make_quadratic  bqm = dimod.make_quadratic(bp, vartype = 'BINARY', strength = 2**6)"
   ]
  },
  {
   "cell_type": "code",
   "execution_count": 23,
   "id": "7ac382c2-abc7-43e2-b599-8320b48d89f4",
   "metadata": {},
   "outputs": [],
   "source": [
    "import functools as ft\n",
    "import itertools as it\n",
    "import cytoolz as tl\n",
    "from dimod.higherorder.utils import _new_product, as_vartype\n",
    "from collections import defaultdict"
   ]
  },
  {
   "cell_type": "code",
   "execution_count": 24,
   "id": "cbb733a7-ea7a-44f8-87d5-2b53c5ea28a7",
   "metadata": {},
   "outputs": [
    {
     "name": "stdout",
     "output_type": "stream",
     "text": [
      "CPU times: user 18.1 s, sys: 1.19 s, total: 19.3 s\n",
      "Wall time: 19.3 s\n"
     ]
    }
   ],
   "source": [
    "%%time\n",
    "idx = defaultdict(\n",
    "    dict,\n",
    "    tl.valmap(\n",
    "        tl.compose(dict, ft.partial(map, tl.second)),\n",
    "        tl.groupby(\n",
    "            tl.first,\n",
    "            (\n",
    "                (frozenset(pair), item)\n",
    "                for item in bp.items()\n",
    "                if len(term := tl.first(item)) >= 3\n",
    "                for pair in it.combinations(term, 2) ))))"
   ]
  },
  {
   "cell_type": "code",
   "execution_count": 25,
   "id": "fb73bc93-03de-477b-9157-faf63ea0736a",
   "metadata": {},
   "outputs": [
    {
     "data": {
      "text/plain": [
       "1275"
      ]
     },
     "execution_count": 25,
     "metadata": {},
     "output_type": "execute_result"
    }
   ],
   "source": [
    "len(idx)"
   ]
  },
  {
   "cell_type": "code",
   "execution_count": 26,
   "id": "b2b90337-0e71-4fec-939e-0999b9e9e3cc",
   "metadata": {
    "tags": []
   },
   "outputs": [],
   "source": [
    "#idx"
   ]
  },
  {
   "cell_type": "code",
   "execution_count": 27,
   "id": "21d519e4-d50e-46de-8dd6-3b38a495f75e",
   "metadata": {
    "tags": []
   },
   "outputs": [],
   "source": [
    "#bp"
   ]
  },
  {
   "cell_type": "code",
   "execution_count": 28,
   "id": "a522c29b-62b8-4019-b096-cd03e6bc67c4",
   "metadata": {
    "tags": []
   },
   "outputs": [],
   "source": [
    "#terms"
   ]
  },
  {
   "cell_type": "code",
   "execution_count": 29,
   "id": "e6a2909a-6752-46de-a52f-7c5754837c21",
   "metadata": {},
   "outputs": [
    {
     "data": {
      "text/plain": [
       "2720"
      ]
     },
     "execution_count": 29,
     "metadata": {},
     "output_type": "execute_result"
    }
   ],
   "source": [
    "que = tl.valmap(tl.compose(set, ft.partial(map, tl.first)), tl.groupby(tl.second, tl.valmap(len, idx).items()))\n",
    "most = max(que)\n",
    "most"
   ]
  },
  {
   "cell_type": "code",
   "execution_count": 30,
   "id": "8b50b60f-64f1-4f8a-ace0-af13fe2e5dbd",
   "metadata": {},
   "outputs": [
    {
     "data": {
      "text/plain": [
       "frozenset({'F', 'J'})"
      ]
     },
     "execution_count": 30,
     "metadata": {},
     "output_type": "execute_result"
    }
   ],
   "source": [
    "que[most].pop()"
   ]
  },
  {
   "cell_type": "code",
   "execution_count": 31,
   "id": "f8dbcabd-74d7-43c2-b6a0-d30628e6e5e1",
   "metadata": {},
   "outputs": [
    {
     "data": {
      "text/plain": [
       "set()"
      ]
     },
     "execution_count": 31,
     "metadata": {},
     "output_type": "execute_result"
    }
   ],
   "source": [
    "que[most]"
   ]
  },
  {
   "cell_type": "code",
   "execution_count": 32,
   "id": "52a46763-7cd9-491c-8608-88982806650b",
   "metadata": {},
   "outputs": [],
   "source": [
    "constraints = []\n",
    "reduced_terms = [item for item in bp.items() if len(tl.first(item)) <= 2]\n",
    "pair, terms = tl.topk(1, idx.items(), tl.compose(len,tl.second))[0]\n",
    "p = _new_product(bp.variables, *pair)\n",
    "constraints.append((pair, p))\n",
    "del idx[pair]\n",
    "pset = {p}"
   ]
  },
  {
   "cell_type": "code",
   "execution_count": 33,
   "id": "365b65f0-41c1-4dbb-8bab-aea72369c98a",
   "metadata": {},
   "outputs": [],
   "source": [
    "for term, bias in terms.items():\n",
    "    for pair2 in map(frozenset, (it.combinations(term, 2))):\n",
    "        if pair2 != pair:\n",
    "            del idx[pair2][term]\n",
    "    base_term = term - pair\n",
    "    new_term = base_term | pset\n",
    "    if len(new_term) <= 3:\n",
    "        reduced_terms.append((new_term, bias))\n",
    "    else:\n",
    "        for pair3 in map(frozenset, it.combinations(new_term, 2)):\n",
    "            idx[pair3][new_term] = bias"
   ]
  },
  {
   "cell_type": "code",
   "execution_count": 34,
   "id": "6999b196-287e-4454-981d-4217a0135b1c",
   "metadata": {
    "tags": []
   },
   "outputs": [],
   "source": [
    "#reduced_terms"
   ]
  },
  {
   "cell_type": "code",
   "execution_count": 35,
   "id": "33266725-1494-4ffb-9855-cba3e8f1d36c",
   "metadata": {},
   "outputs": [
    {
     "data": {
      "text/plain": [
       "[(frozenset({'F', 'J'}), 'J*F')]"
      ]
     },
     "execution_count": 35,
     "metadata": {},
     "output_type": "execute_result"
    }
   ],
   "source": [
    "constraints"
   ]
  },
  {
   "cell_type": "code",
   "execution_count": 36,
   "id": "186eb239-28d8-4f49-953c-ef168d371060",
   "metadata": {
    "tags": []
   },
   "outputs": [],
   "source": [
    "#terms"
   ]
  },
  {
   "cell_type": "code",
   "execution_count": 37,
   "id": "42cb3775-6408-48e7-adc4-e612c314b0ad",
   "metadata": {
    "tags": []
   },
   "outputs": [
    {
     "data": {
      "text/plain": [
       "((frozenset({'K', 'Y'}), 2689),\n",
       " (frozenset({'A', 'T'}), 2680),\n",
       " (frozenset({'C', 'l'}), 2674),\n",
       " (frozenset({'C', 'p'}), 2671),\n",
       " (frozenset({'L', 'M'}), 2670))"
      ]
     },
     "execution_count": 37,
     "metadata": {},
     "output_type": "execute_result"
    }
   ],
   "source": [
    "tl.topk(5, tl.valmap(len, idx).items(), tl.second)"
   ]
  },
  {
   "cell_type": "code",
   "execution_count": 38,
   "id": "28138875-8a2d-42a2-b102-85a10c387ac0",
   "metadata": {},
   "outputs": [],
   "source": [
    "def reduce_terms(bp):\n",
    "    variables = bp.variables\n",
    "    constraints = []\n",
    "    reduced_terms = [item for item in bp.items() if len(tl.first(item)) <= 2]\n",
    "\n",
    "    idx = defaultdict(\n",
    "        dict,\n",
    "        tl.valmap(\n",
    "            tl.compose(dict, ft.partial(map, tl.second)),\n",
    "            tl.groupby(\n",
    "                tl.first,\n",
    "                (\n",
    "                    (frozenset(pair), item)\n",
    "                    for item in bp.items()\n",
    "                    if len(term := tl.first(item)) >= 3\n",
    "                    for pair in it.combinations(term, 2) ))))\n",
    "\n",
    "    que = defaultdict(\n",
    "        set,\n",
    "        tl.valmap(\n",
    "            tl.compose(set, ft.partial(map, tl.first)),\n",
    "            tl.groupby(tl.second, tl.valmap(len, idx).items())))\n",
    "\n",
    "    while idx:\n",
    "        new_pairs = set()\n",
    "        most = max(que)\n",
    "        \n",
    "        #print(most, que[most])\n",
    "        #_, (pair, terms) = max((len(tl.second(item)), item) for item in idx.items())\n",
    "        #pair, terms = max(idx.items(), key=tl.compose(len,tl.second))\n",
    "        \n",
    "        que_most = que[most]\n",
    "        pair = que_most.pop()\n",
    "        if not que_most:\n",
    "            del que[most]\n",
    "        terms = idx[pair]\n",
    "        \n",
    "        p = _new_product(variables, *pair)\n",
    "        constraints.append((pair, p))\n",
    "        del idx[pair]\n",
    "        pset = {p}\n",
    "\n",
    "        for term, bias in terms.items():\n",
    "            for pair2 in map(frozenset, (it.combinations(term, 2))):\n",
    "                if pair2 != pair:\n",
    "                    if pair2 & pair:\n",
    "                        count = len(idx[pair2])\n",
    "                        que_count = que[count]\n",
    "                        que_count.remove(pair2)\n",
    "                        if not que_count:\n",
    "                            del que[count]\n",
    "                        if count > 1:\n",
    "                            que[count - 1].add(pair2)\n",
    "                    idx_pair2 = idx[pair2]\n",
    "                    del idx_pair2[term]\n",
    "                    if not idx_pair2:\n",
    "                        del idx[pair2]\n",
    "    \n",
    "            new_term = (term - pair) | pset\n",
    "            if len(new_term) <= 2:\n",
    "                reduced_terms.append((new_term, bias))\n",
    "            else:\n",
    "                for new_pair in map(frozenset, it.combinations(new_term, 2)):\n",
    "                    idx[new_pair][new_term] = bias\n",
    "                    if p in new_pair:\n",
    "                        new_pairs.add(new_pair)\n",
    "                        \n",
    "        for new_pair in new_pairs:\n",
    "            que[len(idx[new_pair])].add(new_pair)\n",
    "\n",
    "    return reduced_terms, constraints"
   ]
  },
  {
   "cell_type": "code",
   "execution_count": 39,
   "id": "faee8bfe-222d-447d-8e10-3e03e9dbb9fb",
   "metadata": {},
   "outputs": [
    {
     "name": "stdout",
     "output_type": "stream",
     "text": [
      " "
     ]
    },
    {
     "data": {
      "text/plain": [
       "         25411126 function calls in 70.785 seconds\n",
       "\n",
       "   Ordered by: cumulative time\n",
       "\n",
       "   ncalls  tottime  percall  cumtime  percall filename:lineno(function)\n",
       "        1    0.000    0.000   70.785   70.785 {built-in method builtins.exec}\n",
       "        1    0.004    0.004   70.785   70.785 <string>:1(<module>)\n",
       "        1   56.359   56.359   70.781   70.781 4179918042.py:1(reduce_terms)\n",
       "  3268667   10.024    0.000   10.063    0.000 4179918042.py:12(<genexpr>)\n",
       "  5919520    2.057    0.000    2.057    0.000 {method 'remove' of 'set' objects}\n",
       "  8977662    1.580    0.000    1.580    0.000 {method 'add' of 'set' objects}\n",
       "  6724636    0.548    0.000    0.548    0.000 {built-in method builtins.len}\n",
       "    58933    0.045    0.000    0.079    0.000 utils.py:88(_new_product)\n",
       "    37206    0.021    0.000    0.053    0.000 _collections_abc.py:742(__iter__)\n",
       "    58933    0.036    0.000    0.036    0.000 {built-in method builtins.max}\n",
       "    37204    0.020    0.000    0.033    0.000 polynomial.py:153(__getitem__)\n",
       "    58933    0.027    0.000    0.027    0.000 {method 'format' of 'str' objects}\n",
       "        1    0.007    0.007    0.026    0.026 4179918042.py:4(<listcomp>)\n",
       "    77142    0.014    0.000    0.014    0.000 {method 'append' of 'list' objects}\n",
       "    58933    0.013    0.000    0.013    0.000 {method 'pop' of 'set' objects}\n",
       "    37204    0.009    0.000    0.013    0.000 polynomial.py:35(asfrozenset)\n",
       "        1    0.001    0.001    0.012    0.012 polynomial.py:169(variables)\n",
       "        1    0.010    0.010    0.010    0.010 {method 'union' of 'set' objects}\n",
       "    58934    0.006    0.000    0.006    0.000 {method 'items' of 'dict' objects}\n",
       "    37204    0.004    0.000    0.004    0.000 {built-in method builtins.isinstance}\n",
       "        2    0.000    0.000    0.000    0.000 _collections_abc.py:676(items)\n",
       "        2    0.000    0.000    0.000    0.000 polynomial.py:156(__iter__)\n",
       "        2    0.000    0.000    0.000    0.000 _collections_abc.py:698(__init__)\n",
       "        2    0.000    0.000    0.000    0.000 {built-in method builtins.iter}\n",
       "        1    0.000    0.000    0.000    0.000 {method 'disable' of '_lsprof.Profiler' objects}"
      ]
     },
     "metadata": {},
     "output_type": "display_data"
    }
   ],
   "source": [
    "%prun -s cumtime -l 30 reduced_terms, constraints = reduce_terms(bp)"
   ]
  },
  {
   "cell_type": "code",
   "execution_count": 40,
   "id": "0b9b2c67-05fa-4a86-8c3a-acc15119e861",
   "metadata": {},
   "outputs": [
    {
     "data": {
      "text/plain": [
       "(18602, 58933)"
      ]
     },
     "execution_count": 40,
     "metadata": {},
     "output_type": "execute_result"
    }
   ],
   "source": [
    "len(reduced_terms), len(constraints)"
   ]
  },
  {
   "cell_type": "code",
   "execution_count": 41,
   "id": "179f7b4b-7895-4a12-824b-0f42c855727e",
   "metadata": {},
   "outputs": [],
   "source": [
    "#%prun -s cumtime -l 30 bqm = dimod.make_quadratic(bp, 1000, 'BINARY')"
   ]
  },
  {
   "cell_type": "code",
   "execution_count": 42,
   "id": "9c4d1250-75ad-422a-8f20-04af19be39f7",
   "metadata": {},
   "outputs": [
    {
     "name": "stdout",
     "output_type": "stream",
     "text": [
      "<function _binary_product at 0x7f35ef682790>\n"
     ]
    }
   ],
   "source": [
    "import itertools\n",
    "import warnings\n",
    "\n",
    "from collections import Counter\n",
    "\n",
    "import numpy as np\n",
    "\n",
    "\n",
    "from dimod.higherorder.utils import _new_product, as_vartype, _binary_product, _new_aux, _spin_product\n",
    "print(_binary_product)\n",
    "from dimod.binary_quadratic_model import BinaryQuadraticModel\n",
    "from dimod.higherorder.polynomial import BinaryPolynomial\n",
    "from dimod.sampleset import as_samples\n",
    "from dimod.vartypes import as_vartype, Vartype\n",
    "\n",
    "def make_quadratic(poly, strength, vartype=None, bqm=None):\n",
    "    \"\"\"Create a binary quadratic model from a higher order polynomial.\n",
    "\n",
    "    Args:\n",
    "        poly (dict):\n",
    "            Polynomial as a dict of form {term: bias, ...}, where `term` is a tuple of\n",
    "            variables and `bias` the associated bias.\n",
    "\n",
    "        strength (float):\n",
    "            The energy penalty for violating the prodcut constraint.\n",
    "            Insufficient strength can result in the binary quadratic model not\n",
    "            having the same minimizations as the polynomial.\n",
    "\n",
    "        vartype (:class:`.Vartype`/str/set, optional):\n",
    "            Variable type for the binary quadratic model. Accepted input values:\n",
    "\n",
    "            * :class:`.Vartype.SPIN`, ``'SPIN'``, ``{-1, 1}``\n",
    "            * :class:`.Vartype.BINARY`, ``'BINARY'``, ``{0, 1}``\n",
    "\n",
    "            If `bqm` is provided, `vartype` is not required.\n",
    "\n",
    "        bqm (:class:`.BinaryQuadraticModel`, optional):\n",
    "            The terms of the reduced polynomial are added to this binary quadratic model.\n",
    "            If not provided, a new binary quadratic model is created.\n",
    "\n",
    "    Returns:\n",
    "        :class:`.BinaryQuadraticModel`\n",
    "\n",
    "    Examples:\n",
    "\n",
    "        >>> poly = {(0,): -1, (1,): 1, (2,): 1.5, (0, 1): -1, (0, 1, 2): -2}\n",
    "        >>> bqm = dimod.make_quadratic(poly, 5.0, dimod.SPIN)\n",
    "\n",
    "    \"\"\"\n",
    "    if vartype is None:\n",
    "        if bqm is None:\n",
    "            raise ValueError(\"one of vartype or bqm must be provided\")\n",
    "        else:\n",
    "            vartype = bqm.vartype\n",
    "    else:\n",
    "        vartype = as_vartype(vartype)  # handle other vartype inputs\n",
    "        if bqm is None:\n",
    "            bqm = BinaryQuadraticModel.empty(vartype)\n",
    "        else:\n",
    "            bqm = bqm.change_vartype(vartype, inplace=False)\n",
    "\n",
    "    # for backwards compatibility, add an info field\n",
    "    if not hasattr(bqm, 'info'):\n",
    "        bqm.info = {}\n",
    "    bqm.info['reduction'] = {}\n",
    "\n",
    "    if poly.vartype !=vartype:\n",
    "        poly = BinaryPolynomial(poly, vartype=vartype)\n",
    "\n",
    "    variables = set().union(*poly)\n",
    "    reduced_terms, constraints = dimod.higherorder.utils.reduce_terms(poly)\n",
    "  \n",
    "    for (u, v), p in constraints:\n",
    "\n",
    "        # add a constraint enforcing the relationship between p == u*v\n",
    "        if vartype is Vartype.BINARY:\n",
    "            constraint = _binary_product([u, v, p])\n",
    "            bqm.info['reduction'][(u, v)] = {'product': p}\n",
    "        elif vartype is Vartype.SPIN:\n",
    "            aux = _new_aux(variables, u, v)  # need an aux in SPIN-space\n",
    "            constraint = _spin_product([u, v, p, aux])\n",
    "            bqm.info['reduction'][(u, v)] = {'product': p, 'auxiliary': aux}\n",
    "        else:\n",
    "            raise RuntimeError(\"unknown vartype: {!r}\".format(vartype))\n",
    "\n",
    "        # scale constraint and update the polynomial with it\n",
    "        constraint.scale(strength)\n",
    "        for v, bias in constraint.linear.items():\n",
    "            bqm.add_variable(v, bias)\n",
    "        for uv, bias in constraint.quadratic.items():\n",
    "            bqm.add_interaction(*uv, bias)\n",
    "        bqm.offset += constraint.offset\n",
    "\n",
    "    for term, bias in reduced_terms:\n",
    "        if len(term) == 2:\n",
    "            bqm.add_interaction(*term , bias)\n",
    "        elif len(term) == 1:\n",
    "            bqm.add_variable(*term, bias)\n",
    "        elif len(term) == 0:\n",
    "            bqm.offset += bias\n",
    "        else:\n",
    "            # still has higher order terms, this shouldn't happen\n",
    "            msg = ('Internal error: not all higher-order terms were reduced. '\n",
    "                   'Please file a bug report.')\n",
    "            raise RuntimeError(msg)\n",
    "\n",
    "    return bqm"
   ]
  },
  {
   "cell_type": "code",
   "execution_count": 43,
   "id": "9ca15f52-6ab1-4743-9c3f-3293512dc758",
   "metadata": {},
   "outputs": [],
   "source": [
    "zz = set(range(4))"
   ]
  },
  {
   "cell_type": "code",
   "execution_count": 44,
   "id": "24d32eb7-61af-4c89-80bf-87583d1d9a65",
   "metadata": {},
   "outputs": [
    {
     "data": {
      "text/plain": [
       "Timer unit: 1e-06 s\n",
       "\n",
       "Total time: 0.07269 s\n",
       "File: /home/daniel/dimod/dimod/higherorder/utils.py\n",
       "Function: reduce_terms at line 106\n",
       "\n",
       "Line #      Hits         Time  Per Hit   % Time  Line Contents\n",
       "==============================================================\n",
       "   106                                           def reduce_terms(bp):\n",
       "   107         1          6.0      6.0      0.0      variables = bp.variables\n",
       "   108         1          1.0      1.0      0.0      constraints = []\n",
       "   109         1         20.0     20.0      0.0      reduced_terms = [item for item in bp.items() if len(tl.first(item)) <= 2]\n",
       "   110                                           \n",
       "   111         2         24.0     12.0      0.0      idx = defaultdict(\n",
       "   112         1          1.0      1.0      0.0          dict,\n",
       "   113         2        644.0    322.0      0.9          tl.valmap(\n",
       "   114         1         11.0     11.0      0.0              tl.compose(dict, ft.partial(map, tl.second)),\n",
       "   115         2       1881.0    940.5      2.6              tl.groupby(\n",
       "   116         1          0.0      0.0      0.0                  tl.first,\n",
       "   117         2          3.0      1.5      0.0                  (\n",
       "   118                                                               (frozenset(pair), item)\n",
       "   119         1          2.0      2.0      0.0                      for item in bp.items()\n",
       "   120                                                               if len(term := tl.first(item)) >= 3\n",
       "   121                                                               for pair in it.combinations(term, 2) ))))\n",
       "   122                                           \n",
       "   123         2          3.0      1.5      0.0      que = defaultdict(\n",
       "   124         1          2.0      2.0      0.0          set,\n",
       "   125         2         66.0     33.0      0.1          tl.valmap(\n",
       "   126         1          8.0      8.0      0.0              tl.compose(set, ft.partial(map, tl.first)),\n",
       "   127         1        112.0    112.0      0.2              tl.groupby(tl.second, tl.valmap(len, idx).items())))\n",
       "   128                                           \n",
       "   129        31         32.0      1.0      0.0      while idx:\n",
       "   130        30         83.0      2.8      0.1          new_pairs = set()\n",
       "   131        30         85.0      2.8      0.1          most = max(que)\n",
       "   132                                           \n",
       "   133                                                   #print(most, que[most])\n",
       "   134                                                   #_, (pair, terms) = max((len(tl.second(item)), item) for item in idx.items())\n",
       "   135                                                   #pair, terms = max(idx.items(), key=tl.compose(len,tl.second))\n",
       "   136                                           \n",
       "   137        30         27.0      0.9      0.0          que_most = que[most]\n",
       "   138        30         60.0      2.0      0.1          pair = que_most.pop()\n",
       "   139        30         31.0      1.0      0.0          if not que_most:\n",
       "   140                                                       del que[most]\n",
       "   141        30         67.0      2.2      0.1          terms = idx[pair]\n",
       "   142                                           \n",
       "   143        30        474.0     15.8      0.7          p = _new_product(variables, *pair)\n",
       "   144        30         53.0      1.8      0.1          constraints.append((pair, p))\n",
       "   145        30         41.0      1.4      0.1          del idx[pair]\n",
       "   146        30         38.0      1.3      0.1          pset = {p}\n",
       "   147                                           \n",
       "   148        60        144.0      2.4      0.2          for term, bias in terms.items():\n",
       "   149      5485       6347.0      1.2      8.7              for pair2 in map(frozenset, (it.combinations(term, 2))):\n",
       "   150      5455       4861.0      0.9      6.7                  if pair2 != pair:\n",
       "   151      5425       5588.0      1.0      7.7                      if pair2 & pair:\n",
       "   152       930       1304.0      1.4      1.8                          count = len(idx[pair2])\n",
       "   153       930        845.0      0.9      1.2                          que_count = que[count]\n",
       "   154       930       2094.0      2.3      2.9                          que_count.remove(pair2)\n",
       "   155       930       1237.0      1.3      1.7                          if not que_count:\n",
       "   156         1          2.0      2.0      0.0                              del que[count]\n",
       "   157       930        800.0      0.9      1.1                          if count > 1:\n",
       "   158                                                                       que[count - 1].add(pair2)\n",
       "   159      5425       7460.0      1.4     10.3                      idx_pair2 = idx[pair2]\n",
       "   160      5425       5826.0      1.1      8.0                      del idx_pair2[term]\n",
       "   161      5425       4569.0      0.8      6.3                      if not idx_pair2:\n",
       "   162      5425       5848.0      1.1      8.0                          del idx[pair2]\n",
       "   163                                           \n",
       "   164        30        245.0      8.2      0.3              new_term = (term - pair) | pset\n",
       "   165        30         58.0      1.9      0.1              if len(new_term) <= 2:\n",
       "   166         1          3.0      3.0      0.0                  reduced_terms.append((new_term, bias))\n",
       "   167                                                       else:\n",
       "   168      4988       7419.0      1.5     10.2                  for new_pair in map(frozenset, it.combinations(new_term, 2)):\n",
       "   169      4959       7160.0      1.4      9.9                      idx[new_pair][new_term] = bias\n",
       "   170      4959       5301.0      1.1      7.3                      if p in new_pair:\n",
       "   171       464        649.0      1.4      0.9                          new_pairs.add(new_pair)\n",
       "   172                                           \n",
       "   173       494        519.0      1.1      0.7          for new_pair in new_pairs:\n",
       "   174       464        635.0      1.4      0.9              que[len(idx[new_pair])].add(new_pair)\n",
       "   175                                           \n",
       "   176         1          1.0      1.0      0.0      return reduced_terms, constraints"
      ]
     },
     "metadata": {},
     "output_type": "display_data"
    }
   ],
   "source": [
    "%lprun -fdimod.higherorder.utils.reduce_terms bqm = dimod.make_quadratic(BPnew({term: 1}, 'SPIN'), strength=5, vartype='SPIN')"
   ]
  },
  {
   "cell_type": "code",
   "execution_count": 45,
   "id": "1934c5e7-5e31-4939-aae5-e23f8ede4ea0",
   "metadata": {},
   "outputs": [
    {
     "data": {
      "text/plain": [
       "Timer unit: 1e-06 s\n",
       "\n",
       "Total time: 364.994 s\n",
       "File: /home/daniel/dimod/dimod/higherorder/utils.py\n",
       "Function: reduce_terms at line 106\n",
       "\n",
       "Line #      Hits         Time  Per Hit   % Time  Line Contents\n",
       "==============================================================\n",
       "   106                                               constraints = []\n",
       "   107         1      12957.0  12957.0      0.0      reduced_terms = [item for item in bp.items() if len(tl.first(item)) <= 2]\n",
       "   108         1          3.0      3.0      0.0  \n",
       "   109         1      46129.0  46129.0      0.0      idx = defaultdict(\n",
       "   110                                                   dict,\n",
       "   111         2        458.0    229.0      0.0          tl.valmap(\n",
       "   112         1          2.0      2.0      0.0              tl.compose(dict, partial(map, tl.second)),\n",
       "   113         2    5879020.0 2939510.0      1.6              tl.groupby(\n",
       "   114         1         26.0     26.0      0.0                  tl.first,\n",
       "   115         2   17846109.0 8923054.5      4.9                  (\n",
       "   116         1          2.0      2.0      0.0                      (frozenset(pair), item)\n",
       "   117         2         23.0     11.5      0.0                      for item in bp.items()\n",
       "   118                                                               if len(term := tl.first(item)) >= 3\n",
       "   119         1         32.0     32.0      0.0                      for pair in itertools.combinations(term, 2) ))))\n",
       "   120                                           \n",
       "   121                                               que = defaultdict(\n",
       "   122                                                   set,\n",
       "   123         2         14.0      7.0      0.0          tl.valmap(\n",
       "   124         1          2.0      2.0      0.0              tl.compose(set, partial(map, tl.first)),\n",
       "   125         2        605.0    302.5      0.0              tl.groupby(tl.second, tl.valmap(len, idx).items())))\n",
       "   126         1         15.0     15.0      0.0  \n",
       "   127         1        939.0    939.0      0.0      while idx:\n",
       "   128                                                   new_pairs = set()\n",
       "   129     58934      51804.0      0.9      0.0          most = max(que)\n",
       "   130     58933      88008.0      1.5      0.0  \n",
       "   131     58933     129596.0      2.2      0.0          #print(most, que[most])\n",
       "   132                                                   #_, (pair, terms) = max((len(tl.second(item)), item) for item in idx.items())\n",
       "   133                                                   #pair, terms = max(idx.items(), key=tl.compose(len,tl.second))\n",
       "   134                                           \n",
       "   135                                                   que_most = que[most]\n",
       "   136                                                   pair = que_most.pop()\n",
       "   137     58933      56237.0      1.0      0.0          if not que_most:\n",
       "   138     58933      74910.0      1.3      0.0              del que[most]\n",
       "   139     58933      51279.0      0.9      0.0          terms = idx[pair]\n",
       "   140       307        339.0      1.1      0.0  \n",
       "   141     58933     412141.0      7.0      0.1          p = _new_product(variables, *pair)\n",
       "   142                                                   constraints.append((pair, p))\n",
       "   143     58933     309915.0      5.3      0.1          del idx[pair]\n",
       "   144     58933      77720.0      1.3      0.0          pset = {p}\n",
       "   145     58933      73491.0      1.2      0.0  \n",
       "   146     58933      64554.0      1.1      0.0          for term, bias in terms.items():\n",
       "   147                                                       for pair2 in map(frozenset, (itertools.combinations(term, 2))):\n",
       "   148    349630     715848.0      2.0      0.2                  if pair2 != pair:\n",
       "   149  26322163   31601354.0      1.2      8.7                      if pair2 & pair:\n",
       "   150  26031466   23522489.0      0.9      6.4                          count = len(idx[pair2])\n",
       "   151  25740769   24791172.0      1.0      6.8                          que_count = que[count]\n",
       "   152   5919520   10542398.0      1.8      2.9                          que_count.remove(pair2)\n",
       "   153   5919520    7283210.0      1.2      2.0                          if not que_count:\n",
       "   154   5919520   11160269.0      1.9      3.1                              del que[count]\n",
       "   155   5919520    5136317.0      0.9      1.4                          if count > 1:\n",
       "   156   1275146    1258590.0      1.0      0.3                              que[count - 1].add(pair2)\n",
       "   157   5919520    5160611.0      0.9      1.4                      idx_pair2 = idx[pair2]\n",
       "   158   5499963    9027859.0      1.6      2.5                      del idx_pair2[term]\n",
       "   159  25740769   38298017.0      1.5     10.5                      if not idx_pair2:\n",
       "   160  25740769   46003860.0      1.8     12.6                          del idx[pair2]\n",
       "   161  25740769   21756609.0      0.8      6.0  \n",
       "   162    807706     870552.0      1.1      0.2              new_term = (term - pair) | pset\n",
       "   163                                                       if len(new_term) <= 2:\n",
       "   164    290697    1244477.0      4.3      0.3                  reduced_terms.append((new_term, bias))\n",
       "   165    290697     381118.0      1.3      0.1              else:\n",
       "   166     18209      28056.0      1.5      0.0                  for new_pair in map(frozenset, itertools.combinations(new_term, 2)):\n",
       "   167                                                               idx[new_pair][new_term] = bias\n",
       "   168  23035288   29258154.0      1.3      8.0                      if p in new_pair:\n",
       "   169  22762800   46979493.0      2.1     12.9                          new_pairs.add(new_pair)\n",
       "   170  22762800   20147204.0      0.9      5.5  \n",
       "   171   2941551    3400857.0      1.2      0.9          for new_pair in new_pairs:\n",
       "   172                                                       que[len(idx[new_pair])].add(new_pair)\n",
       "   173    536148     505010.0      0.9      0.1  \n",
       "   174    477215     744440.0      1.6      0.2      return reduced_terms, constraints\n",
       "   175                                           \n",
       "   176         1          1.0      1.0      0.0  \n",
       "   177                                           def make_quadratic(poly, strength, vartype=None, bqm=None):\n",
       "   178                                               \"\"\"Create a binary quadratic model from a higher order polynomial.\n",
       "   179                                           \n",
       "   180                                               Args:\n",
       "   181                                                   poly (dict):\n",
       "   182                                                       Polynomial as a dict of form {term: bias, ...}, where `term` is a tuple of\n",
       "   183                                                       variables and `bias` the associated bias.\n",
       "   184                                           \n",
       "   185                                                   strength (float):\n",
       "   186                                                       The energy penalty for violating the prodcut constraint.\n",
       "   187                                                       Insufficient strength can result in the binary quadratic model not\n",
       "   188                                                       having the same minimizations as the polynomial.\n",
       "   189                                           \n",
       "   190                                                   vartype (:class:`.Vartype`/str/set, optional):\n",
       "   191                                                       Variable type for the binary quadratic model. Accepted input values:\n",
       "   192                                           \n",
       "   193                                                       * :class:`.Vartype.SPIN`, ``'SPIN'``, ``{-1, 1}``\n",
       "   194                                                       * :class:`.Vartype.BINARY`, ``'BINARY'``, ``{0, 1}``\n",
       "   195                                           \n",
       "   196                                                       If `bqm` is provided, `vartype` is not required.\n",
       "   197                                           \n",
       "   198                                                   bqm (:class:`.BinaryQuadraticModel`, optional):\n",
       "   199                                                       The terms of the reduced polynomial are added to this binary quadratic model.\n",
       "   200                                                       If not provided, a new binary quadratic model is created.\n",
       "   201                                           \n",
       "   202                                               Returns:\n",
       "   203                                                   :class:`.BinaryQuadraticModel`\n",
       "   204                                           \n",
       "   205                                               Examples:\n",
       "   206                                           \n",
       "   207                                                   >>> poly = {(0,): -1, (1,): 1, (2,): 1.5, (0, 1): -1, (0, 1, 2): -2}\n",
       "   208                                                   >>> bqm = dimod.make_quadratic(poly, 5.0, dimod.SPIN)\n",
       "   209                                           \n",
       "   210                                               \"\"\"\n",
       "   211                                               if vartype is None:\n",
       "   212                                                   if bqm is None:\n",
       "   213                                                       raise ValueError(\"one of vartype or bqm must be provided\")\n",
       "   214                                                   else:\n",
       "   215                                                       vartype = bqm.vartype\n",
       "   216                                               else:\n",
       "   217                                                   vartype = as_vartype(vartype)  # handle other vartype inputs\n",
       "   218                                                   if bqm is None:\n",
       "   219                                                       bqm = BinaryQuadraticModel.empty(vartype)\n",
       "   220                                                   else:\n",
       "   221                                                       bqm = bqm.change_vartype(vartype, inplace=False)\n",
       "   222                                           \n",
       "   223                                               # for backwards compatibility, add an info field\n",
       "   224                                               if not hasattr(bqm, 'info'):\n",
       "   225                                                   bqm.info = {}\n",
       "   226                                               bqm.info['reduction'] = {}\n",
       "   227                                           \n",
       "   228                                               if poly.vartype !=vartype:\n",
       "   229                                                   poly = BinaryPolynomial(poly, vartype=vartype)\n",
       "   230                                           \n",
       "   231                                               variables = set().union(*poly)\n",
       "   232                                               reduced_terms, constraints = reduce_terms(poly)\n",
       "   233                                             \n",
       "   234                                               for (u, v), p in constraints:\n",
       "   235                                           \n",
       "   236                                                   # add a constraint enforcing the relationship between p == u*v\n",
       "   237                                                   if vartype is Vartype.BINARY:\n",
       "   238                                                       constraint = _binary_product([u, v, p])\n",
       "   239                                                       bqm.info['reduction'][(u, v)] = {'product': p}\n",
       "   240                                                   elif vartype is Vartype.SPIN:\n",
       "   241                                                       aux = _new_aux(variables, u, v)  # need an aux in SPIN-space\n",
       "   242                                                       constraint = _spin_product([u, v, p, aux])\n",
       "   243                                                       bqm.info['reduction'][(u, v)] = {'product': p, 'auxiliary': aux}\n",
       "   244                                                   else:\n",
       "   245                                                       raise RuntimeError(\"unknown vartype: {!r}\".format(vartype))\n",
       "   246                                           \n",
       "   247                                                   # scale constraint and update the polynomial with it\n",
       "   248                                                   constraint.scale(strength)\n",
       "   249                                                   for v, bias in constraint.linear.items():\n",
       "   250                                                       bqm.add_variable(v, bias)\n",
       "   251                                                   for uv, bias in constraint.quadratic.items():\n",
       "   252                                                       bqm.add_interaction(*uv, bias)\n",
       "   253                                                   bqm.offset += constraint.offset\n",
       "   254                                           \n",
       "   255                                               for term, bias in reduced_terms:\n",
       "   256                                                   if len(term) == 2:\n",
       "   257                                                       bqm.add_interaction(*term , bias)\n",
       "   258                                                   elif len(term) == 1:\n",
       "   259                                                       bqm.add_variable(*term, bias)\n",
       "   260                                                   elif len(term) == 0:\n",
       "   261                                                       bqm.offset += bias\n",
       "   262                                                   else:\n",
       "   263                                                       # still has higher order terms, this shouldn't happen\n",
       "   264                                                       msg = ('Internal error: not all higher-order terms were reduced. '\n",
       "   265                                                              'Please file a bug report.')\n",
       "   266                                                       raise RuntimeError(msg)\n",
       "   267                                           \n",
       "   268                                               return bqm"
      ]
     },
     "metadata": {},
     "output_type": "display_data"
    }
   ],
   "source": [
    "%lprun -fdimod.higherorder.utils.reduce_terms bqm = dimod.make_quadratic(bp, strength=5, vartype=bp.vartype)"
   ]
  },
  {
   "cell_type": "code",
   "execution_count": 46,
   "id": "1f1a5a0c-5a2f-4227-9f4b-2b3f4f696ce2",
   "metadata": {},
   "outputs": [
    {
     "name": "stdout",
     "output_type": "stream",
     "text": [
      "CPU times: user 13.2 ms, sys: 9 µs, total: 13.2 ms\n",
      "Wall time: 12.1 ms\n"
     ]
    },
    {
     "data": {
      "text/plain": [
       "92"
      ]
     },
     "execution_count": 46,
     "metadata": {},
     "output_type": "execute_result"
    }
   ],
   "source": [
    "%time len(dimod.make_quadratic(BPnew({term: 1}, 'SPIN'), strength=5, vartype='SPIN'))"
   ]
  },
  {
   "cell_type": "code",
   "execution_count": 47,
   "id": "1963c838-558b-4257-81d2-968c9648ea14",
   "metadata": {},
   "outputs": [
    {
     "data": {
      "text/plain": [
       "\u001b[0;31mSignature:\u001b[0m \u001b[0mmake_quadratic\u001b[0m\u001b[0;34m(\u001b[0m\u001b[0mpoly\u001b[0m\u001b[0;34m,\u001b[0m \u001b[0mstrength\u001b[0m\u001b[0;34m,\u001b[0m \u001b[0mvartype\u001b[0m\u001b[0;34m=\u001b[0m\u001b[0;32mNone\u001b[0m\u001b[0;34m,\u001b[0m \u001b[0mbqm\u001b[0m\u001b[0;34m=\u001b[0m\u001b[0;32mNone\u001b[0m\u001b[0;34m)\u001b[0m\u001b[0;34m\u001b[0m\u001b[0;34m\u001b[0m\u001b[0m\n",
       "\u001b[0;31mSource:\u001b[0m   \n",
       "\u001b[0;32mdef\u001b[0m \u001b[0mmake_quadratic\u001b[0m\u001b[0;34m(\u001b[0m\u001b[0mpoly\u001b[0m\u001b[0;34m,\u001b[0m \u001b[0mstrength\u001b[0m\u001b[0;34m,\u001b[0m \u001b[0mvartype\u001b[0m\u001b[0;34m=\u001b[0m\u001b[0;32mNone\u001b[0m\u001b[0;34m,\u001b[0m \u001b[0mbqm\u001b[0m\u001b[0;34m=\u001b[0m\u001b[0;32mNone\u001b[0m\u001b[0;34m)\u001b[0m\u001b[0;34m:\u001b[0m\u001b[0;34m\u001b[0m\n",
       "\u001b[0;34m\u001b[0m    \u001b[0;34m\"\"\"Create a binary quadratic model from a higher order polynomial.\u001b[0m\n",
       "\u001b[0;34m\u001b[0m\n",
       "\u001b[0;34m    Args:\u001b[0m\n",
       "\u001b[0;34m        poly (dict):\u001b[0m\n",
       "\u001b[0;34m            Polynomial as a dict of form {term: bias, ...}, where `term` is a tuple of\u001b[0m\n",
       "\u001b[0;34m            variables and `bias` the associated bias.\u001b[0m\n",
       "\u001b[0;34m\u001b[0m\n",
       "\u001b[0;34m        strength (float):\u001b[0m\n",
       "\u001b[0;34m            The energy penalty for violating the prodcut constraint.\u001b[0m\n",
       "\u001b[0;34m            Insufficient strength can result in the binary quadratic model not\u001b[0m\n",
       "\u001b[0;34m            having the same minimizations as the polynomial.\u001b[0m\n",
       "\u001b[0;34m\u001b[0m\n",
       "\u001b[0;34m        vartype (:class:`.Vartype`/str/set, optional):\u001b[0m\n",
       "\u001b[0;34m            Variable type for the binary quadratic model. Accepted input values:\u001b[0m\n",
       "\u001b[0;34m\u001b[0m\n",
       "\u001b[0;34m            * :class:`.Vartype.SPIN`, ``'SPIN'``, ``{-1, 1}``\u001b[0m\n",
       "\u001b[0;34m            * :class:`.Vartype.BINARY`, ``'BINARY'``, ``{0, 1}``\u001b[0m\n",
       "\u001b[0;34m\u001b[0m\n",
       "\u001b[0;34m            If `bqm` is provided, `vartype` is not required.\u001b[0m\n",
       "\u001b[0;34m\u001b[0m\n",
       "\u001b[0;34m        bqm (:class:`.BinaryQuadraticModel`, optional):\u001b[0m\n",
       "\u001b[0;34m            The terms of the reduced polynomial are added to this binary quadratic model.\u001b[0m\n",
       "\u001b[0;34m            If not provided, a new binary quadratic model is created.\u001b[0m\n",
       "\u001b[0;34m\u001b[0m\n",
       "\u001b[0;34m    Returns:\u001b[0m\n",
       "\u001b[0;34m        :class:`.BinaryQuadraticModel`\u001b[0m\n",
       "\u001b[0;34m\u001b[0m\n",
       "\u001b[0;34m    Examples:\u001b[0m\n",
       "\u001b[0;34m\u001b[0m\n",
       "\u001b[0;34m        >>> poly = {(0,): -1, (1,): 1, (2,): 1.5, (0, 1): -1, (0, 1, 2): -2}\u001b[0m\n",
       "\u001b[0;34m        >>> bqm = dimod.make_quadratic(poly, 5.0, dimod.SPIN)\u001b[0m\n",
       "\u001b[0;34m\u001b[0m\n",
       "\u001b[0;34m    \"\"\"\u001b[0m\u001b[0;34m\u001b[0m\n",
       "\u001b[0;34m\u001b[0m    \u001b[0;32mif\u001b[0m \u001b[0mvartype\u001b[0m \u001b[0;32mis\u001b[0m \u001b[0;32mNone\u001b[0m\u001b[0;34m:\u001b[0m\u001b[0;34m\u001b[0m\n",
       "\u001b[0;34m\u001b[0m        \u001b[0;32mif\u001b[0m \u001b[0mbqm\u001b[0m \u001b[0;32mis\u001b[0m \u001b[0;32mNone\u001b[0m\u001b[0;34m:\u001b[0m\u001b[0;34m\u001b[0m\n",
       "\u001b[0;34m\u001b[0m            \u001b[0;32mraise\u001b[0m \u001b[0mValueError\u001b[0m\u001b[0;34m(\u001b[0m\u001b[0;34m\"one of vartype or bqm must be provided\"\u001b[0m\u001b[0;34m)\u001b[0m\u001b[0;34m\u001b[0m\n",
       "\u001b[0;34m\u001b[0m        \u001b[0;32melse\u001b[0m\u001b[0;34m:\u001b[0m\u001b[0;34m\u001b[0m\n",
       "\u001b[0;34m\u001b[0m            \u001b[0mvartype\u001b[0m \u001b[0;34m=\u001b[0m \u001b[0mbqm\u001b[0m\u001b[0;34m.\u001b[0m\u001b[0mvartype\u001b[0m\u001b[0;34m\u001b[0m\n",
       "\u001b[0;34m\u001b[0m    \u001b[0;32melse\u001b[0m\u001b[0;34m:\u001b[0m\u001b[0;34m\u001b[0m\n",
       "\u001b[0;34m\u001b[0m        \u001b[0mvartype\u001b[0m \u001b[0;34m=\u001b[0m \u001b[0mas_vartype\u001b[0m\u001b[0;34m(\u001b[0m\u001b[0mvartype\u001b[0m\u001b[0;34m)\u001b[0m  \u001b[0;31m# handle other vartype inputs\u001b[0m\u001b[0;34m\u001b[0m\n",
       "\u001b[0;34m\u001b[0m        \u001b[0;32mif\u001b[0m \u001b[0mbqm\u001b[0m \u001b[0;32mis\u001b[0m \u001b[0;32mNone\u001b[0m\u001b[0;34m:\u001b[0m\u001b[0;34m\u001b[0m\n",
       "\u001b[0;34m\u001b[0m            \u001b[0mbqm\u001b[0m \u001b[0;34m=\u001b[0m \u001b[0mBinaryQuadraticModel\u001b[0m\u001b[0;34m.\u001b[0m\u001b[0mempty\u001b[0m\u001b[0;34m(\u001b[0m\u001b[0mvartype\u001b[0m\u001b[0;34m)\u001b[0m\u001b[0;34m\u001b[0m\n",
       "\u001b[0;34m\u001b[0m        \u001b[0;32melse\u001b[0m\u001b[0;34m:\u001b[0m\u001b[0;34m\u001b[0m\n",
       "\u001b[0;34m\u001b[0m            \u001b[0mbqm\u001b[0m \u001b[0;34m=\u001b[0m \u001b[0mbqm\u001b[0m\u001b[0;34m.\u001b[0m\u001b[0mchange_vartype\u001b[0m\u001b[0;34m(\u001b[0m\u001b[0mvartype\u001b[0m\u001b[0;34m,\u001b[0m \u001b[0minplace\u001b[0m\u001b[0;34m=\u001b[0m\u001b[0;32mFalse\u001b[0m\u001b[0;34m)\u001b[0m\u001b[0;34m\u001b[0m\n",
       "\u001b[0;34m\u001b[0m\u001b[0;34m\u001b[0m\n",
       "\u001b[0;34m\u001b[0m    \u001b[0;31m# for backwards compatibility, add an info field\u001b[0m\u001b[0;34m\u001b[0m\n",
       "\u001b[0;34m\u001b[0m    \u001b[0;32mif\u001b[0m \u001b[0;32mnot\u001b[0m \u001b[0mhasattr\u001b[0m\u001b[0;34m(\u001b[0m\u001b[0mbqm\u001b[0m\u001b[0;34m,\u001b[0m \u001b[0;34m'info'\u001b[0m\u001b[0;34m)\u001b[0m\u001b[0;34m:\u001b[0m\u001b[0;34m\u001b[0m\n",
       "\u001b[0;34m\u001b[0m        \u001b[0mbqm\u001b[0m\u001b[0;34m.\u001b[0m\u001b[0minfo\u001b[0m \u001b[0;34m=\u001b[0m \u001b[0;34m{\u001b[0m\u001b[0;34m}\u001b[0m\u001b[0;34m\u001b[0m\n",
       "\u001b[0;34m\u001b[0m    \u001b[0mbqm\u001b[0m\u001b[0;34m.\u001b[0m\u001b[0minfo\u001b[0m\u001b[0;34m[\u001b[0m\u001b[0;34m'reduction'\u001b[0m\u001b[0;34m]\u001b[0m \u001b[0;34m=\u001b[0m \u001b[0;34m{\u001b[0m\u001b[0;34m}\u001b[0m\u001b[0;34m\u001b[0m\n",
       "\u001b[0;34m\u001b[0m\u001b[0;34m\u001b[0m\n",
       "\u001b[0;34m\u001b[0m    \u001b[0;32mif\u001b[0m \u001b[0mpoly\u001b[0m\u001b[0;34m.\u001b[0m\u001b[0mvartype\u001b[0m \u001b[0;34m!=\u001b[0m\u001b[0mvartype\u001b[0m\u001b[0;34m:\u001b[0m\u001b[0;34m\u001b[0m\n",
       "\u001b[0;34m\u001b[0m        \u001b[0mpoly\u001b[0m \u001b[0;34m=\u001b[0m \u001b[0mBinaryPolynomial\u001b[0m\u001b[0;34m(\u001b[0m\u001b[0mpoly\u001b[0m\u001b[0;34m,\u001b[0m \u001b[0mvartype\u001b[0m\u001b[0;34m=\u001b[0m\u001b[0mvartype\u001b[0m\u001b[0;34m)\u001b[0m\u001b[0;34m\u001b[0m\n",
       "\u001b[0;34m\u001b[0m\u001b[0;34m\u001b[0m\n",
       "\u001b[0;34m\u001b[0m    \u001b[0mvariables\u001b[0m \u001b[0;34m=\u001b[0m \u001b[0mset\u001b[0m\u001b[0;34m(\u001b[0m\u001b[0;34m)\u001b[0m\u001b[0;34m.\u001b[0m\u001b[0munion\u001b[0m\u001b[0;34m(\u001b[0m\u001b[0;34m*\u001b[0m\u001b[0mpoly\u001b[0m\u001b[0;34m)\u001b[0m\u001b[0;34m\u001b[0m\n",
       "\u001b[0;34m\u001b[0m    \u001b[0mreduced_terms\u001b[0m\u001b[0;34m,\u001b[0m \u001b[0mconstraints\u001b[0m \u001b[0;34m=\u001b[0m \u001b[0mdimod\u001b[0m\u001b[0;34m.\u001b[0m\u001b[0mhigherorder\u001b[0m\u001b[0;34m.\u001b[0m\u001b[0mutils\u001b[0m\u001b[0;34m.\u001b[0m\u001b[0mreduce_terms\u001b[0m\u001b[0;34m(\u001b[0m\u001b[0mpoly\u001b[0m\u001b[0;34m)\u001b[0m\u001b[0;34m\u001b[0m\n",
       "\u001b[0;34m\u001b[0m  \u001b[0;34m\u001b[0m\n",
       "\u001b[0;34m\u001b[0m    \u001b[0;32mfor\u001b[0m \u001b[0;34m(\u001b[0m\u001b[0mu\u001b[0m\u001b[0;34m,\u001b[0m \u001b[0mv\u001b[0m\u001b[0;34m)\u001b[0m\u001b[0;34m,\u001b[0m \u001b[0mp\u001b[0m \u001b[0;32min\u001b[0m \u001b[0mconstraints\u001b[0m\u001b[0;34m:\u001b[0m\u001b[0;34m\u001b[0m\n",
       "\u001b[0;34m\u001b[0m\u001b[0;34m\u001b[0m\n",
       "\u001b[0;34m\u001b[0m        \u001b[0;31m# add a constraint enforcing the relationship between p == u*v\u001b[0m\u001b[0;34m\u001b[0m\n",
       "\u001b[0;34m\u001b[0m        \u001b[0;32mif\u001b[0m \u001b[0mvartype\u001b[0m \u001b[0;32mis\u001b[0m \u001b[0mVartype\u001b[0m\u001b[0;34m.\u001b[0m\u001b[0mBINARY\u001b[0m\u001b[0;34m:\u001b[0m\u001b[0;34m\u001b[0m\n",
       "\u001b[0;34m\u001b[0m            \u001b[0mconstraint\u001b[0m \u001b[0;34m=\u001b[0m \u001b[0m_binary_product\u001b[0m\u001b[0;34m(\u001b[0m\u001b[0;34m[\u001b[0m\u001b[0mu\u001b[0m\u001b[0;34m,\u001b[0m \u001b[0mv\u001b[0m\u001b[0;34m,\u001b[0m \u001b[0mp\u001b[0m\u001b[0;34m]\u001b[0m\u001b[0;34m)\u001b[0m\u001b[0;34m\u001b[0m\n",
       "\u001b[0;34m\u001b[0m            \u001b[0mbqm\u001b[0m\u001b[0;34m.\u001b[0m\u001b[0minfo\u001b[0m\u001b[0;34m[\u001b[0m\u001b[0;34m'reduction'\u001b[0m\u001b[0;34m]\u001b[0m\u001b[0;34m[\u001b[0m\u001b[0;34m(\u001b[0m\u001b[0mu\u001b[0m\u001b[0;34m,\u001b[0m \u001b[0mv\u001b[0m\u001b[0;34m)\u001b[0m\u001b[0;34m]\u001b[0m \u001b[0;34m=\u001b[0m \u001b[0;34m{\u001b[0m\u001b[0;34m'product'\u001b[0m\u001b[0;34m:\u001b[0m \u001b[0mp\u001b[0m\u001b[0;34m}\u001b[0m\u001b[0;34m\u001b[0m\n",
       "\u001b[0;34m\u001b[0m        \u001b[0;32melif\u001b[0m \u001b[0mvartype\u001b[0m \u001b[0;32mis\u001b[0m \u001b[0mVartype\u001b[0m\u001b[0;34m.\u001b[0m\u001b[0mSPIN\u001b[0m\u001b[0;34m:\u001b[0m\u001b[0;34m\u001b[0m\n",
       "\u001b[0;34m\u001b[0m            \u001b[0maux\u001b[0m \u001b[0;34m=\u001b[0m \u001b[0m_new_aux\u001b[0m\u001b[0;34m(\u001b[0m\u001b[0mvariables\u001b[0m\u001b[0;34m,\u001b[0m \u001b[0mu\u001b[0m\u001b[0;34m,\u001b[0m \u001b[0mv\u001b[0m\u001b[0;34m)\u001b[0m  \u001b[0;31m# need an aux in SPIN-space\u001b[0m\u001b[0;34m\u001b[0m\n",
       "\u001b[0;34m\u001b[0m            \u001b[0mconstraint\u001b[0m \u001b[0;34m=\u001b[0m \u001b[0m_spin_product\u001b[0m\u001b[0;34m(\u001b[0m\u001b[0;34m[\u001b[0m\u001b[0mu\u001b[0m\u001b[0;34m,\u001b[0m \u001b[0mv\u001b[0m\u001b[0;34m,\u001b[0m \u001b[0mp\u001b[0m\u001b[0;34m,\u001b[0m \u001b[0maux\u001b[0m\u001b[0;34m]\u001b[0m\u001b[0;34m)\u001b[0m\u001b[0;34m\u001b[0m\n",
       "\u001b[0;34m\u001b[0m            \u001b[0mbqm\u001b[0m\u001b[0;34m.\u001b[0m\u001b[0minfo\u001b[0m\u001b[0;34m[\u001b[0m\u001b[0;34m'reduction'\u001b[0m\u001b[0;34m]\u001b[0m\u001b[0;34m[\u001b[0m\u001b[0;34m(\u001b[0m\u001b[0mu\u001b[0m\u001b[0;34m,\u001b[0m \u001b[0mv\u001b[0m\u001b[0;34m)\u001b[0m\u001b[0;34m]\u001b[0m \u001b[0;34m=\u001b[0m \u001b[0;34m{\u001b[0m\u001b[0;34m'product'\u001b[0m\u001b[0;34m:\u001b[0m \u001b[0mp\u001b[0m\u001b[0;34m,\u001b[0m \u001b[0;34m'auxiliary'\u001b[0m\u001b[0;34m:\u001b[0m \u001b[0maux\u001b[0m\u001b[0;34m}\u001b[0m\u001b[0;34m\u001b[0m\n",
       "\u001b[0;34m\u001b[0m        \u001b[0;32melse\u001b[0m\u001b[0;34m:\u001b[0m\u001b[0;34m\u001b[0m\n",
       "\u001b[0;34m\u001b[0m            \u001b[0;32mraise\u001b[0m \u001b[0mRuntimeError\u001b[0m\u001b[0;34m(\u001b[0m\u001b[0;34m\"unknown vartype: {!r}\"\u001b[0m\u001b[0;34m.\u001b[0m\u001b[0mformat\u001b[0m\u001b[0;34m(\u001b[0m\u001b[0mvartype\u001b[0m\u001b[0;34m)\u001b[0m\u001b[0;34m)\u001b[0m\u001b[0;34m\u001b[0m\n",
       "\u001b[0;34m\u001b[0m\u001b[0;34m\u001b[0m\n",
       "\u001b[0;34m\u001b[0m        \u001b[0;31m# scale constraint and update the polynomial with it\u001b[0m\u001b[0;34m\u001b[0m\n",
       "\u001b[0;34m\u001b[0m        \u001b[0mconstraint\u001b[0m\u001b[0;34m.\u001b[0m\u001b[0mscale\u001b[0m\u001b[0;34m(\u001b[0m\u001b[0mstrength\u001b[0m\u001b[0;34m)\u001b[0m\u001b[0;34m\u001b[0m\n",
       "\u001b[0;34m\u001b[0m        \u001b[0;32mfor\u001b[0m \u001b[0mv\u001b[0m\u001b[0;34m,\u001b[0m \u001b[0mbias\u001b[0m \u001b[0;32min\u001b[0m \u001b[0mconstraint\u001b[0m\u001b[0;34m.\u001b[0m\u001b[0mlinear\u001b[0m\u001b[0;34m.\u001b[0m\u001b[0mitems\u001b[0m\u001b[0;34m(\u001b[0m\u001b[0;34m)\u001b[0m\u001b[0;34m:\u001b[0m\u001b[0;34m\u001b[0m\n",
       "\u001b[0;34m\u001b[0m            \u001b[0mbqm\u001b[0m\u001b[0;34m.\u001b[0m\u001b[0madd_variable\u001b[0m\u001b[0;34m(\u001b[0m\u001b[0mv\u001b[0m\u001b[0;34m,\u001b[0m \u001b[0mbias\u001b[0m\u001b[0;34m)\u001b[0m\u001b[0;34m\u001b[0m\n",
       "\u001b[0;34m\u001b[0m        \u001b[0;32mfor\u001b[0m \u001b[0muv\u001b[0m\u001b[0;34m,\u001b[0m \u001b[0mbias\u001b[0m \u001b[0;32min\u001b[0m \u001b[0mconstraint\u001b[0m\u001b[0;34m.\u001b[0m\u001b[0mquadratic\u001b[0m\u001b[0;34m.\u001b[0m\u001b[0mitems\u001b[0m\u001b[0;34m(\u001b[0m\u001b[0;34m)\u001b[0m\u001b[0;34m:\u001b[0m\u001b[0;34m\u001b[0m\n",
       "\u001b[0;34m\u001b[0m            \u001b[0mbqm\u001b[0m\u001b[0;34m.\u001b[0m\u001b[0madd_interaction\u001b[0m\u001b[0;34m(\u001b[0m\u001b[0;34m*\u001b[0m\u001b[0muv\u001b[0m\u001b[0;34m,\u001b[0m \u001b[0mbias\u001b[0m\u001b[0;34m)\u001b[0m\u001b[0;34m\u001b[0m\n",
       "\u001b[0;34m\u001b[0m        \u001b[0mbqm\u001b[0m\u001b[0;34m.\u001b[0m\u001b[0moffset\u001b[0m \u001b[0;34m+=\u001b[0m \u001b[0mconstraint\u001b[0m\u001b[0;34m.\u001b[0m\u001b[0moffset\u001b[0m\u001b[0;34m\u001b[0m\n",
       "\u001b[0;34m\u001b[0m\u001b[0;34m\u001b[0m\n",
       "\u001b[0;34m\u001b[0m    \u001b[0;32mfor\u001b[0m \u001b[0mterm\u001b[0m\u001b[0;34m,\u001b[0m \u001b[0mbias\u001b[0m \u001b[0;32min\u001b[0m \u001b[0mreduced_terms\u001b[0m\u001b[0;34m:\u001b[0m\u001b[0;34m\u001b[0m\n",
       "\u001b[0;34m\u001b[0m        \u001b[0;32mif\u001b[0m \u001b[0mlen\u001b[0m\u001b[0;34m(\u001b[0m\u001b[0mterm\u001b[0m\u001b[0;34m)\u001b[0m \u001b[0;34m==\u001b[0m \u001b[0;36m2\u001b[0m\u001b[0;34m:\u001b[0m\u001b[0;34m\u001b[0m\n",
       "\u001b[0;34m\u001b[0m            \u001b[0mbqm\u001b[0m\u001b[0;34m.\u001b[0m\u001b[0madd_interaction\u001b[0m\u001b[0;34m(\u001b[0m\u001b[0;34m*\u001b[0m\u001b[0mterm\u001b[0m \u001b[0;34m,\u001b[0m \u001b[0mbias\u001b[0m\u001b[0;34m)\u001b[0m\u001b[0;34m\u001b[0m\n",
       "\u001b[0;34m\u001b[0m        \u001b[0;32melif\u001b[0m \u001b[0mlen\u001b[0m\u001b[0;34m(\u001b[0m\u001b[0mterm\u001b[0m\u001b[0;34m)\u001b[0m \u001b[0;34m==\u001b[0m \u001b[0;36m1\u001b[0m\u001b[0;34m:\u001b[0m\u001b[0;34m\u001b[0m\n",
       "\u001b[0;34m\u001b[0m            \u001b[0mbqm\u001b[0m\u001b[0;34m.\u001b[0m\u001b[0madd_variable\u001b[0m\u001b[0;34m(\u001b[0m\u001b[0;34m*\u001b[0m\u001b[0mterm\u001b[0m\u001b[0;34m,\u001b[0m \u001b[0mbias\u001b[0m\u001b[0;34m)\u001b[0m\u001b[0;34m\u001b[0m\n",
       "\u001b[0;34m\u001b[0m        \u001b[0;32melif\u001b[0m \u001b[0mlen\u001b[0m\u001b[0;34m(\u001b[0m\u001b[0mterm\u001b[0m\u001b[0;34m)\u001b[0m \u001b[0;34m==\u001b[0m \u001b[0;36m0\u001b[0m\u001b[0;34m:\u001b[0m\u001b[0;34m\u001b[0m\n",
       "\u001b[0;34m\u001b[0m            \u001b[0mbqm\u001b[0m\u001b[0;34m.\u001b[0m\u001b[0moffset\u001b[0m \u001b[0;34m+=\u001b[0m \u001b[0mbias\u001b[0m\u001b[0;34m\u001b[0m\n",
       "\u001b[0;34m\u001b[0m        \u001b[0;32melse\u001b[0m\u001b[0;34m:\u001b[0m\u001b[0;34m\u001b[0m\n",
       "\u001b[0;34m\u001b[0m            \u001b[0;31m# still has higher order terms, this shouldn't happen\u001b[0m\u001b[0;34m\u001b[0m\n",
       "\u001b[0;34m\u001b[0m            \u001b[0mmsg\u001b[0m \u001b[0;34m=\u001b[0m \u001b[0;34m(\u001b[0m\u001b[0;34m'Internal error: not all higher-order terms were reduced. '\u001b[0m\u001b[0;34m\u001b[0m\n",
       "\u001b[0;34m\u001b[0m                   \u001b[0;34m'Please file a bug report.'\u001b[0m\u001b[0;34m)\u001b[0m\u001b[0;34m\u001b[0m\n",
       "\u001b[0;34m\u001b[0m            \u001b[0;32mraise\u001b[0m \u001b[0mRuntimeError\u001b[0m\u001b[0;34m(\u001b[0m\u001b[0mmsg\u001b[0m\u001b[0;34m)\u001b[0m\u001b[0;34m\u001b[0m\n",
       "\u001b[0;34m\u001b[0m\u001b[0;34m\u001b[0m\n",
       "\u001b[0;34m\u001b[0m    \u001b[0;32mreturn\u001b[0m \u001b[0mbqm\u001b[0m\u001b[0;34m\u001b[0m\u001b[0;34m\u001b[0m\u001b[0m\n",
       "\u001b[0;31mFile:\u001b[0m      /tmp/ipykernel_5867/3448239133.py\n",
       "\u001b[0;31mType:\u001b[0m      function\n"
      ]
     },
     "metadata": {},
     "output_type": "display_data"
    }
   ],
   "source": [
    "make_quadratic??"
   ]
  },
  {
   "cell_type": "code",
   "execution_count": 48,
   "id": "ed0769ec-6d1b-40d2-b110-989f2f068c86",
   "metadata": {},
   "outputs": [
    {
     "ename": "SyntaxError",
     "evalue": "invalid syntax (3330683553.py, line 1)",
     "output_type": "error",
     "traceback": [
      "\u001b[0;36m  File \u001b[0;32m\"/tmp/ipykernel_5867/3330683553.py\"\u001b[0;36m, line \u001b[0;32m1\u001b[0m\n\u001b[0;31m    BinaryPolynomial.\u001b[0m\n\u001b[0m                     ^\u001b[0m\n\u001b[0;31mSyntaxError\u001b[0m\u001b[0;31m:\u001b[0m invalid syntax\n"
     ]
    }
   ],
   "source": [
    "BinaryPolynomial."
   ]
  },
  {
   "cell_type": "code",
   "execution_count": null,
   "id": "4d4d5183-1bb3-4b7f-a8ab-4af55b2c55e7",
   "metadata": {},
   "outputs": [],
   "source": [
    "dimod.BQM"
   ]
  },
  {
   "cell_type": "code",
   "execution_count": null,
   "id": "7fdb1794-06f7-4fdf-a346-2533dc78ca63",
   "metadata": {},
   "outputs": [],
   "source": [
    "itertools"
   ]
  },
  {
   "cell_type": "code",
   "execution_count": null,
   "id": "fac7547a-db9e-4e35-8a5d-99e2aa72d137",
   "metadata": {},
   "outputs": [],
   "source": [
    "%prun -s cumtime -l 20 make_quadratic(bp, 100, vartype='BINARY')"
   ]
  },
  {
   "cell_type": "code",
   "execution_count": null,
   "id": "78014140-af4d-426f-8969-687e2750cfab",
   "metadata": {},
   "outputs": [],
   "source": [
    "from dimod.higherorder import utils"
   ]
  },
  {
   "cell_type": "code",
   "execution_count": null,
   "id": "b806c9a1-3690-4eab-8c6b-f200026cbfb9",
   "metadata": {},
   "outputs": [],
   "source": [
    "%pwd"
   ]
  },
  {
   "cell_type": "code",
   "execution_count": null,
   "id": "bdb58284-1a2d-4880-93ff-b8dd31134d83",
   "metadata": {},
   "outputs": [],
   "source": [
    "bool(set())"
   ]
  },
  {
   "cell_type": "code",
   "execution_count": null,
   "id": "629eea9c-0ccd-464c-afa5-de6d6ea071b2",
   "metadata": {},
   "outputs": [],
   "source": [
    "bool"
   ]
  }
 ],
 "metadata": {
  "kernelspec": {
   "display_name": "Python 3 (ipykernel)",
   "language": "python",
   "name": "python3"
  },
  "language_info": {
   "codemirror_mode": {
    "name": "ipython",
    "version": 3
   },
   "file_extension": ".py",
   "mimetype": "text/x-python",
   "name": "python",
   "nbconvert_exporter": "python",
   "pygments_lexer": "ipython3",
   "version": "3.8.11"
  }
 },
 "nbformat": 4,
 "nbformat_minor": 5
}
